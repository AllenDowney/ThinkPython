{
 "cells": [
  {
   "cell_type": "markdown",
   "id": "b112e25b",
   "metadata": {},
   "source": [
    "You can order print and electronic versions of *Think Python 3e* from\n",
    "[Bookshop.org](https://bookshop.org/a/98697/9781098155438) and\n",
    "[Amazon](https://www.amazon.com/_/dp/1098155432?smid=ATVPDKIKX0DER&_encoding=UTF8&tag=oreilly20-20&_encoding=UTF8&tag=greenteapre01-20&linkCode=ur2&linkId=e2a529f94920295d27ec8a06e757dc7c&camp=1789&creative=9325)."
   ]
  },
  {
   "cell_type": "code",
   "execution_count": null,
   "id": "3466e1f6",
   "metadata": {},
   "outputs": [],
   "source": []
  },
  {
   "cell_type": "code",
   "execution_count": 1,
   "id": "8119ba50",
   "metadata": {
    "tags": [
     "remove-cell"
    ]
   },
   "outputs": [],
   "source": [
    "from os.path import basename, exists\n",
    "\n",
    "def download(url):\n",
    "    filename = basename(url)\n",
    "    if not exists(filename):\n",
    "        from urllib.request import urlretrieve\n",
    "\n",
    "        local, _ = urlretrieve(url, filename)\n",
    "        print(\"Downloaded \" + str(local))\n",
    "    return filename\n",
    "\n",
    "download('https://github.com/AllenDowney/ThinkPython/raw/v3/thinkpython.py');\n",
    "download('https://github.com/AllenDowney/ThinkPython/raw/v3/diagram.py');\n",
    "download('https://github.com/ramalho/jupyturtle/releases/download/2024-03/jupyturtle.py');\n",
    "\n",
    "import thinkpython"
   ]
  },
  {
   "cell_type": "markdown",
   "id": "75b60d6c",
   "metadata": {},
   "source": [
    "# Conditionals and Recursion\n",
    "\n",
    "The main topic of this chapter is the `if` statement, which executes different code depending on the state of the program.\n",
    "And with the `if` statement we'll be able to explore one of the most powerful ideas in computing, **recursion**.\n",
    "\n",
    "But we'll start with three new features: the modulus operator, boolean expressions, and logical operators."
   ]
  },
  {
   "cell_type": "markdown",
   "id": "4ab7caf4",
   "metadata": {},
   "source": [
    "## Integer division and modulus\n",
    "\n",
    "Recall that the integer division operator, `//`, divides two numbers and rounds\n",
    "down to an integer.\n",
    "For example, suppose the run time of a movie is 105 minutes. \n",
    "You might want to know how long that is in hours.\n",
    "Conventional division returns a floating-point number:"
   ]
  },
  {
   "cell_type": "code",
   "execution_count": 2,
   "id": "30bd0ba7",
   "metadata": {},
   "outputs": [
    {
     "data": {
      "text/plain": [
       "1.75"
      ]
     },
     "execution_count": 2,
     "metadata": {},
     "output_type": "execute_result"
    }
   ],
   "source": [
    "minutes = 105\n",
    "minutes / 60"
   ]
  },
  {
   "cell_type": "markdown",
   "id": "3f224403",
   "metadata": {},
   "source": [
    "But we don't normally write hours with decimal points. Floor division\n",
    "returns the integer number of hours, rounding down:"
   ]
  },
  {
   "cell_type": "code",
   "execution_count": 3,
   "id": "451e3198",
   "metadata": {},
   "outputs": [
    {
     "data": {
      "text/plain": [
       "1"
      ]
     },
     "execution_count": 3,
     "metadata": {},
     "output_type": "execute_result"
    }
   ],
   "source": [
    "minutes = 105\n",
    "hours = minutes // 60\n",
    "hours"
   ]
  },
  {
   "cell_type": "markdown",
   "id": "bfa9b0cf",
   "metadata": {},
   "source": [
    "To get the remainder, you could subtract off one hour in minutes:"
   ]
  },
  {
   "cell_type": "code",
   "execution_count": 4,
   "id": "64b92876",
   "metadata": {},
   "outputs": [
    {
     "data": {
      "text/plain": [
       "45"
      ]
     },
     "execution_count": 4,
     "metadata": {},
     "output_type": "execute_result"
    }
   ],
   "source": [
    "remainder = minutes - hours * 60\n",
    "remainder"
   ]
  },
  {
   "cell_type": "markdown",
   "id": "05caf27f",
   "metadata": {},
   "source": [
    "Or you could use the **modulus operator**, `%`, which divides two numbers and returns the remainder."
   ]
  },
  {
   "cell_type": "code",
   "execution_count": 5,
   "id": "0a593844",
   "metadata": {},
   "outputs": [
    {
     "data": {
      "text/plain": [
       "45"
      ]
     },
     "execution_count": 5,
     "metadata": {},
     "output_type": "execute_result"
    }
   ],
   "source": [
    "remainder = minutes % 60\n",
    "remainder"
   ]
  },
  {
   "cell_type": "markdown",
   "id": "f2344fc0",
   "metadata": {},
   "source": [
    "The modulus operator is more useful than it might seem.\n",
    "For example, it can check whether one number is divisible by another -- if `x % y` is zero, then `x` is divisible by `y`.\n",
    "\n",
    "Also, it can extract the right-most digit or digits from a number.\n",
    "For example, `x % 10` yields the right-most digit of `x` (in base 10).\n",
    "Similarly, `x % 100` yields the last two digits.\n",
    "\n",
    "Finally, the modulus operator can do \"clock arithmetic\".\n",
    "For example, if an event starts at 11 AM and lasts three hours, we can use the modulus operator to figure out what time it ends."
   ]
  },
  {
   "cell_type": "code",
   "execution_count": 6,
   "id": "db33a44d",
   "metadata": {},
   "outputs": [
    {
     "data": {
      "text/plain": [
       "2"
      ]
     },
     "execution_count": 6,
     "metadata": {},
     "output_type": "execute_result"
    }
   ],
   "source": [
    "start = 11\n",
    "duration = 3\n",
    "end = (start + duration) % 12\n",
    "end"
   ]
  },
  {
   "cell_type": "markdown",
   "id": "351c30df",
   "metadata": {},
   "source": [
    "The event would end at 2 PM."
   ]
  },
  {
   "cell_type": "code",
   "execution_count": 7,
   "id": "367fce0c",
   "metadata": {},
   "outputs": [
    {
     "data": {
      "text/plain": [
       "(2, 5)"
      ]
     },
     "execution_count": 7,
     "metadata": {},
     "output_type": "execute_result"
    }
   ],
   "source": [
    "a = 25 // 10\n",
    "b = 25 % 10\n",
    "a, b"
   ]
  },
  {
   "cell_type": "markdown",
   "id": "5ed1b58b",
   "metadata": {},
   "source": [
    "## Boolean Expressions\n",
    "\n",
    "A **boolean expression** is an expression that is either true or false.\n",
    "For example, the following expressions use the equals operator, `==`, which compares two values and produces `True` if they are equal and `False` otherwise:"
   ]
  },
  {
   "cell_type": "code",
   "execution_count": 8,
   "id": "85589d38",
   "metadata": {},
   "outputs": [
    {
     "data": {
      "text/plain": [
       "True"
      ]
     },
     "execution_count": 8,
     "metadata": {},
     "output_type": "execute_result"
    }
   ],
   "source": [
    "5 == 5"
   ]
  },
  {
   "cell_type": "code",
   "execution_count": 9,
   "id": "3c9c8f61",
   "metadata": {},
   "outputs": [
    {
     "data": {
      "text/plain": [
       "False"
      ]
     },
     "execution_count": 9,
     "metadata": {},
     "output_type": "execute_result"
    }
   ],
   "source": [
    "5 == 7"
   ]
  },
  {
   "cell_type": "markdown",
   "id": "41fbc642",
   "metadata": {},
   "source": [
    "A common error is to use a single equal sign (`=`) instead of a double equal sign (`==`).\n",
    "Remember that `=` assigns a value to a variable and `==` compares two values. "
   ]
  },
  {
   "cell_type": "code",
   "execution_count": 10,
   "id": "c0e51bcc",
   "metadata": {},
   "outputs": [],
   "source": [
    "x = 5\n",
    "y = 7"
   ]
  },
  {
   "cell_type": "code",
   "execution_count": 11,
   "id": "a6be44db",
   "metadata": {},
   "outputs": [
    {
     "data": {
      "text/plain": [
       "False"
      ]
     },
     "execution_count": 11,
     "metadata": {},
     "output_type": "execute_result"
    }
   ],
   "source": [
    "x == y"
   ]
  },
  {
   "cell_type": "markdown",
   "id": "d3ec6b48",
   "metadata": {},
   "source": [
    "`True` and `False` are special values that belong to the type `bool`;\n",
    "they are not strings:"
   ]
  },
  {
   "cell_type": "code",
   "execution_count": 12,
   "id": "90fb1c9c",
   "metadata": {},
   "outputs": [
    {
     "data": {
      "text/plain": [
       "bool"
      ]
     },
     "execution_count": 12,
     "metadata": {},
     "output_type": "execute_result"
    }
   ],
   "source": [
    "type(True)"
   ]
  },
  {
   "cell_type": "code",
   "execution_count": 13,
   "id": "c1cae572",
   "metadata": {},
   "outputs": [
    {
     "data": {
      "text/plain": [
       "bool"
      ]
     },
     "execution_count": 13,
     "metadata": {},
     "output_type": "execute_result"
    }
   ],
   "source": [
    "type(False)"
   ]
  },
  {
   "cell_type": "markdown",
   "id": "451b2e8d",
   "metadata": {},
   "source": [
    "The `==` operator is one of the **relational operators**; the others are:"
   ]
  },
  {
   "cell_type": "code",
   "execution_count": 14,
   "id": "c901fe2b",
   "metadata": {},
   "outputs": [
    {
     "data": {
      "text/plain": [
       "True"
      ]
     },
     "execution_count": 14,
     "metadata": {},
     "output_type": "execute_result"
    }
   ],
   "source": [
    "x != y               # x is not equal to y"
   ]
  },
  {
   "cell_type": "code",
   "execution_count": 15,
   "id": "1457949f",
   "metadata": {},
   "outputs": [
    {
     "data": {
      "text/plain": [
       "False"
      ]
     },
     "execution_count": 15,
     "metadata": {},
     "output_type": "execute_result"
    }
   ],
   "source": [
    "x > y                # x is greater than y"
   ]
  },
  {
   "cell_type": "code",
   "execution_count": 16,
   "id": "56bb7eed",
   "metadata": {},
   "outputs": [
    {
     "data": {
      "text/plain": [
       "True"
      ]
     },
     "execution_count": 16,
     "metadata": {},
     "output_type": "execute_result"
    }
   ],
   "source": [
    "x < y               # x is less than to y"
   ]
  },
  {
   "cell_type": "code",
   "execution_count": 17,
   "id": "1cdcc7ab",
   "metadata": {},
   "outputs": [
    {
     "data": {
      "text/plain": [
       "False"
      ]
     },
     "execution_count": 17,
     "metadata": {},
     "output_type": "execute_result"
    }
   ],
   "source": [
    "x >= y               # x is greater than or equal to y"
   ]
  },
  {
   "cell_type": "code",
   "execution_count": 18,
   "id": "df1a1287",
   "metadata": {},
   "outputs": [
    {
     "data": {
      "text/plain": [
       "True"
      ]
     },
     "execution_count": 18,
     "metadata": {},
     "output_type": "execute_result"
    }
   ],
   "source": [
    "x <= y               # x is less than or equal to y"
   ]
  },
  {
   "cell_type": "markdown",
   "id": "db5a9477",
   "metadata": {},
   "source": [
    "## Logical operators\n",
    "\n",
    "To combine boolean values into expressions, we can use **logical operators**.\n",
    "The most common are `and`, ` or`, and `not`.\n",
    "The meaning of these operators is similar to their meaning in English.\n",
    "For example, the value of the following expression is `True` only if `x` is greater than `0` *and* less than `10`."
   ]
  },
  {
   "cell_type": "code",
   "execution_count": 19,
   "id": "848c5f2c",
   "metadata": {},
   "outputs": [
    {
     "data": {
      "text/plain": [
       "True"
      ]
     },
     "execution_count": 19,
     "metadata": {},
     "output_type": "execute_result"
    }
   ],
   "source": [
    "x > 0 and x < 10"
   ]
  },
  {
   "cell_type": "markdown",
   "id": "e8c14026",
   "metadata": {},
   "source": [
    "The following expression is `True` if *either or both* of the conditions is true, that is, if the number is divisible by 2 *or* 3:"
   ]
  },
  {
   "cell_type": "code",
   "execution_count": 20,
   "id": "eb66ee6a",
   "metadata": {},
   "outputs": [
    {
     "data": {
      "text/plain": [
       "False"
      ]
     },
     "execution_count": 20,
     "metadata": {},
     "output_type": "execute_result"
    }
   ],
   "source": [
    "x % 2 == 0 or x % 3 == 0"
   ]
  },
  {
   "cell_type": "markdown",
   "id": "3bd0ef52",
   "metadata": {},
   "source": [
    "Finally, the `not` operator negates a boolean expression, so the following expression is `True` if `x > y` is `False`."
   ]
  },
  {
   "cell_type": "code",
   "execution_count": 21,
   "id": "6de8b97c",
   "metadata": {},
   "outputs": [
    {
     "data": {
      "text/plain": [
       "True"
      ]
     },
     "execution_count": 21,
     "metadata": {},
     "output_type": "execute_result"
    }
   ],
   "source": [
    "not x > y"
   ]
  },
  {
   "cell_type": "markdown",
   "id": "fc6098c2",
   "metadata": {},
   "source": [
    "Strictly speaking, the operands of a logical operator should be boolean expressions, but Python is not very strict.\n",
    "Any nonzero number is interpreted as `True`:"
   ]
  },
  {
   "cell_type": "code",
   "execution_count": 22,
   "id": "add63275",
   "metadata": {},
   "outputs": [
    {
     "data": {
      "text/plain": [
       "True"
      ]
     },
     "execution_count": 22,
     "metadata": {},
     "output_type": "execute_result"
    }
   ],
   "source": [
    "42 and True"
   ]
  },
  {
   "cell_type": "markdown",
   "id": "102ceab9",
   "metadata": {},
   "source": [
    "This flexibility can be useful, but there are some subtleties to it that can be confusing.\n",
    "You might want to avoid it."
   ]
  },
  {
   "cell_type": "markdown",
   "id": "6b0f2dc1",
   "metadata": {},
   "source": [
    "## if statements\n",
    "\n",
    "In order to write useful programs, we almost always need the ability to\n",
    "check conditions and change the behavior of the program accordingly.\n",
    "**Conditional statements** give us this ability. The simplest form is\n",
    "the `if` statement:"
   ]
  },
  {
   "cell_type": "code",
   "execution_count": 23,
   "id": "80937bef",
   "metadata": {},
   "outputs": [
    {
     "name": "stdout",
     "output_type": "stream",
     "text": [
      "x is positive\n"
     ]
    }
   ],
   "source": [
    "if x > 0:\n",
    "    print('x is positive')"
   ]
  },
  {
   "cell_type": "markdown",
   "id": "973f705e",
   "metadata": {},
   "source": [
    "`if` is a Python keyword.\n",
    "`if` statements have the same structure as function definitions: a\n",
    "header followed by an indented statement or sequence of statements called a **block**.\n",
    "\n",
    "The boolean expression after `if` is called the **condition**.\n",
    "If it is true, the statements in the indented block run. If not, they don't.\n",
    "\n",
    "There is no limit to the number of statements that can appear in the block, but there has to be at least one.\n",
    "Occasionally, it is useful to have a block that does nothing -- usually as a place keeper for code you haven't written yet.\n",
    "In that case, you can use the `pass` statement, which does nothing."
   ]
  },
  {
   "cell_type": "code",
   "execution_count": 24,
   "id": "bc74a318",
   "metadata": {},
   "outputs": [],
   "source": [
    "if x < 0:\n",
    "    pass          # TODO: need to handle negative values!"
   ]
  },
  {
   "cell_type": "markdown",
   "id": "adf3f6c5",
   "metadata": {},
   "source": [
    "The word `TODO` in a comment is a conventional reminder that there's something you need to do later."
   ]
  },
  {
   "cell_type": "markdown",
   "id": "eb39bcd9",
   "metadata": {},
   "source": [
    "## The `else` clause\n",
    "\n",
    "An `if` statement can have a second part, called an `else` clause.\n",
    "The syntax looks like this:"
   ]
  },
  {
   "cell_type": "code",
   "execution_count": 25,
   "id": "d16f49f2",
   "metadata": {},
   "outputs": [
    {
     "name": "stdout",
     "output_type": "stream",
     "text": [
      "x is odd\n"
     ]
    }
   ],
   "source": [
    "if x % 2 == 0:\n",
    "    print('x is even')\n",
    "else:\n",
    "    print('x is odd')"
   ]
  },
  {
   "cell_type": "markdown",
   "id": "e7dc8943",
   "metadata": {},
   "source": [
    "If the condition is true, the first indented statement runs; otherwise, the second indented statement runs.\n",
    "\n",
    "In this example, if `x` is even, the remainder when `x` is divided by `2` is `0`, so the condition is true and the program displays `x is even`.\n",
    "If `x` is odd, the remainder is `1`, so the condition\n",
    "is false, and the program displays `x is odd`.\n",
    "\n",
    "Since the condition must be true or false, exactly one of the alternatives will run. \n",
    "The alternatives are called **branches**."
   ]
  },
  {
   "cell_type": "markdown",
   "id": "20c8adb6",
   "metadata": {},
   "source": [
    "## Chained conditionals\n",
    "\n",
    "Sometimes there are more than two possibilities and we need more than two branches.\n",
    "One way to express a computation like that is a **chained conditional**, which includes an `elif` clause."
   ]
  },
  {
   "cell_type": "code",
   "execution_count": 26,
   "id": "309fccb8",
   "metadata": {},
   "outputs": [
    {
     "name": "stdout",
     "output_type": "stream",
     "text": [
      "x is less than y\n"
     ]
    }
   ],
   "source": [
    "if x < y:\n",
    "    print('x is less than y')\n",
    "elif x > y:\n",
    "    print('x is greater than y')\n",
    "else:\n",
    "    print('x and y are equal')"
   ]
  },
  {
   "cell_type": "markdown",
   "id": "46916379",
   "metadata": {},
   "source": [
    "`elif` is an abbreviation of \"else if\".\n",
    "There is no limit on the number of `elif` clauses.\n",
    "If there is an `else` clause, it has to be at the end, but there doesn't have to be\n",
    "one.\n",
    "\n",
    "Each condition is checked in order.\n",
    "If the first is false, the next is checked, and so on.\n",
    "If one of them is true, the corresponding branch runs and the `if` statement ends.\n",
    "Even if more than one condition is true, only the first true branch runs."
   ]
  },
  {
   "cell_type": "markdown",
   "id": "e0c0b9dd",
   "metadata": {},
   "source": [
    "## Nested Conditionals\n",
    "\n",
    "One conditional can also be nested within another.\n",
    "We could have written the example in the previous section like this:"
   ]
  },
  {
   "cell_type": "code",
   "execution_count": 27,
   "id": "d77539cf",
   "metadata": {},
   "outputs": [
    {
     "name": "stdout",
     "output_type": "stream",
     "text": [
      "x is less than y\n"
     ]
    }
   ],
   "source": [
    "if x == y:\n",
    "    print('x and y are equal')\n",
    "else:\n",
    "    if x < y:\n",
    "        print('x is less than y')\n",
    "    else:\n",
    "        print('x is greater than y')"
   ]
  },
  {
   "cell_type": "markdown",
   "id": "29f67a0a",
   "metadata": {},
   "source": [
    "The outer `if` statement contains two branches. \n",
    "The first branch contains a simple statement. The second branch contains another `if` statement, which has two branches of its own.\n",
    "Those two branches are both simple statements, although they could have been conditional statements as well.\n",
    "\n",
    "Although the indentation of the statements makes the structure apparent, **nested conditionals** can be difficult to read.\n",
    "I suggest you avoid them when you can.\n",
    "\n",
    "Logical operators often provide a way to simplify nested conditional statements.\n",
    "Here's an example with a nested conditional."
   ]
  },
  {
   "cell_type": "code",
   "execution_count": 28,
   "id": "91cac1a0",
   "metadata": {},
   "outputs": [
    {
     "name": "stdout",
     "output_type": "stream",
     "text": [
      "x is a positive single-digit number.\n"
     ]
    }
   ],
   "source": [
    "if 0 < x:\n",
    "    if x < 10:\n",
    "        print('x is a positive single-digit number.')"
   ]
  },
  {
   "cell_type": "markdown",
   "id": "5292eb11",
   "metadata": {},
   "source": [
    "The `print` statement runs only if we make it past both conditionals, so we get the same effect with the `and` operator."
   ]
  },
  {
   "cell_type": "code",
   "execution_count": 29,
   "id": "f8ba1724",
   "metadata": {},
   "outputs": [
    {
     "name": "stdout",
     "output_type": "stream",
     "text": [
      "x is a positive single-digit number.\n"
     ]
    }
   ],
   "source": [
    "if 0 < x and x < 10:\n",
    "    print('x is a positive single-digit number.')"
   ]
  },
  {
   "cell_type": "markdown",
   "id": "dd8e808a",
   "metadata": {},
   "source": [
    "For this kind of condition, Python provides a more concise option:"
   ]
  },
  {
   "cell_type": "code",
   "execution_count": 30,
   "id": "014cd6f4",
   "metadata": {},
   "outputs": [
    {
     "name": "stdout",
     "output_type": "stream",
     "text": [
      "x is a positive single-digit number.\n"
     ]
    }
   ],
   "source": [
    "if 0 < x < 10:\n",
    "    print('x is a positive single-digit number.')"
   ]
  },
  {
   "cell_type": "markdown",
   "id": "db583cd9",
   "metadata": {},
   "source": [
    "## Recursion\n",
    "\n",
    "It is legal for a function to call itself.\n",
    "It may not be obvious why that is a good thing, but it turns out to be one of the most magical things a program can do.\n",
    "Here's an example."
   ]
  },
  {
   "cell_type": "code",
   "execution_count": 31,
   "id": "17904e98",
   "metadata": {},
   "outputs": [],
   "source": [
    "def countdown(n):\n",
    "    if n <= 0:\n",
    "        print('Blastoff!')\n",
    "    else:\n",
    "        print(n)\n",
    "        countdown(n-1)"
   ]
  },
  {
   "cell_type": "markdown",
   "id": "c88e0dc7",
   "metadata": {},
   "source": [
    "If `n` is 0 or negative, `countdown` outputs the word, \"Blastoff!\" Otherwise, it\n",
    "outputs `n` and then calls itself, passing `n-1` as an argument.\n",
    "\n",
    "Here's what happens when we call this function with the argument `3`."
   ]
  },
  {
   "cell_type": "code",
   "execution_count": 32,
   "id": "6c1e32e2",
   "metadata": {},
   "outputs": [
    {
     "name": "stdout",
     "output_type": "stream",
     "text": [
      "3\n",
      "2\n",
      "1\n",
      "Blastoff!\n"
     ]
    }
   ],
   "source": [
    "countdown(3)"
   ]
  },
  {
   "cell_type": "markdown",
   "id": "3f3c87ec",
   "metadata": {},
   "source": [
    "The execution of `countdown` begins with `n=3`, and since `n` is greater\n",
    "than `0`, it displays `3`, and then calls itself\\...\n",
    "\n",
    "> The execution of `countdown` begins with `n=2`, and since `n` is\n",
    "> greater than `0`, it displays `2`, and then calls itself\\...\n",
    ">\n",
    "> > The execution of `countdown` begins with `n=1`, and since `n` is\n",
    "> > greater than `0`, it displays `1`, and then calls itself\\...\n",
    "> >\n",
    "> > > The execution of `countdown` begins with `n=0`, and since `n` is\n",
    "> > > not greater than `0`, it displays \"Blastoff!\" and returns.\n",
    "> >\n",
    "> > The `countdown` that got `n=1` returns.\n",
    ">\n",
    "> The `countdown` that got `n=2` returns.\n",
    "\n",
    "The `countdown` that got `n=3` returns."
   ]
  },
  {
   "cell_type": "markdown",
   "id": "782e95bb",
   "metadata": {},
   "source": [
    "A function that calls itself is **recursive**.\n",
    "As another example, we can write a function that prints a string `n` times."
   ]
  },
  {
   "cell_type": "code",
   "execution_count": 33,
   "id": "1bb13f8e",
   "metadata": {},
   "outputs": [],
   "source": [
    "def print_n_times(string, n):\n",
    "    if n > 0:\n",
    "        print(string)\n",
    "        print_n_times(string, n-1)"
   ]
  },
  {
   "cell_type": "markdown",
   "id": "73d07c17",
   "metadata": {},
   "source": [
    "If `n` is positive, `print_n_times` displays the value of `string` and then calls itself, passing along `string` and `n-1` as arguments.\n",
    "\n",
    "If `n` is `0` or negative, the condition is false and `print_n_times` does nothing.\n",
    "\n",
    "Here's how it works."
   ]
  },
  {
   "cell_type": "code",
   "execution_count": 34,
   "id": "e7b68c57",
   "metadata": {},
   "outputs": [
    {
     "name": "stdout",
     "output_type": "stream",
     "text": [
      "Spam \n",
      "Spam \n",
      "Spam \n",
      "Spam \n"
     ]
    }
   ],
   "source": [
    "print_n_times('Spam ', 4)"
   ]
  },
  {
   "cell_type": "markdown",
   "id": "1fb55a78",
   "metadata": {},
   "source": [
    "For simple examples like this, it is probably easier to use a `for`\n",
    "loop. But we will see examples later that are hard to write with a `for`\n",
    "loop and easy to write with recursion, so it is good to start early."
   ]
  },
  {
   "cell_type": "markdown",
   "id": "c652c739",
   "metadata": {},
   "source": [
    "## Stack diagrams for recursive functions\n",
    "\n",
    "Here's a stack diagram that shows the frames created when we called `countdown` with `n = 3`."
   ]
  },
  {
   "cell_type": "code",
   "execution_count": 35,
   "id": "643148da",
   "metadata": {
    "tags": [
     "remove-input"
    ]
   },
   "outputs": [],
   "source": [
    "from diagram import make_frame, Stack\n",
    "\n",
    "frames = []\n",
    "for n in [3,2,1,0]:\n",
    "    d = dict(n=n)\n",
    "    frame = make_frame(d, name='countdown', dy=-0.3, loc='left')\n",
    "    frames.append(frame)\n",
    "\n",
    "stack = Stack(frames, dy=-0.5)"
   ]
  },
  {
   "cell_type": "code",
   "execution_count": 36,
   "id": "a8510119",
   "metadata": {
    "tags": [
     "remove-input"
    ]
   },
   "outputs": [
    {
     "data": {
      "image/png": "[encoded data removed]",
      "text/plain": [
       "<Figure size 174x204 with 1 Axes>"
      ]
     },
     "metadata": {},
     "output_type": "display_data"
    }
   ],
   "source": [
    "from diagram import diagram, adjust\n",
    "\n",
    "\n",
    "width, height, x, y = [1.74, 2.04, 1.05, 1.77]\n",
    "ax = diagram(width, height)\n",
    "bbox = stack.draw(ax, x, y)\n",
    "# adjust(x, y, bbox)"
   ]
  },
  {
   "cell_type": "markdown",
   "id": "9282331b",
   "metadata": {},
   "source": [
    "The four `countdown` frames have different values for the parameter `n`.\n",
    "The bottom of the stack, where `n=0`, is called the **base case**.\n",
    "It does not make a recursive call, so there are no more frames."
   ]
  },
  {
   "cell_type": "code",
   "execution_count": 37,
   "id": "a2a376b3",
   "metadata": {
    "tags": [
     "remove-cell"
    ]
   },
   "outputs": [
    {
     "data": {
      "image/png": "[encoded data removed]",
      "text/plain": [
       "<Figure size 353x154 with 1 Axes>"
      ]
     },
     "metadata": {},
     "output_type": "display_data"
    }
   ],
   "source": [
    "from diagram import make_frame, Stack\n",
    "from diagram import diagram, adjust\n",
    "\n",
    "frames = []\n",
    "for n in [2,1,0]:\n",
    "    d = dict(string='Hello', n=n)\n",
    "    frame = make_frame(d, name='print_n_times', dx=1.3, loc='left')\n",
    "    frames.append(frame)\n",
    "\n",
    "stack = Stack(frames, dy=-0.5)\n",
    "\n",
    "width, height, x, y = [3.53, 1.54, 1.54, 1.27]\n",
    "ax = diagram(width, height)\n",
    "bbox = stack.draw(ax, x, y)\n",
    "# adjust(x, y, bbox)"
   ]
  },
  {
   "cell_type": "markdown",
   "id": "37bbc2b8",
   "metadata": {},
   "source": [
    "## Infinite recursion\n",
    "\n",
    "If a recursion never reaches a base case, it goes on making recursive\n",
    "calls forever, and the program never terminates. This is known as\n",
    "**infinite recursion**, and it is generally not a good idea.\n",
    "Here's a minimal function with an infinite recursion."
   ]
  },
  {
   "cell_type": "code",
   "execution_count": 38,
   "id": "af487feb",
   "metadata": {},
   "outputs": [],
   "source": [
    "def recurse():\n",
    "    recurse()"
   ]
  },
  {
   "cell_type": "markdown",
   "id": "450a20ac",
   "metadata": {},
   "source": [
    "Every time `recurse` is called, it calls itself, which creates another frame.\n",
    "In Python, there is a limit to the number of frames that can be on the stack at the same time.\n",
    "If a program exceeds the limit, it causes a runtime error."
   ]
  },
  {
   "cell_type": "code",
   "execution_count": 39,
   "id": "e5d6c732",
   "metadata": {
    "tags": [
     "remove-cell"
    ]
   },
   "outputs": [
    {
     "name": "stdout",
     "output_type": "stream",
     "text": [
      "Exception reporting mode: Context\n"
     ]
    }
   ],
   "source": [
    "%xmode Context"
   ]
  },
  {
   "cell_type": "code",
   "execution_count": 40,
   "id": "22454b51",
   "metadata": {
    "tags": [
     "raises-exception"
    ]
   },
   "outputs": [
    {
     "ename": "RecursionError",
     "evalue": "maximum recursion depth exceeded",
     "output_type": "error",
     "traceback": [
      "\u001b[0;31m---------------------------------------------------------------------------\u001b[0m",
      "\u001b[0;31mRecursionError\u001b[0m                            Traceback (most recent call last)",
      "Cell \u001b[0;32mIn[40], line 1\u001b[0m\n\u001b[0;32m----> 1\u001b[0m \u001b[43mrecurse\u001b[49m\u001b[43m(\u001b[49m\u001b[43m)\u001b[49m\n",
      "Cell \u001b[0;32mIn[38], line 2\u001b[0m, in \u001b[0;36mrecurse\u001b[0;34m()\u001b[0m\n\u001b[1;32m      1\u001b[0m \u001b[38;5;28;01mdef\u001b[39;00m \u001b[38;5;21mrecurse\u001b[39m():\n\u001b[0;32m----> 2\u001b[0m     \u001b[43mrecurse\u001b[49m\u001b[43m(\u001b[49m\u001b[43m)\u001b[49m\n",
      "Cell \u001b[0;32mIn[38], line 2\u001b[0m, in \u001b[0;36mrecurse\u001b[0;34m()\u001b[0m\n\u001b[1;32m      1\u001b[0m \u001b[38;5;28;01mdef\u001b[39;00m \u001b[38;5;21mrecurse\u001b[39m():\n\u001b[0;32m----> 2\u001b[0m     \u001b[43mrecurse\u001b[49m\u001b[43m(\u001b[49m\u001b[43m)\u001b[49m\n",
      "    \u001b[0;31m[... skipping similar frames: recurse at line 2 (2957 times)]\u001b[0m\n",
      "Cell \u001b[0;32mIn[38], line 2\u001b[0m, in \u001b[0;36mrecurse\u001b[0;34m()\u001b[0m\n\u001b[1;32m      1\u001b[0m \u001b[38;5;28;01mdef\u001b[39;00m \u001b[38;5;21mrecurse\u001b[39m():\n\u001b[0;32m----> 2\u001b[0m     \u001b[43mrecurse\u001b[49m\u001b[43m(\u001b[49m\u001b[43m)\u001b[49m\n",
      "\u001b[0;31mRecursionError\u001b[0m: maximum recursion depth exceeded"
     ]
    }
   ],
   "source": [
    "\n",
    "recurse()"
   ]
  },
  {
   "cell_type": "markdown",
   "id": "39fc5c31",
   "metadata": {},
   "source": [
    "The traceback indicates that there were almost 3000 frames on the stack when the error occurred.\n",
    "\n",
    "If you encounter an infinite recursion by accident, review your function to confirm that there is a base case that does not make a recursive call. And if there is a base case, check whether you are guaranteed to reach it."
   ]
  },
  {
   "cell_type": "markdown",
   "id": "45299414",
   "metadata": {},
   "source": [
    "## Keyboard input\n",
    "\n",
    "The programs we have written so far accept no input from the user. They\n",
    "just do the same thing every time.\n",
    "\n",
    "Python provides a built-in function called `input` that stops the\n",
    "program and waits for the user to type something. When the user presses\n",
    "*Return* or *Enter*, the program resumes and `input` returns what the user\n",
    "typed as a string."
   ]
  },
  {
   "cell_type": "code",
   "execution_count": 41,
   "id": "ac0fb4a6",
   "metadata": {
    "tags": [
     "remove-cell"
    ]
   },
   "outputs": [],
   "source": []
  },
  {
   "cell_type": "code",
   "execution_count": 42,
   "id": "f6a2e4d6",
   "metadata": {},
   "outputs": [],
   "source": [
    "text = input()"
   ]
  },
  {
   "cell_type": "markdown",
   "id": "acf9ec53",
   "metadata": {},
   "source": [
    "Before getting input from the user, you might want to display a prompt\n",
    "telling the user what to type. `input` can take a prompt as an argument:"
   ]
  },
  {
   "cell_type": "code",
   "execution_count": 43,
   "id": "e0600e5e",
   "metadata": {
    "tags": [
     "remove-cell"
    ]
   },
   "outputs": [],
   "source": []
  },
  {
   "cell_type": "code",
   "execution_count": 44,
   "id": "964346f0",
   "metadata": {},
   "outputs": [
    {
     "name": "stdout",
     "output_type": "stream",
     "text": [
      "What...is your name?\n",
      "It is Arthur, King of the Britons\n"
     ]
    },
    {
     "data": {
      "text/plain": [
       "'It is Arthur, King of the Britons'"
      ]
     },
     "execution_count": 44,
     "metadata": {},
     "output_type": "execute_result"
    }
   ],
   "source": [
    "name = input('What...is your name?\\n')\n",
    "name"
   ]
  },
  {
   "cell_type": "markdown",
   "id": "1b754b39",
   "metadata": {},
   "source": [
    "The sequence `\\n` at the end of the prompt represents a **newline**, which is a special character that causes a line break -- that way the user's input appears below the prompt.\n",
    "\n",
    "If you expect the user to type an integer, you can use the `int` function to convert the return value to `int`."
   ]
  },
  {
   "cell_type": "code",
   "execution_count": 45,
   "id": "590983cd",
   "metadata": {
    "tags": [
     "remove-cell",
     "raises-exception"
    ]
   },
   "outputs": [],
   "source": []
  },
  {
   "cell_type": "code",
   "execution_count": 46,
   "id": "60a484d7",
   "metadata": {},
   "outputs": [
    {
     "name": "stdout",
     "output_type": "stream",
     "text": [
      "What...is the airspeed velocity of an unladen swallow?\n",
      "What do you mean: an African or European swallow?\n"
     ]
    },
    {
     "data": {
      "text/plain": [
       "'What do you mean: an African or European swallow?'"
      ]
     },
     "execution_count": 46,
     "metadata": {},
     "output_type": "execute_result"
    }
   ],
   "source": [
    "prompt = 'What...is the airspeed velocity of an unladen swallow?\\n'\n",
    "speed = input(prompt)\n",
    "speed"
   ]
  },
  {
   "cell_type": "markdown",
   "id": "0a65f2af",
   "metadata": {},
   "source": [
    "But if they type something that's not an integer, you'll get a runtime error."
   ]
  },
  {
   "cell_type": "code",
   "execution_count": 47,
   "id": "8d3d6049",
   "metadata": {
    "tags": [
     "remove-cell"
    ]
   },
   "outputs": [
    {
     "name": "stdout",
     "output_type": "stream",
     "text": [
      "Exception reporting mode: Minimal\n"
     ]
    }
   ],
   "source": [
    "%xmode Minimal"
   ]
  },
  {
   "cell_type": "code",
   "execution_count": 48,
   "id": "a04e3016",
   "metadata": {
    "tags": [
     "raises-exception"
    ]
   },
   "outputs": [
    {
     "ename": "ValueError",
     "evalue": "invalid literal for int() with base 10: 'What do you mean: an African or European swallow?'",
     "output_type": "error",
     "traceback": [
      "\u001b[0;31mValueError\u001b[0m\u001b[0;31m:\u001b[0m invalid literal for int() with base 10: 'What do you mean: an African or European swallow?'\n"
     ]
    }
   ],
   "source": [
    "\n",
    "int(speed)"
   ]
  },
  {
   "cell_type": "markdown",
   "id": "a4ce3ed5",
   "metadata": {},
   "source": [
    "We will see how to handle this kind of error later."
   ]
  },
  {
   "cell_type": "markdown",
   "id": "14c1d3dc",
   "metadata": {},
   "source": [
    "## Debugging\n",
    "\n",
    "When a syntax or runtime error occurs, the error message contains a lot\n",
    "of information, but it can be overwhelming. The most useful parts are\n",
    "usually:\n",
    "\n",
    "-   What kind of error it was, and\n",
    "\n",
    "-   Where it occurred.\n",
    "\n",
    "Syntax errors are usually easy to find, but there are a few gotchas.\n",
    "Errors related to spaces and tabs can be tricky because they are invisible\n",
    "and we are used to ignoring them."
   ]
  },
  {
   "cell_type": "code",
   "execution_count": 49,
   "id": "b82642f6",
   "metadata": {
    "tags": [
     "raises-exception"
    ]
   },
   "outputs": [
    {
     "ename": "IndentationError",
     "evalue": "unexpected indent (2365500740.py, line 2)",
     "output_type": "error",
     "traceback": [
      "\u001b[0;36m  Cell \u001b[0;32mIn[49], line 2\u001b[0;36m\u001b[0m\n\u001b[0;31m    y = 6\u001b[0m\n\u001b[0m    ^\u001b[0m\n\u001b[0;31mIndentationError\u001b[0m\u001b[0;31m:\u001b[0m unexpected indent\n"
     ]
    }
   ],
   "source": [
    "x = 5\n",
    " y = 6"
   ]
  },
  {
   "cell_type": "markdown",
   "id": "d1d06263",
   "metadata": {},
   "source": [
    "In this example, the problem is that the second line is indented by one space.\n",
    "But the error message points to `y`, which is misleading.\n",
    "Error messages indicate where the problem was discovered, but the actual error might be earlier in the code.\n",
    "\n",
    "The same is true of runtime errors. \n",
    "For example, suppose you are trying to convert a ratio to decibels, like this:"
   ]
  },
  {
   "cell_type": "code",
   "execution_count": 50,
   "id": "583ef53c",
   "metadata": {
    "tags": [
     "remove-cell"
    ]
   },
   "outputs": [
    {
     "name": "stdout",
     "output_type": "stream",
     "text": [
      "Exception reporting mode: Context\n"
     ]
    }
   ],
   "source": [
    "%xmode Context"
   ]
  },
  {
   "cell_type": "code",
   "execution_count": 51,
   "id": "2f4b6082",
   "metadata": {
    "tags": [
     "raises-exception"
    ]
   },
   "outputs": [
    {
     "ename": "ValueError",
     "evalue": "math domain error",
     "output_type": "error",
     "traceback": [
      "\u001b[0;31m---------------------------------------------------------------------------\u001b[0m",
      "\u001b[0;31mValueError\u001b[0m                                Traceback (most recent call last)",
      "Cell \u001b[0;32mIn[51], line 5\u001b[0m\n\u001b[1;32m      3\u001b[0m denominator \u001b[38;5;241m=\u001b[39m \u001b[38;5;241m10\u001b[39m\n\u001b[1;32m      4\u001b[0m ratio \u001b[38;5;241m=\u001b[39m numerator \u001b[38;5;241m/\u001b[39m\u001b[38;5;241m/\u001b[39m denominator\n\u001b[0;32m----> 5\u001b[0m decibels \u001b[38;5;241m=\u001b[39m \u001b[38;5;241m10\u001b[39m \u001b[38;5;241m*\u001b[39m \u001b[43mmath\u001b[49m\u001b[38;5;241;43m.\u001b[39;49m\u001b[43mlog10\u001b[49m\u001b[43m(\u001b[49m\u001b[43mratio\u001b[49m\u001b[43m)\u001b[49m\n",
      "\u001b[0;31mValueError\u001b[0m: math domain error"
     ]
    }
   ],
   "source": [
    "import math\n",
    "numerator = 9\n",
    "denominator = 10\n",
    "ratio = numerator // denominator\n",
    "decibels = 10 * math.log10(ratio)"
   ]
  },
  {
   "cell_type": "markdown",
   "id": "55914374",
   "metadata": {},
   "source": [
    "The error message indicates line 5, but there is nothing wrong with that line.\n",
    "The problem is in line 4, which uses floor division instead of floating-point division -- as a result, the value of `ratio` is `0`.\n",
    "When we call `math.log10`, we get a `ValueError` with the message `math domain error`, because `0` is not in the \"domain\" of valid arguments for `math.log10`, because the logarithm of `0` is undefined.\n",
    "\n",
    "In general, you should take the time to read error messages carefully, but don't assume that everything they say is correct."
   ]
  },
  {
   "cell_type": "markdown",
   "id": "8ffe690e",
   "metadata": {},
   "source": [
    "## Glossary\n",
    "\n",
    "**recursion:**\n",
    "The process of calling the function that is currently executing.\n",
    "\n",
    "**modulus operator:**\n",
    "An operator, `%`, that works on integers and returns the remainder when one number is divided by another.\n",
    "\n",
    "**boolean expression:**\n",
    "An expression whose value is either `True` or `False`.\n",
    "\n",
    "**relational operator:**\n",
    "One of the operators that compares its operands: `==`, `!=`, `>`, `<`, `>=`, and `<=`.\n",
    "\n",
    "**logical operator:**\n",
    "One of the operators that combines boolean expressions, including `and`, `or`, and `not`.\n",
    "\n",
    "**conditional statement:**\n",
    "A statement that controls the flow of execution depending on some condition.\n",
    "\n",
    "**condition:**\n",
    "The boolean expression in a conditional statement that determines which branch runs.\n",
    "\n",
    "**block:**\n",
    "One or more statements indented to indicate they are part of another statement.\n",
    "\n",
    "**branch:**\n",
    "One of the alternative sequences of statements in a conditional statement.\n",
    "\n",
    "**chained conditional:**\n",
    "A conditional statement with a series of alternative branches.\n",
    "\n",
    "**nested conditional:**\n",
    "A conditional statement that appears in one of the branches of another conditional statement.\n",
    "\n",
    "**recursive:**\n",
    "A function that calls itself is recursive.\n",
    "\n",
    "**base case:**\n",
    "A conditional branch in a recursive function that does not make a recursive call.\n",
    "\n",
    "**infinite recursion:**\n",
    "A recursion that doesn't have a base case, or never reaches it.\n",
    "Eventually, an infinite recursion causes a runtime error.\n",
    "\n",
    "**newline:**\n",
    "A character that creates a line break between two parts of a string."
   ]
  },
  {
   "cell_type": "markdown",
   "id": "8d783953",
   "metadata": {},
   "source": [
    "## Exercises"
   ]
  },
  {
   "cell_type": "code",
   "execution_count": 52,
   "id": "66aae3cb",
   "metadata": {
    "tags": [
     "remove-print"
    ]
   },
   "outputs": [
    {
     "name": "stdout",
     "output_type": "stream",
     "text": [
      "Exception reporting mode: Verbose\n"
     ]
    }
   ],
   "source": [
    "# This cell tells Jupyter to provide detailed debugging information\n",
    "# when a runtime error occurs. Run it before working on the exercises.\n",
    "\n",
    "%xmode Verbose"
   ]
  },
  {
   "cell_type": "markdown",
   "id": "02f9f1d7",
   "metadata": {},
   "source": [
    "### Ask a virtual assistant\n",
    "\n",
    "* Ask a virtual assistant, \"What are some uses of the modulus operator?\"\n",
    "\n",
    "* Python provides operators to compute the logical operations `and`, `or`, and `not`, but it doesn't have an operator that computes the exclusive `or` operation, usually written `xor`. Ask an assistant \"What is the logical xor operation and how do I compute it in Python?\"\n",
    "\n",
    "In this chapter, we saw two ways to write an `if` statement with three branches, using a chained conditional or a nested conditional.\n",
    "You can use a virtual assistant to convert from one to the other.\n",
    "For example, ask a VA, \"Convert this statement to a chained conditional.\""
   ]
  },
  {
   "cell_type": "code",
   "execution_count": 53,
   "id": "ade1ecb4",
   "metadata": {
    "tags": [
     "remove-cell"
    ]
   },
   "outputs": [],
   "source": [
    "x = 5\n",
    "y = 7"
   ]
  },
  {
   "cell_type": "code",
   "execution_count": 54,
   "id": "dc7026c2",
   "metadata": {},
   "outputs": [
    {
     "name": "stdout",
     "output_type": "stream",
     "text": [
      "x is less than y\n"
     ]
    }
   ],
   "source": [
    "if x == y:\n",
    "    print('x and y are equal')\n",
    "else:\n",
    "    if x < y:\n",
    "        print('x is less than y')\n",
    "    else:\n",
    "        print('x is greater than y')"
   ]
  },
  {
   "cell_type": "markdown",
   "id": "9c2a8466",
   "metadata": {},
   "source": [
    "Ask a VA, \"Rewrite this statement with a single conditional.\""
   ]
  },
  {
   "cell_type": "code",
   "execution_count": 55,
   "id": "1fd919ea",
   "metadata": {},
   "outputs": [
    {
     "name": "stdout",
     "output_type": "stream",
     "text": [
      "x is a positive single-digit number.\n"
     ]
    }
   ],
   "source": [
    "if 0 < x:\n",
    "    if x < 10:\n",
    "        print('x is a positive single-digit number.')"
   ]
  },
  {
   "cell_type": "markdown",
   "id": "e0fbed08",
   "metadata": {},
   "source": [
    "See if a VA can simplify this unnecessary complexity."
   ]
  },
  {
   "cell_type": "code",
   "execution_count": 56,
   "id": "1e71702e",
   "metadata": {},
   "outputs": [
    {
     "name": "stdout",
     "output_type": "stream",
     "text": [
      "x is a positive single-digit number.\n"
     ]
    }
   ],
   "source": [
    "if not x <= 0 and not x >= 10:\n",
    "    print('x is a positive single-digit number.')"
   ]
  },
  {
   "cell_type": "markdown",
   "id": "74ef776d",
   "metadata": {},
   "source": [
    "Here's an attempt at a recursive function that counts down by two."
   ]
  },
  {
   "cell_type": "code",
   "execution_count": 57,
   "id": "84cbd5a4",
   "metadata": {},
   "outputs": [],
   "source": [
    "def countdown_by_two(n):\n",
    "    if n == 0:\n",
    "        print('Blastoff!')\n",
    "    else:\n",
    "        print(n)\n",
    "        countdown_by_two(n-2)"
   ]
  },
  {
   "cell_type": "markdown",
   "id": "77178e79",
   "metadata": {},
   "source": [
    "It seems to work."
   ]
  },
  {
   "cell_type": "code",
   "execution_count": 58,
   "id": "b0918789",
   "metadata": {},
   "outputs": [
    {
     "name": "stdout",
     "output_type": "stream",
     "text": [
      "6\n",
      "4\n",
      "2\n",
      "Blastoff!\n"
     ]
    }
   ],
   "source": [
    "countdown_by_two(6)"
   ]
  },
  {
   "cell_type": "markdown",
   "id": "c9d3a8dc",
   "metadata": {},
   "source": [
    "But it has an error. Ask a virtual assistant what's wrong and how to fix it.\n",
    "Paste the solution it provides back here and test it."
   ]
  },
  {
   "cell_type": "markdown",
   "id": "240a3888",
   "metadata": {},
   "source": [
    "### Exercise\n",
    "\n",
    "The `time` module provides a function, also called `time`, that returns\n",
    "returns the number of seconds since the \"Unix epoch\", which is January 1, 1970, 00:00:00 UTC (Coordinated Universal Time)."
   ]
  },
  {
   "cell_type": "code",
   "execution_count": 59,
   "id": "1e7a2c07",
   "metadata": {},
   "outputs": [
    {
     "data": {
      "text/plain": [
       "1716394001.8466134"
      ]
     },
     "execution_count": 59,
     "metadata": {},
     "output_type": "execute_result"
    }
   ],
   "source": [
    "from time import time\n",
    "\n",
    "now = time()\n",
    "now"
   ]
  },
  {
   "cell_type": "markdown",
   "id": "054c3197",
   "metadata": {},
   "source": [
    "Use floor division and the modulus operator to compute the number of days since January 1, 1970 and the current time of day in hours, minutes, and seconds."
   ]
  },
  {
   "cell_type": "markdown",
   "id": "310196ba",
   "metadata": {
    "tags": [
     "remove-print"
    ]
   },
   "source": [
    "You can read more about the `time` module at <https://docs.python.org/3/library/time.html>."
   ]
  },
  {
   "cell_type": "code",
   "execution_count": 60,
   "id": "c5fa57b2",
   "metadata": {},
   "outputs": [
    {
     "data": {
      "text/plain": [
       "19865.0"
      ]
     },
     "execution_count": 60,
     "metadata": {},
     "output_type": "execute_result"
    }
   ],
   "source": []
  },
  {
   "cell_type": "code",
   "execution_count": 61,
   "id": "322ddd0a",
   "metadata": {},
   "outputs": [
    {
     "data": {
      "text/plain": [
       "16.0"
      ]
     },
     "execution_count": 61,
     "metadata": {},
     "output_type": "execute_result"
    }
   ],
   "source": []
  },
  {
   "cell_type": "code",
   "execution_count": 62,
   "id": "fc43df7d",
   "metadata": {},
   "outputs": [
    {
     "data": {
      "text/plain": [
       "6.0"
      ]
     },
     "execution_count": 62,
     "metadata": {},
     "output_type": "execute_result"
    }
   ],
   "source": []
  },
  {
   "cell_type": "code",
   "execution_count": 63,
   "id": "0184d21a",
   "metadata": {},
   "outputs": [
    {
     "data": {
      "text/plain": [
       "41.84661340713501"
      ]
     },
     "execution_count": 63,
     "metadata": {},
     "output_type": "execute_result"
    }
   ],
   "source": []
  },
  {
   "cell_type": "markdown",
   "id": "6b1fd514",
   "metadata": {},
   "source": [
    "### Exercise\n",
    "\n",
    "If you are given three sticks, you may or may not be able to arrange\n",
    "them in a triangle. For example, if one of the sticks is 12 inches long\n",
    "and the other two are one inch long, you will not be able to get the\n",
    "short sticks to meet in the middle. For any three lengths, there is a\n",
    "test to see if it is possible to form a triangle:\n",
    "\n",
    "> If any of the three lengths is greater than the sum of the other two,\n",
    "> then you cannot form a triangle. Otherwise, you can. (If the sum of\n",
    "> two lengths equals the third, they form what is called a \"degenerate\"\n",
    "> triangle.)\n",
    "\n",
    "Write a function named `is_triangle` that takes three integers as\n",
    "arguments, and that prints either \"Yes\" or \"No\", depending on\n",
    "whether you can or cannot form a triangle from sticks with the given\n",
    "lengths. Hint: Use a chained conditional.\n",
    "\n"
   ]
  },
  {
   "cell_type": "code",
   "execution_count": 64,
   "id": "06381639",
   "metadata": {
    "tags": [
     "remove-cell"
    ]
   },
   "outputs": [],
   "source": []
  },
  {
   "cell_type": "markdown",
   "id": "2842401c",
   "metadata": {
    "tags": [
     "remove-cell"
    ]
   },
   "source": [
    "Test your function with the following cases."
   ]
  },
  {
   "cell_type": "code",
   "execution_count": 65,
   "id": "156273af",
   "metadata": {
    "tags": [
     "remove-cell"
    ]
   },
   "outputs": [
    {
     "name": "stdout",
     "output_type": "stream",
     "text": [
      "Yes\n"
     ]
    }
   ],
   "source": [
    "is_triangle(4, 5, 6)   # should be Yes"
   ]
  },
  {
   "cell_type": "code",
   "execution_count": 66,
   "id": "e00793f4",
   "metadata": {
    "tags": [
     "remove-cell"
    ]
   },
   "outputs": [
    {
     "name": "stdout",
     "output_type": "stream",
     "text": [
      "Yes\n"
     ]
    }
   ],
   "source": [
    "is_triangle(1, 2, 3)   # should be Yes"
   ]
  },
  {
   "cell_type": "code",
   "execution_count": 67,
   "id": "d2911c71",
   "metadata": {
    "tags": [
     "remove-cell"
    ]
   },
   "outputs": [
    {
     "name": "stdout",
     "output_type": "stream",
     "text": [
      "No\n"
     ]
    }
   ],
   "source": [
    "is_triangle(6, 2, 3)   # should be No"
   ]
  },
  {
   "cell_type": "code",
   "execution_count": 68,
   "id": "2b05586e",
   "metadata": {
    "tags": [
     "remove-cell"
    ]
   },
   "outputs": [
    {
     "name": "stdout",
     "output_type": "stream",
     "text": [
      "No\n"
     ]
    }
   ],
   "source": [
    "is_triangle(1, 1, 12)   # should be No"
   ]
  },
  {
   "cell_type": "markdown",
   "id": "2ba42106",
   "metadata": {},
   "source": [
    "### Exercise\n",
    "\n",
    "What is the output of the following program? Draw a stack diagram that\n",
    "shows the state of the program when it prints the result."
   ]
  },
  {
   "cell_type": "code",
   "execution_count": 69,
   "id": "dac374ad",
   "metadata": {},
   "outputs": [
    {
     "name": "stdout",
     "output_type": "stream",
     "text": [
      "6\n"
     ]
    }
   ],
   "source": [
    "def recurse(n, s):\n",
    "    if n == 0:\n",
    "        print(s)\n",
    "    else:\n",
    "        recurse(n-1, n+s)\n",
    "\n",
    "recurse(3, 0)"
   ]
  },
  {
   "cell_type": "code",
   "execution_count": 70,
   "id": "a438cec5",
   "metadata": {},
   "outputs": [
    {
     "data": {
      "text/plain": [
       "'Adds up the numbers from 1 to `n`\\n\\nn: integer\\ns: the sum of the numbers so far\\n'"
      ]
     },
     "execution_count": 70,
     "metadata": {},
     "output_type": "execute_result"
    }
   ],
   "source": []
  },
  {
   "cell_type": "code",
   "execution_count": 71,
   "id": "2e3f56c7",
   "metadata": {
    "tags": [
     "remove-cell"
    ]
   },
   "outputs": [
    {
     "data": {
      "image/png": "[encoded data removed]",
      "text/plain": [
       "<Figure size 249x204 with 1 Axes>"
      ]
     },
     "metadata": {},
     "output_type": "display_data"
    }
   ],
   "source": []
  },
  {
   "cell_type": "markdown",
   "id": "bca9517d",
   "metadata": {},
   "source": [
    "### Exercise\n",
    "\n",
    "The following exercises use the `jupyturtle` module, described in Chapter 4.\n",
    "\n",
    "Read the following function and see if you can figure out what it does.\n",
    "Then run it and see if you got it right.\n",
    "Adjust the values of `length`, `angle` and `factor` and see what effect they have on the result.\n",
    "If you are not sure you understand how it works, try asking a virtual assistant."
   ]
  },
  {
   "cell_type": "code",
   "execution_count": 72,
   "id": "2b0d60a1",
   "metadata": {},
   "outputs": [],
   "source": [
    "from jupyturtle import forward, left, right, back\n",
    "\n",
    "def draw(length):\n",
    "    angle = 50\n",
    "    factor = 0.6\n",
    "    \n",
    "    if length > 5:\n",
    "        forward(length)\n",
    "        left(angle)\n",
    "        draw(factor * length)\n",
    "        right(2 * angle)\n",
    "        draw(factor * length)\n",
    "        left(angle)\n",
    "        back(length)"
   ]
  },
  {
   "cell_type": "code",
   "execution_count": 73,
   "id": "ef0256ee",
   "metadata": {},
   "outputs": [
    {
     "data": {
      "text/html": [
       "<svg width=\"300\" height=\"150\">\n",
       "    <rect width=\"100%\" height=\"100%\" fill=\"#F3F3F7\" />\n",
       "\n",
       "<line x1=\"150\" y1=\"75\" x2=\"200.0\" y2=\"75.0\"\n",
       "    stroke=\"#663399\" stroke-width=\"2\" />\n",
       "<line x1=\"200.0\" y1=\"75.0\" x2=\"219.3\" y2=\"52.0\"\n",
       "    stroke=\"#663399\" stroke-width=\"2\" />\n",
       "<line x1=\"219.3\" y1=\"52.0\" x2=\"216.2\" y2=\"34.3\"\n",
       "    stroke=\"#663399\" stroke-width=\"2\" />\n",
       "<line x1=\"216.2\" y1=\"34.3\" x2=\"206.8\" y2=\"28.9\"\n",
       "    stroke=\"#663399\" stroke-width=\"2\" />\n",
       "<line x1=\"206.8\" y1=\"28.9\" x2=\"200.7\" y2=\"31.1\"\n",
       "    stroke=\"#663399\" stroke-width=\"2\" />\n",
       "<line x1=\"200.7\" y1=\"31.1\" x2=\"206.8\" y2=\"28.9\"\n",
       "    stroke=\"#663399\" stroke-width=\"2\" />\n",
       "<line x1=\"206.8\" y1=\"28.9\" x2=\"205.7\" y2=\"22.5\"\n",
       "    stroke=\"#663399\" stroke-width=\"2\" />\n",
       "<line x1=\"205.7\" y1=\"22.5\" x2=\"206.8\" y2=\"28.9\"\n",
       "    stroke=\"#663399\" stroke-width=\"2\" />\n",
       "<line x1=\"206.8\" y1=\"28.9\" x2=\"216.2\" y2=\"34.3\"\n",
       "    stroke=\"#663399\" stroke-width=\"2\" />\n",
       "<line x1=\"216.2\" y1=\"34.3\" x2=\"223.1\" y2=\"26.0\"\n",
       "    stroke=\"#663399\" stroke-width=\"2\" />\n",
       "<line x1=\"223.1\" y1=\"26.0\" x2=\"222.0\" y2=\"19.6\"\n",
       "    stroke=\"#663399\" stroke-width=\"2\" />\n",
       "<line x1=\"222.0\" y1=\"19.6\" x2=\"223.1\" y2=\"26.0\"\n",
       "    stroke=\"#663399\" stroke-width=\"2\" />\n",
       "<line x1=\"223.1\" y1=\"26.0\" x2=\"229.6\" y2=\"26.0\"\n",
       "    stroke=\"#663399\" stroke-width=\"2\" />\n",
       "<line x1=\"229.6\" y1=\"26.0\" x2=\"223.1\" y2=\"26.0\"\n",
       "    stroke=\"#663399\" stroke-width=\"2\" />\n",
       "<line x1=\"223.1\" y1=\"26.0\" x2=\"216.2\" y2=\"34.3\"\n",
       "    stroke=\"#663399\" stroke-width=\"2\" />\n",
       "<line x1=\"216.2\" y1=\"34.3\" x2=\"219.3\" y2=\"52.0\"\n",
       "    stroke=\"#663399\" stroke-width=\"2\" />\n",
       "<line x1=\"219.3\" y1=\"52.0\" x2=\"237.3\" y2=\"52.0\"\n",
       "    stroke=\"#663399\" stroke-width=\"2\" />\n",
       "<line x1=\"237.3\" y1=\"52.0\" x2=\"244.2\" y2=\"43.7\"\n",
       "    stroke=\"#663399\" stroke-width=\"2\" />\n",
       "<line x1=\"244.2\" y1=\"43.7\" x2=\"243.1\" y2=\"37.4\"\n",
       "    stroke=\"#663399\" stroke-width=\"2\" />\n",
       "<line x1=\"243.1\" y1=\"37.4\" x2=\"244.2\" y2=\"43.7\"\n",
       "    stroke=\"#663399\" stroke-width=\"2\" />\n",
       "<line x1=\"244.2\" y1=\"43.7\" x2=\"250.7\" y2=\"43.7\"\n",
       "    stroke=\"#663399\" stroke-width=\"2\" />\n",
       "<line x1=\"250.7\" y1=\"43.7\" x2=\"244.2\" y2=\"43.7\"\n",
       "    stroke=\"#663399\" stroke-width=\"2\" />\n",
       "<line x1=\"244.2\" y1=\"43.7\" x2=\"237.3\" y2=\"52.0\"\n",
       "    stroke=\"#663399\" stroke-width=\"2\" />\n",
       "<line x1=\"237.3\" y1=\"52.0\" x2=\"244.2\" y2=\"60.3\"\n",
       "    stroke=\"#663399\" stroke-width=\"2\" />\n",
       "<line x1=\"244.2\" y1=\"60.3\" x2=\"250.7\" y2=\"60.3\"\n",
       "    stroke=\"#663399\" stroke-width=\"2\" />\n",
       "<line x1=\"250.7\" y1=\"60.3\" x2=\"244.2\" y2=\"60.3\"\n",
       "    stroke=\"#663399\" stroke-width=\"2\" />\n",
       "<line x1=\"244.2\" y1=\"60.3\" x2=\"243.1\" y2=\"66.7\"\n",
       "    stroke=\"#663399\" stroke-width=\"2\" />\n",
       "<line x1=\"243.1\" y1=\"66.7\" x2=\"244.2\" y2=\"60.3\"\n",
       "    stroke=\"#663399\" stroke-width=\"2\" />\n",
       "<line x1=\"244.2\" y1=\"60.3\" x2=\"237.3\" y2=\"52.0\"\n",
       "    stroke=\"#663399\" stroke-width=\"2\" />\n",
       "<line x1=\"237.3\" y1=\"52.0\" x2=\"219.3\" y2=\"52.0\"\n",
       "    stroke=\"#663399\" stroke-width=\"2\" />\n",
       "<line x1=\"219.3\" y1=\"52.0\" x2=\"200.0\" y2=\"75.0\"\n",
       "    stroke=\"#663399\" stroke-width=\"2\" />\n",
       "<line x1=\"200.0\" y1=\"75.0\" x2=\"219.3\" y2=\"98.0\"\n",
       "    stroke=\"#663399\" stroke-width=\"2\" />\n",
       "<line x1=\"219.3\" y1=\"98.0\" x2=\"237.3\" y2=\"98.0\"\n",
       "    stroke=\"#663399\" stroke-width=\"2\" />\n",
       "<line x1=\"237.3\" y1=\"98.0\" x2=\"244.2\" y2=\"89.7\"\n",
       "    stroke=\"#663399\" stroke-width=\"2\" />\n",
       "<line x1=\"244.2\" y1=\"89.7\" x2=\"243.1\" y2=\"83.3\"\n",
       "    stroke=\"#663399\" stroke-width=\"2\" />\n",
       "<line x1=\"243.1\" y1=\"83.3\" x2=\"244.2\" y2=\"89.7\"\n",
       "    stroke=\"#663399\" stroke-width=\"2\" />\n",
       "<line x1=\"244.2\" y1=\"89.7\" x2=\"250.7\" y2=\"89.7\"\n",
       "    stroke=\"#663399\" stroke-width=\"2\" />\n",
       "<line x1=\"250.7\" y1=\"89.7\" x2=\"244.2\" y2=\"89.7\"\n",
       "    stroke=\"#663399\" stroke-width=\"2\" />\n",
       "<line x1=\"244.2\" y1=\"89.7\" x2=\"237.3\" y2=\"98.0\"\n",
       "    stroke=\"#663399\" stroke-width=\"2\" />\n",
       "<line x1=\"237.3\" y1=\"98.0\" x2=\"244.2\" y2=\"106.3\"\n",
       "    stroke=\"#663399\" stroke-width=\"2\" />\n",
       "<line x1=\"244.2\" y1=\"106.3\" x2=\"250.7\" y2=\"106.3\"\n",
       "    stroke=\"#663399\" stroke-width=\"2\" />\n",
       "<line x1=\"250.7\" y1=\"106.3\" x2=\"244.2\" y2=\"106.3\"\n",
       "    stroke=\"#663399\" stroke-width=\"2\" />\n",
       "<line x1=\"244.2\" y1=\"106.3\" x2=\"243.1\" y2=\"112.6\"\n",
       "    stroke=\"#663399\" stroke-width=\"2\" />\n",
       "<line x1=\"243.1\" y1=\"112.6\" x2=\"244.2\" y2=\"106.3\"\n",
       "    stroke=\"#663399\" stroke-width=\"2\" />\n",
       "<line x1=\"244.2\" y1=\"106.3\" x2=\"237.3\" y2=\"98.0\"\n",
       "    stroke=\"#663399\" stroke-width=\"2\" />\n",
       "<line x1=\"237.3\" y1=\"98.0\" x2=\"219.3\" y2=\"98.0\"\n",
       "    stroke=\"#663399\" stroke-width=\"2\" />\n",
       "<line x1=\"219.3\" y1=\"98.0\" x2=\"216.2\" y2=\"115.7\"\n",
       "    stroke=\"#663399\" stroke-width=\"2\" />\n",
       "<line x1=\"216.2\" y1=\"115.7\" x2=\"223.1\" y2=\"124.0\"\n",
       "    stroke=\"#663399\" stroke-width=\"2\" />\n",
       "<line x1=\"223.1\" y1=\"124.0\" x2=\"229.6\" y2=\"124.0\"\n",
       "    stroke=\"#663399\" stroke-width=\"2\" />\n",
       "<line x1=\"229.6\" y1=\"124.0\" x2=\"223.1\" y2=\"124.0\"\n",
       "    stroke=\"#663399\" stroke-width=\"2\" />\n",
       "<line x1=\"223.1\" y1=\"124.0\" x2=\"222.0\" y2=\"130.4\"\n",
       "    stroke=\"#663399\" stroke-width=\"2\" />\n",
       "<line x1=\"222.0\" y1=\"130.4\" x2=\"223.1\" y2=\"124.0\"\n",
       "    stroke=\"#663399\" stroke-width=\"2\" />\n",
       "<line x1=\"223.1\" y1=\"124.0\" x2=\"216.2\" y2=\"115.7\"\n",
       "    stroke=\"#663399\" stroke-width=\"2\" />\n",
       "<line x1=\"216.2\" y1=\"115.7\" x2=\"206.8\" y2=\"121.1\"\n",
       "    stroke=\"#663399\" stroke-width=\"2\" />\n",
       "<line x1=\"206.8\" y1=\"121.1\" x2=\"205.7\" y2=\"127.5\"\n",
       "    stroke=\"#663399\" stroke-width=\"2\" />\n",
       "<line x1=\"205.7\" y1=\"127.5\" x2=\"206.8\" y2=\"121.1\"\n",
       "    stroke=\"#663399\" stroke-width=\"2\" />\n",
       "<line x1=\"206.8\" y1=\"121.1\" x2=\"200.7\" y2=\"118.9\"\n",
       "    stroke=\"#663399\" stroke-width=\"2\" />\n",
       "<line x1=\"200.7\" y1=\"118.9\" x2=\"206.8\" y2=\"121.1\"\n",
       "    stroke=\"#663399\" stroke-width=\"2\" />\n",
       "<line x1=\"206.8\" y1=\"121.1\" x2=\"216.2\" y2=\"115.7\"\n",
       "    stroke=\"#663399\" stroke-width=\"2\" />\n",
       "<line x1=\"216.2\" y1=\"115.7\" x2=\"219.3\" y2=\"98.0\"\n",
       "    stroke=\"#663399\" stroke-width=\"2\" />\n",
       "<line x1=\"219.3\" y1=\"98.0\" x2=\"200.0\" y2=\"75.0\"\n",
       "    stroke=\"#663399\" stroke-width=\"2\" />\n",
       "<line x1=\"200.0\" y1=\"75.0\" x2=\"150.0\" y2=\"75.0\"\n",
       "    stroke=\"#663399\" stroke-width=\"2\" />\n",
       "\n",
       "<g transform=\"rotate(-90.0,150.0,75.0) translate(150.0, 75.0)\">\n",
       "    <circle stroke=\"#63A375\" stroke-width=\"2\" fill=\"transparent\" r=\"5.5\" cx=\"0\" cy=\"0\"/>\n",
       "    <polygon points=\"0,12 2,9 -2,9\" style=\"fill:#63A375;stroke:#63A375;stroke-width:2\"/>\n",
       "</g>\n",
       "\n",
       "</svg>"
      ],
      "text/plain": [
       "<IPython.core.display.HTML object>"
      ]
     },
     "metadata": {},
     "output_type": "display_data"
    }
   ],
   "source": []
  },
  {
   "cell_type": "markdown",
   "id": "e525ba59",
   "metadata": {},
   "source": [
    "### Exercise\n",
    "\n",
    "Ask a virtual assistant \"What is the Koch curve?\"\n",
    "\n",
    "To draw a Koch curve with length `x`, all you\n",
    "have to do is\n",
    "\n",
    "1.  Draw a Koch curve with length `x/3`.\n",
    "\n",
    "2.  Turn left 60 degrees.\n",
    "\n",
    "3.  Draw a Koch curve with length `x/3`.\n",
    "\n",
    "4.  Turn right 120 degrees.\n",
    "\n",
    "5.  Draw a Koch curve with length `x/3`.\n",
    "\n",
    "6.  Turn left 60 degrees.\n",
    "\n",
    "7.  Draw a Koch curve with length `x/3`.\n",
    "\n",
    "The exception is if `x` is less than `5` -- in that case, you can just draw a straight line with length `x`.\n",
    "\n",
    "Write a function called `koch` that takes `x` as a parameter and draws a Koch curve with the given length.\n"
   ]
  },
  {
   "cell_type": "code",
   "execution_count": 74,
   "id": "c1acc853",
   "metadata": {},
   "outputs": [],
   "source": []
  },
  {
   "cell_type": "markdown",
   "id": "2991143a",
   "metadata": {},
   "source": [
    "The result should look like this:"
   ]
  },
  {
   "cell_type": "code",
   "execution_count": 75,
   "id": "55507716",
   "metadata": {},
   "outputs": [
    {
     "data": {
      "text/html": [
       "<svg width=\"300\" height=\"150\">\n",
       "    <rect width=\"100%\" height=\"100%\" fill=\"#F3F3F7\" />\n",
       "\n",
       "<line x1=\"150\" y1=\"75\" x2=\"154.4\" y2=\"75.0\"\n",
       "    stroke=\"#663399\" stroke-width=\"2\" />\n",
       "<line x1=\"154.4\" y1=\"75.0\" x2=\"156.7\" y2=\"71.2\"\n",
       "    stroke=\"#663399\" stroke-width=\"2\" />\n",
       "<line x1=\"156.7\" y1=\"71.2\" x2=\"158.9\" y2=\"75.0\"\n",
       "    stroke=\"#663399\" stroke-width=\"2\" />\n",
       "<line x1=\"158.9\" y1=\"75.0\" x2=\"163.3\" y2=\"75.0\"\n",
       "    stroke=\"#663399\" stroke-width=\"2\" />\n",
       "<line x1=\"163.3\" y1=\"75.0\" x2=\"165.6\" y2=\"71.2\"\n",
       "    stroke=\"#663399\" stroke-width=\"2\" />\n",
       "<line x1=\"165.6\" y1=\"71.2\" x2=\"163.3\" y2=\"67.3\"\n",
       "    stroke=\"#663399\" stroke-width=\"2\" />\n",
       "<line x1=\"163.3\" y1=\"67.3\" x2=\"167.8\" y2=\"67.3\"\n",
       "    stroke=\"#663399\" stroke-width=\"2\" />\n",
       "<line x1=\"167.8\" y1=\"67.3\" x2=\"170.0\" y2=\"63.5\"\n",
       "    stroke=\"#663399\" stroke-width=\"2\" />\n",
       "<line x1=\"170.0\" y1=\"63.5\" x2=\"172.2\" y2=\"67.3\"\n",
       "    stroke=\"#663399\" stroke-width=\"2\" />\n",
       "<line x1=\"172.2\" y1=\"67.3\" x2=\"176.7\" y2=\"67.3\"\n",
       "    stroke=\"#663399\" stroke-width=\"2\" />\n",
       "<line x1=\"176.7\" y1=\"67.3\" x2=\"174.4\" y2=\"71.2\"\n",
       "    stroke=\"#663399\" stroke-width=\"2\" />\n",
       "<line x1=\"174.4\" y1=\"71.2\" x2=\"176.7\" y2=\"75.0\"\n",
       "    stroke=\"#663399\" stroke-width=\"2\" />\n",
       "<line x1=\"176.7\" y1=\"75.0\" x2=\"181.1\" y2=\"75.0\"\n",
       "    stroke=\"#663399\" stroke-width=\"2\" />\n",
       "<line x1=\"181.1\" y1=\"75.0\" x2=\"183.3\" y2=\"71.2\"\n",
       "    stroke=\"#663399\" stroke-width=\"2\" />\n",
       "<line x1=\"183.3\" y1=\"71.2\" x2=\"185.6\" y2=\"75.0\"\n",
       "    stroke=\"#663399\" stroke-width=\"2\" />\n",
       "<line x1=\"185.6\" y1=\"75.0\" x2=\"190.0\" y2=\"75.0\"\n",
       "    stroke=\"#663399\" stroke-width=\"2\" />\n",
       "<line x1=\"190.0\" y1=\"75.0\" x2=\"192.2\" y2=\"71.2\"\n",
       "    stroke=\"#663399\" stroke-width=\"2\" />\n",
       "<line x1=\"192.2\" y1=\"71.2\" x2=\"190.0\" y2=\"67.3\"\n",
       "    stroke=\"#663399\" stroke-width=\"2\" />\n",
       "<line x1=\"190.0\" y1=\"67.3\" x2=\"194.4\" y2=\"67.3\"\n",
       "    stroke=\"#663399\" stroke-width=\"2\" />\n",
       "<line x1=\"194.4\" y1=\"67.3\" x2=\"196.7\" y2=\"63.5\"\n",
       "    stroke=\"#663399\" stroke-width=\"2\" />\n",
       "<line x1=\"196.7\" y1=\"63.5\" x2=\"194.4\" y2=\"59.6\"\n",
       "    stroke=\"#663399\" stroke-width=\"2\" />\n",
       "<line x1=\"194.4\" y1=\"59.6\" x2=\"190.0\" y2=\"59.6\"\n",
       "    stroke=\"#663399\" stroke-width=\"2\" />\n",
       "<line x1=\"190.0\" y1=\"59.6\" x2=\"192.2\" y2=\"55.8\"\n",
       "    stroke=\"#663399\" stroke-width=\"2\" />\n",
       "<line x1=\"192.2\" y1=\"55.8\" x2=\"190.0\" y2=\"51.9\"\n",
       "    stroke=\"#663399\" stroke-width=\"2\" />\n",
       "<line x1=\"190.0\" y1=\"51.9\" x2=\"194.4\" y2=\"51.9\"\n",
       "    stroke=\"#663399\" stroke-width=\"2\" />\n",
       "<line x1=\"194.4\" y1=\"51.9\" x2=\"196.7\" y2=\"48.1\"\n",
       "    stroke=\"#663399\" stroke-width=\"2\" />\n",
       "<line x1=\"196.7\" y1=\"48.1\" x2=\"198.9\" y2=\"51.9\"\n",
       "    stroke=\"#663399\" stroke-width=\"2\" />\n",
       "<line x1=\"198.9\" y1=\"51.9\" x2=\"203.3\" y2=\"51.9\"\n",
       "    stroke=\"#663399\" stroke-width=\"2\" />\n",
       "<line x1=\"203.3\" y1=\"51.9\" x2=\"205.6\" y2=\"48.1\"\n",
       "    stroke=\"#663399\" stroke-width=\"2\" />\n",
       "<line x1=\"205.6\" y1=\"48.1\" x2=\"203.3\" y2=\"44.2\"\n",
       "    stroke=\"#663399\" stroke-width=\"2\" />\n",
       "<line x1=\"203.3\" y1=\"44.2\" x2=\"207.8\" y2=\"44.2\"\n",
       "    stroke=\"#663399\" stroke-width=\"2\" />\n",
       "<line x1=\"207.8\" y1=\"44.2\" x2=\"210.0\" y2=\"40.4\"\n",
       "    stroke=\"#663399\" stroke-width=\"2\" />\n",
       "<line x1=\"210.0\" y1=\"40.4\" x2=\"212.2\" y2=\"44.2\"\n",
       "    stroke=\"#663399\" stroke-width=\"2\" />\n",
       "<line x1=\"212.2\" y1=\"44.2\" x2=\"216.7\" y2=\"44.2\"\n",
       "    stroke=\"#663399\" stroke-width=\"2\" />\n",
       "<line x1=\"216.7\" y1=\"44.2\" x2=\"214.4\" y2=\"48.1\"\n",
       "    stroke=\"#663399\" stroke-width=\"2\" />\n",
       "<line x1=\"214.4\" y1=\"48.1\" x2=\"216.7\" y2=\"51.9\"\n",
       "    stroke=\"#663399\" stroke-width=\"2\" />\n",
       "<line x1=\"216.7\" y1=\"51.9\" x2=\"221.1\" y2=\"51.9\"\n",
       "    stroke=\"#663399\" stroke-width=\"2\" />\n",
       "<line x1=\"221.1\" y1=\"51.9\" x2=\"223.3\" y2=\"48.1\"\n",
       "    stroke=\"#663399\" stroke-width=\"2\" />\n",
       "<line x1=\"223.3\" y1=\"48.1\" x2=\"225.6\" y2=\"51.9\"\n",
       "    stroke=\"#663399\" stroke-width=\"2\" />\n",
       "<line x1=\"225.6\" y1=\"51.9\" x2=\"230.0\" y2=\"51.9\"\n",
       "    stroke=\"#663399\" stroke-width=\"2\" />\n",
       "<line x1=\"230.0\" y1=\"51.9\" x2=\"227.8\" y2=\"55.8\"\n",
       "    stroke=\"#663399\" stroke-width=\"2\" />\n",
       "<line x1=\"227.8\" y1=\"55.8\" x2=\"230.0\" y2=\"59.6\"\n",
       "    stroke=\"#663399\" stroke-width=\"2\" />\n",
       "<line x1=\"230.0\" y1=\"59.6\" x2=\"225.6\" y2=\"59.6\"\n",
       "    stroke=\"#663399\" stroke-width=\"2\" />\n",
       "<line x1=\"225.6\" y1=\"59.6\" x2=\"223.3\" y2=\"63.5\"\n",
       "    stroke=\"#663399\" stroke-width=\"2\" />\n",
       "<line x1=\"223.3\" y1=\"63.5\" x2=\"225.6\" y2=\"67.3\"\n",
       "    stroke=\"#663399\" stroke-width=\"2\" />\n",
       "<line x1=\"225.6\" y1=\"67.3\" x2=\"230.0\" y2=\"67.3\"\n",
       "    stroke=\"#663399\" stroke-width=\"2\" />\n",
       "<line x1=\"230.0\" y1=\"67.3\" x2=\"227.8\" y2=\"71.2\"\n",
       "    stroke=\"#663399\" stroke-width=\"2\" />\n",
       "<line x1=\"227.8\" y1=\"71.2\" x2=\"230.0\" y2=\"75.0\"\n",
       "    stroke=\"#663399\" stroke-width=\"2\" />\n",
       "<line x1=\"230.0\" y1=\"75.0\" x2=\"234.4\" y2=\"75.0\"\n",
       "    stroke=\"#663399\" stroke-width=\"2\" />\n",
       "<line x1=\"234.4\" y1=\"75.0\" x2=\"236.7\" y2=\"71.2\"\n",
       "    stroke=\"#663399\" stroke-width=\"2\" />\n",
       "<line x1=\"236.7\" y1=\"71.2\" x2=\"238.9\" y2=\"75.0\"\n",
       "    stroke=\"#663399\" stroke-width=\"2\" />\n",
       "<line x1=\"238.9\" y1=\"75.0\" x2=\"243.3\" y2=\"75.0\"\n",
       "    stroke=\"#663399\" stroke-width=\"2\" />\n",
       "<line x1=\"243.3\" y1=\"75.0\" x2=\"245.6\" y2=\"71.2\"\n",
       "    stroke=\"#663399\" stroke-width=\"2\" />\n",
       "<line x1=\"245.6\" y1=\"71.2\" x2=\"243.3\" y2=\"67.3\"\n",
       "    stroke=\"#663399\" stroke-width=\"2\" />\n",
       "<line x1=\"243.3\" y1=\"67.3\" x2=\"247.8\" y2=\"67.3\"\n",
       "    stroke=\"#663399\" stroke-width=\"2\" />\n",
       "<line x1=\"247.8\" y1=\"67.3\" x2=\"250.0\" y2=\"63.5\"\n",
       "    stroke=\"#663399\" stroke-width=\"2\" />\n",
       "<line x1=\"250.0\" y1=\"63.5\" x2=\"252.2\" y2=\"67.3\"\n",
       "    stroke=\"#663399\" stroke-width=\"2\" />\n",
       "<line x1=\"252.2\" y1=\"67.3\" x2=\"256.7\" y2=\"67.3\"\n",
       "    stroke=\"#663399\" stroke-width=\"2\" />\n",
       "<line x1=\"256.7\" y1=\"67.3\" x2=\"254.4\" y2=\"71.2\"\n",
       "    stroke=\"#663399\" stroke-width=\"2\" />\n",
       "<line x1=\"254.4\" y1=\"71.2\" x2=\"256.7\" y2=\"75.0\"\n",
       "    stroke=\"#663399\" stroke-width=\"2\" />\n",
       "<line x1=\"256.7\" y1=\"75.0\" x2=\"261.1\" y2=\"75.0\"\n",
       "    stroke=\"#663399\" stroke-width=\"2\" />\n",
       "<line x1=\"261.1\" y1=\"75.0\" x2=\"263.3\" y2=\"71.2\"\n",
       "    stroke=\"#663399\" stroke-width=\"2\" />\n",
       "<line x1=\"263.3\" y1=\"71.2\" x2=\"265.6\" y2=\"75.0\"\n",
       "    stroke=\"#663399\" stroke-width=\"2\" />\n",
       "<line x1=\"265.6\" y1=\"75.0\" x2=\"270.0\" y2=\"75.0\"\n",
       "    stroke=\"#663399\" stroke-width=\"2\" />\n",
       "\n",
       "<g transform=\"rotate(-90.0,270.0,75.0) translate(270.0, 75.0)\">\n",
       "    <circle stroke=\"#63A375\" stroke-width=\"2\" fill=\"transparent\" r=\"5.5\" cx=\"0\" cy=\"0\"/>\n",
       "    <polygon points=\"0,12 2,9 -2,9\" style=\"fill:#63A375;stroke:#63A375;stroke-width:2\"/>\n",
       "</g>\n",
       "\n",
       "</svg>"
      ],
      "text/plain": [
       "<IPython.core.display.HTML object>"
      ]
     },
     "metadata": {},
     "output_type": "display_data"
    }
   ],
   "source": [
    "make_turtle(delay=0)\n",
    "koch(120)"
   ]
  },
  {
   "cell_type": "markdown",
   "id": "b1c58420",
   "metadata": {
    "tags": [
     "remove-cell"
    ]
   },
   "source": [
    "Once you have koch working, you can use this loop to draw three Koch curves in the shape of a snowflake."
   ]
  },
  {
   "cell_type": "code",
   "execution_count": 76,
   "id": "86d3123b",
   "metadata": {
    "tags": [
     "remove-cell"
    ]
   },
   "outputs": [
    {
     "data": {
      "text/html": [
       "<svg width=\"300\" height=\"300\">\n",
       "    <rect width=\"100%\" height=\"100%\" fill=\"#F3F3F7\" />\n",
       "\n",
       "<line x1=\"150\" y1=\"150\" x2=\"154.4\" y2=\"150.0\"\n",
       "    stroke=\"#663399\" stroke-width=\"2\" />\n",
       "<line x1=\"154.4\" y1=\"150.0\" x2=\"156.7\" y2=\"146.2\"\n",
       "    stroke=\"#663399\" stroke-width=\"2\" />\n",
       "<line x1=\"156.7\" y1=\"146.2\" x2=\"158.9\" y2=\"150.0\"\n",
       "    stroke=\"#663399\" stroke-width=\"2\" />\n",
       "<line x1=\"158.9\" y1=\"150.0\" x2=\"163.3\" y2=\"150.0\"\n",
       "    stroke=\"#663399\" stroke-width=\"2\" />\n",
       "<line x1=\"163.3\" y1=\"150.0\" x2=\"165.6\" y2=\"146.2\"\n",
       "    stroke=\"#663399\" stroke-width=\"2\" />\n",
       "<line x1=\"165.6\" y1=\"146.2\" x2=\"163.3\" y2=\"142.3\"\n",
       "    stroke=\"#663399\" stroke-width=\"2\" />\n",
       "<line x1=\"163.3\" y1=\"142.3\" x2=\"167.8\" y2=\"142.3\"\n",
       "    stroke=\"#663399\" stroke-width=\"2\" />\n",
       "<line x1=\"167.8\" y1=\"142.3\" x2=\"170.0\" y2=\"138.5\"\n",
       "    stroke=\"#663399\" stroke-width=\"2\" />\n",
       "<line x1=\"170.0\" y1=\"138.5\" x2=\"172.2\" y2=\"142.3\"\n",
       "    stroke=\"#663399\" stroke-width=\"2\" />\n",
       "<line x1=\"172.2\" y1=\"142.3\" x2=\"176.7\" y2=\"142.3\"\n",
       "    stroke=\"#663399\" stroke-width=\"2\" />\n",
       "<line x1=\"176.7\" y1=\"142.3\" x2=\"174.4\" y2=\"146.2\"\n",
       "    stroke=\"#663399\" stroke-width=\"2\" />\n",
       "<line x1=\"174.4\" y1=\"146.2\" x2=\"176.7\" y2=\"150.0\"\n",
       "    stroke=\"#663399\" stroke-width=\"2\" />\n",
       "<line x1=\"176.7\" y1=\"150.0\" x2=\"181.1\" y2=\"150.0\"\n",
       "    stroke=\"#663399\" stroke-width=\"2\" />\n",
       "<line x1=\"181.1\" y1=\"150.0\" x2=\"183.3\" y2=\"146.2\"\n",
       "    stroke=\"#663399\" stroke-width=\"2\" />\n",
       "<line x1=\"183.3\" y1=\"146.2\" x2=\"185.6\" y2=\"150.0\"\n",
       "    stroke=\"#663399\" stroke-width=\"2\" />\n",
       "<line x1=\"185.6\" y1=\"150.0\" x2=\"190.0\" y2=\"150.0\"\n",
       "    stroke=\"#663399\" stroke-width=\"2\" />\n",
       "<line x1=\"190.0\" y1=\"150.0\" x2=\"192.2\" y2=\"146.2\"\n",
       "    stroke=\"#663399\" stroke-width=\"2\" />\n",
       "<line x1=\"192.2\" y1=\"146.2\" x2=\"190.0\" y2=\"142.3\"\n",
       "    stroke=\"#663399\" stroke-width=\"2\" />\n",
       "<line x1=\"190.0\" y1=\"142.3\" x2=\"194.4\" y2=\"142.3\"\n",
       "    stroke=\"#663399\" stroke-width=\"2\" />\n",
       "<line x1=\"194.4\" y1=\"142.3\" x2=\"196.7\" y2=\"138.5\"\n",
       "    stroke=\"#663399\" stroke-width=\"2\" />\n",
       "<line x1=\"196.7\" y1=\"138.5\" x2=\"194.4\" y2=\"134.6\"\n",
       "    stroke=\"#663399\" stroke-width=\"2\" />\n",
       "<line x1=\"194.4\" y1=\"134.6\" x2=\"190.0\" y2=\"134.6\"\n",
       "    stroke=\"#663399\" stroke-width=\"2\" />\n",
       "<line x1=\"190.0\" y1=\"134.6\" x2=\"192.2\" y2=\"130.8\"\n",
       "    stroke=\"#663399\" stroke-width=\"2\" />\n",
       "<line x1=\"192.2\" y1=\"130.8\" x2=\"190.0\" y2=\"126.9\"\n",
       "    stroke=\"#663399\" stroke-width=\"2\" />\n",
       "<line x1=\"190.0\" y1=\"126.9\" x2=\"194.4\" y2=\"126.9\"\n",
       "    stroke=\"#663399\" stroke-width=\"2\" />\n",
       "<line x1=\"194.4\" y1=\"126.9\" x2=\"196.7\" y2=\"123.1\"\n",
       "    stroke=\"#663399\" stroke-width=\"2\" />\n",
       "<line x1=\"196.7\" y1=\"123.1\" x2=\"198.9\" y2=\"126.9\"\n",
       "    stroke=\"#663399\" stroke-width=\"2\" />\n",
       "<line x1=\"198.9\" y1=\"126.9\" x2=\"203.3\" y2=\"126.9\"\n",
       "    stroke=\"#663399\" stroke-width=\"2\" />\n",
       "<line x1=\"203.3\" y1=\"126.9\" x2=\"205.6\" y2=\"123.1\"\n",
       "    stroke=\"#663399\" stroke-width=\"2\" />\n",
       "<line x1=\"205.6\" y1=\"123.1\" x2=\"203.3\" y2=\"119.2\"\n",
       "    stroke=\"#663399\" stroke-width=\"2\" />\n",
       "<line x1=\"203.3\" y1=\"119.2\" x2=\"207.8\" y2=\"119.2\"\n",
       "    stroke=\"#663399\" stroke-width=\"2\" />\n",
       "<line x1=\"207.8\" y1=\"119.2\" x2=\"210.0\" y2=\"115.4\"\n",
       "    stroke=\"#663399\" stroke-width=\"2\" />\n",
       "<line x1=\"210.0\" y1=\"115.4\" x2=\"212.2\" y2=\"119.2\"\n",
       "    stroke=\"#663399\" stroke-width=\"2\" />\n",
       "<line x1=\"212.2\" y1=\"119.2\" x2=\"216.7\" y2=\"119.2\"\n",
       "    stroke=\"#663399\" stroke-width=\"2\" />\n",
       "<line x1=\"216.7\" y1=\"119.2\" x2=\"214.4\" y2=\"123.1\"\n",
       "    stroke=\"#663399\" stroke-width=\"2\" />\n",
       "<line x1=\"214.4\" y1=\"123.1\" x2=\"216.7\" y2=\"126.9\"\n",
       "    stroke=\"#663399\" stroke-width=\"2\" />\n",
       "<line x1=\"216.7\" y1=\"126.9\" x2=\"221.1\" y2=\"126.9\"\n",
       "    stroke=\"#663399\" stroke-width=\"2\" />\n",
       "<line x1=\"221.1\" y1=\"126.9\" x2=\"223.3\" y2=\"123.1\"\n",
       "    stroke=\"#663399\" stroke-width=\"2\" />\n",
       "<line x1=\"223.3\" y1=\"123.1\" x2=\"225.6\" y2=\"126.9\"\n",
       "    stroke=\"#663399\" stroke-width=\"2\" />\n",
       "<line x1=\"225.6\" y1=\"126.9\" x2=\"230.0\" y2=\"126.9\"\n",
       "    stroke=\"#663399\" stroke-width=\"2\" />\n",
       "<line x1=\"230.0\" y1=\"126.9\" x2=\"227.8\" y2=\"130.8\"\n",
       "    stroke=\"#663399\" stroke-width=\"2\" />\n",
       "<line x1=\"227.8\" y1=\"130.8\" x2=\"230.0\" y2=\"134.6\"\n",
       "    stroke=\"#663399\" stroke-width=\"2\" />\n",
       "<line x1=\"230.0\" y1=\"134.6\" x2=\"225.6\" y2=\"134.6\"\n",
       "    stroke=\"#663399\" stroke-width=\"2\" />\n",
       "<line x1=\"225.6\" y1=\"134.6\" x2=\"223.3\" y2=\"138.5\"\n",
       "    stroke=\"#663399\" stroke-width=\"2\" />\n",
       "<line x1=\"223.3\" y1=\"138.5\" x2=\"225.6\" y2=\"142.3\"\n",
       "    stroke=\"#663399\" stroke-width=\"2\" />\n",
       "<line x1=\"225.6\" y1=\"142.3\" x2=\"230.0\" y2=\"142.3\"\n",
       "    stroke=\"#663399\" stroke-width=\"2\" />\n",
       "<line x1=\"230.0\" y1=\"142.3\" x2=\"227.8\" y2=\"146.2\"\n",
       "    stroke=\"#663399\" stroke-width=\"2\" />\n",
       "<line x1=\"227.8\" y1=\"146.2\" x2=\"230.0\" y2=\"150.0\"\n",
       "    stroke=\"#663399\" stroke-width=\"2\" />\n",
       "<line x1=\"230.0\" y1=\"150.0\" x2=\"234.4\" y2=\"150.0\"\n",
       "    stroke=\"#663399\" stroke-width=\"2\" />\n",
       "<line x1=\"234.4\" y1=\"150.0\" x2=\"236.7\" y2=\"146.2\"\n",
       "    stroke=\"#663399\" stroke-width=\"2\" />\n",
       "<line x1=\"236.7\" y1=\"146.2\" x2=\"238.9\" y2=\"150.0\"\n",
       "    stroke=\"#663399\" stroke-width=\"2\" />\n",
       "<line x1=\"238.9\" y1=\"150.0\" x2=\"243.3\" y2=\"150.0\"\n",
       "    stroke=\"#663399\" stroke-width=\"2\" />\n",
       "<line x1=\"243.3\" y1=\"150.0\" x2=\"245.6\" y2=\"146.2\"\n",
       "    stroke=\"#663399\" stroke-width=\"2\" />\n",
       "<line x1=\"245.6\" y1=\"146.2\" x2=\"243.3\" y2=\"142.3\"\n",
       "    stroke=\"#663399\" stroke-width=\"2\" />\n",
       "<line x1=\"243.3\" y1=\"142.3\" x2=\"247.8\" y2=\"142.3\"\n",
       "    stroke=\"#663399\" stroke-width=\"2\" />\n",
       "<line x1=\"247.8\" y1=\"142.3\" x2=\"250.0\" y2=\"138.5\"\n",
       "    stroke=\"#663399\" stroke-width=\"2\" />\n",
       "<line x1=\"250.0\" y1=\"138.5\" x2=\"252.2\" y2=\"142.3\"\n",
       "    stroke=\"#663399\" stroke-width=\"2\" />\n",
       "<line x1=\"252.2\" y1=\"142.3\" x2=\"256.7\" y2=\"142.3\"\n",
       "    stroke=\"#663399\" stroke-width=\"2\" />\n",
       "<line x1=\"256.7\" y1=\"142.3\" x2=\"254.4\" y2=\"146.2\"\n",
       "    stroke=\"#663399\" stroke-width=\"2\" />\n",
       "<line x1=\"254.4\" y1=\"146.2\" x2=\"256.7\" y2=\"150.0\"\n",
       "    stroke=\"#663399\" stroke-width=\"2\" />\n",
       "<line x1=\"256.7\" y1=\"150.0\" x2=\"261.1\" y2=\"150.0\"\n",
       "    stroke=\"#663399\" stroke-width=\"2\" />\n",
       "<line x1=\"261.1\" y1=\"150.0\" x2=\"263.3\" y2=\"146.2\"\n",
       "    stroke=\"#663399\" stroke-width=\"2\" />\n",
       "<line x1=\"263.3\" y1=\"146.2\" x2=\"265.6\" y2=\"150.0\"\n",
       "    stroke=\"#663399\" stroke-width=\"2\" />\n",
       "<line x1=\"265.6\" y1=\"150.0\" x2=\"270.0\" y2=\"150.0\"\n",
       "    stroke=\"#663399\" stroke-width=\"2\" />\n",
       "<line x1=\"270.0\" y1=\"150.0\" x2=\"267.8\" y2=\"153.8\"\n",
       "    stroke=\"#663399\" stroke-width=\"2\" />\n",
       "<line x1=\"267.8\" y1=\"153.8\" x2=\"270.0\" y2=\"157.7\"\n",
       "    stroke=\"#663399\" stroke-width=\"2\" />\n",
       "<line x1=\"270.0\" y1=\"157.7\" x2=\"265.6\" y2=\"157.7\"\n",
       "    stroke=\"#663399\" stroke-width=\"2\" />\n",
       "<line x1=\"265.6\" y1=\"157.7\" x2=\"263.3\" y2=\"161.5\"\n",
       "    stroke=\"#663399\" stroke-width=\"2\" />\n",
       "<line x1=\"263.3\" y1=\"161.5\" x2=\"265.6\" y2=\"165.4\"\n",
       "    stroke=\"#663399\" stroke-width=\"2\" />\n",
       "<line x1=\"265.6\" y1=\"165.4\" x2=\"270.0\" y2=\"165.4\"\n",
       "    stroke=\"#663399\" stroke-width=\"2\" />\n",
       "<line x1=\"270.0\" y1=\"165.4\" x2=\"267.8\" y2=\"169.2\"\n",
       "    stroke=\"#663399\" stroke-width=\"2\" />\n",
       "<line x1=\"267.8\" y1=\"169.2\" x2=\"270.0\" y2=\"173.1\"\n",
       "    stroke=\"#663399\" stroke-width=\"2\" />\n",
       "<line x1=\"270.0\" y1=\"173.1\" x2=\"265.6\" y2=\"173.1\"\n",
       "    stroke=\"#663399\" stroke-width=\"2\" />\n",
       "<line x1=\"265.6\" y1=\"173.1\" x2=\"263.3\" y2=\"176.9\"\n",
       "    stroke=\"#663399\" stroke-width=\"2\" />\n",
       "<line x1=\"263.3\" y1=\"176.9\" x2=\"261.1\" y2=\"173.1\"\n",
       "    stroke=\"#663399\" stroke-width=\"2\" />\n",
       "<line x1=\"261.1\" y1=\"173.1\" x2=\"256.7\" y2=\"173.1\"\n",
       "    stroke=\"#663399\" stroke-width=\"2\" />\n",
       "<line x1=\"256.7\" y1=\"173.1\" x2=\"254.4\" y2=\"176.9\"\n",
       "    stroke=\"#663399\" stroke-width=\"2\" />\n",
       "<line x1=\"254.4\" y1=\"176.9\" x2=\"256.7\" y2=\"180.8\"\n",
       "    stroke=\"#663399\" stroke-width=\"2\" />\n",
       "<line x1=\"256.7\" y1=\"180.8\" x2=\"252.2\" y2=\"180.8\"\n",
       "    stroke=\"#663399\" stroke-width=\"2\" />\n",
       "<line x1=\"252.2\" y1=\"180.8\" x2=\"250.0\" y2=\"184.6\"\n",
       "    stroke=\"#663399\" stroke-width=\"2\" />\n",
       "<line x1=\"250.0\" y1=\"184.6\" x2=\"252.2\" y2=\"188.5\"\n",
       "    stroke=\"#663399\" stroke-width=\"2\" />\n",
       "<line x1=\"252.2\" y1=\"188.5\" x2=\"256.7\" y2=\"188.5\"\n",
       "    stroke=\"#663399\" stroke-width=\"2\" />\n",
       "<line x1=\"256.7\" y1=\"188.5\" x2=\"254.4\" y2=\"192.3\"\n",
       "    stroke=\"#663399\" stroke-width=\"2\" />\n",
       "<line x1=\"254.4\" y1=\"192.3\" x2=\"256.7\" y2=\"196.2\"\n",
       "    stroke=\"#663399\" stroke-width=\"2\" />\n",
       "<line x1=\"256.7\" y1=\"196.2\" x2=\"261.1\" y2=\"196.2\"\n",
       "    stroke=\"#663399\" stroke-width=\"2\" />\n",
       "<line x1=\"261.1\" y1=\"196.2\" x2=\"263.3\" y2=\"192.3\"\n",
       "    stroke=\"#663399\" stroke-width=\"2\" />\n",
       "<line x1=\"263.3\" y1=\"192.3\" x2=\"265.6\" y2=\"196.2\"\n",
       "    stroke=\"#663399\" stroke-width=\"2\" />\n",
       "<line x1=\"265.6\" y1=\"196.2\" x2=\"270.0\" y2=\"196.2\"\n",
       "    stroke=\"#663399\" stroke-width=\"2\" />\n",
       "<line x1=\"270.0\" y1=\"196.2\" x2=\"267.8\" y2=\"200.0\"\n",
       "    stroke=\"#663399\" stroke-width=\"2\" />\n",
       "<line x1=\"267.8\" y1=\"200.0\" x2=\"270.0\" y2=\"203.9\"\n",
       "    stroke=\"#663399\" stroke-width=\"2\" />\n",
       "<line x1=\"270.0\" y1=\"203.9\" x2=\"265.6\" y2=\"203.9\"\n",
       "    stroke=\"#663399\" stroke-width=\"2\" />\n",
       "<line x1=\"265.6\" y1=\"203.9\" x2=\"263.3\" y2=\"207.7\"\n",
       "    stroke=\"#663399\" stroke-width=\"2\" />\n",
       "<line x1=\"263.3\" y1=\"207.7\" x2=\"265.6\" y2=\"211.6\"\n",
       "    stroke=\"#663399\" stroke-width=\"2\" />\n",
       "<line x1=\"265.6\" y1=\"211.6\" x2=\"270.0\" y2=\"211.6\"\n",
       "    stroke=\"#663399\" stroke-width=\"2\" />\n",
       "<line x1=\"270.0\" y1=\"211.6\" x2=\"267.8\" y2=\"215.4\"\n",
       "    stroke=\"#663399\" stroke-width=\"2\" />\n",
       "<line x1=\"267.8\" y1=\"215.4\" x2=\"270.0\" y2=\"219.3\"\n",
       "    stroke=\"#663399\" stroke-width=\"2\" />\n",
       "<line x1=\"270.0\" y1=\"219.3\" x2=\"265.6\" y2=\"219.3\"\n",
       "    stroke=\"#663399\" stroke-width=\"2\" />\n",
       "<line x1=\"265.6\" y1=\"219.3\" x2=\"263.3\" y2=\"223.1\"\n",
       "    stroke=\"#663399\" stroke-width=\"2\" />\n",
       "<line x1=\"263.3\" y1=\"223.1\" x2=\"261.1\" y2=\"219.3\"\n",
       "    stroke=\"#663399\" stroke-width=\"2\" />\n",
       "<line x1=\"261.1\" y1=\"219.3\" x2=\"256.7\" y2=\"219.3\"\n",
       "    stroke=\"#663399\" stroke-width=\"2\" />\n",
       "<line x1=\"256.7\" y1=\"219.3\" x2=\"254.4\" y2=\"223.1\"\n",
       "    stroke=\"#663399\" stroke-width=\"2\" />\n",
       "<line x1=\"254.4\" y1=\"223.1\" x2=\"256.7\" y2=\"227.0\"\n",
       "    stroke=\"#663399\" stroke-width=\"2\" />\n",
       "<line x1=\"256.7\" y1=\"227.0\" x2=\"252.2\" y2=\"227.0\"\n",
       "    stroke=\"#663399\" stroke-width=\"2\" />\n",
       "<line x1=\"252.2\" y1=\"227.0\" x2=\"250.0\" y2=\"230.8\"\n",
       "    stroke=\"#663399\" stroke-width=\"2\" />\n",
       "<line x1=\"250.0\" y1=\"230.8\" x2=\"247.8\" y2=\"227.0\"\n",
       "    stroke=\"#663399\" stroke-width=\"2\" />\n",
       "<line x1=\"247.8\" y1=\"227.0\" x2=\"243.3\" y2=\"227.0\"\n",
       "    stroke=\"#663399\" stroke-width=\"2\" />\n",
       "<line x1=\"243.3\" y1=\"227.0\" x2=\"245.6\" y2=\"223.1\"\n",
       "    stroke=\"#663399\" stroke-width=\"2\" />\n",
       "<line x1=\"245.6\" y1=\"223.1\" x2=\"243.3\" y2=\"219.3\"\n",
       "    stroke=\"#663399\" stroke-width=\"2\" />\n",
       "<line x1=\"243.3\" y1=\"219.3\" x2=\"238.9\" y2=\"219.3\"\n",
       "    stroke=\"#663399\" stroke-width=\"2\" />\n",
       "<line x1=\"238.9\" y1=\"219.3\" x2=\"236.7\" y2=\"223.1\"\n",
       "    stroke=\"#663399\" stroke-width=\"2\" />\n",
       "<line x1=\"236.7\" y1=\"223.1\" x2=\"234.4\" y2=\"219.3\"\n",
       "    stroke=\"#663399\" stroke-width=\"2\" />\n",
       "<line x1=\"234.4\" y1=\"219.3\" x2=\"230.0\" y2=\"219.3\"\n",
       "    stroke=\"#663399\" stroke-width=\"2\" />\n",
       "<line x1=\"230.0\" y1=\"219.3\" x2=\"227.8\" y2=\"223.1\"\n",
       "    stroke=\"#663399\" stroke-width=\"2\" />\n",
       "<line x1=\"227.8\" y1=\"223.1\" x2=\"230.0\" y2=\"227.0\"\n",
       "    stroke=\"#663399\" stroke-width=\"2\" />\n",
       "<line x1=\"230.0\" y1=\"227.0\" x2=\"225.6\" y2=\"227.0\"\n",
       "    stroke=\"#663399\" stroke-width=\"2\" />\n",
       "<line x1=\"225.6\" y1=\"227.0\" x2=\"223.3\" y2=\"230.8\"\n",
       "    stroke=\"#663399\" stroke-width=\"2\" />\n",
       "<line x1=\"223.3\" y1=\"230.8\" x2=\"225.6\" y2=\"234.7\"\n",
       "    stroke=\"#663399\" stroke-width=\"2\" />\n",
       "<line x1=\"225.6\" y1=\"234.7\" x2=\"230.0\" y2=\"234.7\"\n",
       "    stroke=\"#663399\" stroke-width=\"2\" />\n",
       "<line x1=\"230.0\" y1=\"234.7\" x2=\"227.8\" y2=\"238.5\"\n",
       "    stroke=\"#663399\" stroke-width=\"2\" />\n",
       "<line x1=\"227.8\" y1=\"238.5\" x2=\"230.0\" y2=\"242.4\"\n",
       "    stroke=\"#663399\" stroke-width=\"2\" />\n",
       "<line x1=\"230.0\" y1=\"242.4\" x2=\"225.6\" y2=\"242.4\"\n",
       "    stroke=\"#663399\" stroke-width=\"2\" />\n",
       "<line x1=\"225.6\" y1=\"242.4\" x2=\"223.3\" y2=\"246.2\"\n",
       "    stroke=\"#663399\" stroke-width=\"2\" />\n",
       "<line x1=\"223.3\" y1=\"246.2\" x2=\"221.1\" y2=\"242.4\"\n",
       "    stroke=\"#663399\" stroke-width=\"2\" />\n",
       "<line x1=\"221.1\" y1=\"242.4\" x2=\"216.7\" y2=\"242.4\"\n",
       "    stroke=\"#663399\" stroke-width=\"2\" />\n",
       "<line x1=\"216.7\" y1=\"242.4\" x2=\"214.4\" y2=\"246.2\"\n",
       "    stroke=\"#663399\" stroke-width=\"2\" />\n",
       "<line x1=\"214.4\" y1=\"246.2\" x2=\"216.7\" y2=\"250.1\"\n",
       "    stroke=\"#663399\" stroke-width=\"2\" />\n",
       "<line x1=\"216.7\" y1=\"250.1\" x2=\"212.2\" y2=\"250.1\"\n",
       "    stroke=\"#663399\" stroke-width=\"2\" />\n",
       "<line x1=\"212.2\" y1=\"250.1\" x2=\"210.0\" y2=\"253.9\"\n",
       "    stroke=\"#663399\" stroke-width=\"2\" />\n",
       "<line x1=\"210.0\" y1=\"253.9\" x2=\"207.8\" y2=\"250.1\"\n",
       "    stroke=\"#663399\" stroke-width=\"2\" />\n",
       "<line x1=\"207.8\" y1=\"250.1\" x2=\"203.3\" y2=\"250.1\"\n",
       "    stroke=\"#663399\" stroke-width=\"2\" />\n",
       "<line x1=\"203.3\" y1=\"250.1\" x2=\"205.6\" y2=\"246.2\"\n",
       "    stroke=\"#663399\" stroke-width=\"2\" />\n",
       "<line x1=\"205.6\" y1=\"246.2\" x2=\"203.3\" y2=\"242.4\"\n",
       "    stroke=\"#663399\" stroke-width=\"2\" />\n",
       "<line x1=\"203.3\" y1=\"242.4\" x2=\"198.9\" y2=\"242.4\"\n",
       "    stroke=\"#663399\" stroke-width=\"2\" />\n",
       "<line x1=\"198.9\" y1=\"242.4\" x2=\"196.7\" y2=\"246.2\"\n",
       "    stroke=\"#663399\" stroke-width=\"2\" />\n",
       "<line x1=\"196.7\" y1=\"246.2\" x2=\"194.4\" y2=\"242.4\"\n",
       "    stroke=\"#663399\" stroke-width=\"2\" />\n",
       "<line x1=\"194.4\" y1=\"242.4\" x2=\"190.0\" y2=\"242.4\"\n",
       "    stroke=\"#663399\" stroke-width=\"2\" />\n",
       "<line x1=\"190.0\" y1=\"242.4\" x2=\"192.2\" y2=\"238.5\"\n",
       "    stroke=\"#663399\" stroke-width=\"2\" />\n",
       "<line x1=\"192.2\" y1=\"238.5\" x2=\"190.0\" y2=\"234.7\"\n",
       "    stroke=\"#663399\" stroke-width=\"2\" />\n",
       "<line x1=\"190.0\" y1=\"234.7\" x2=\"194.4\" y2=\"234.7\"\n",
       "    stroke=\"#663399\" stroke-width=\"2\" />\n",
       "<line x1=\"194.4\" y1=\"234.7\" x2=\"196.7\" y2=\"230.8\"\n",
       "    stroke=\"#663399\" stroke-width=\"2\" />\n",
       "<line x1=\"196.7\" y1=\"230.8\" x2=\"194.4\" y2=\"227.0\"\n",
       "    stroke=\"#663399\" stroke-width=\"2\" />\n",
       "<line x1=\"194.4\" y1=\"227.0\" x2=\"190.0\" y2=\"227.0\"\n",
       "    stroke=\"#663399\" stroke-width=\"2\" />\n",
       "<line x1=\"190.0\" y1=\"227.0\" x2=\"192.2\" y2=\"223.1\"\n",
       "    stroke=\"#663399\" stroke-width=\"2\" />\n",
       "<line x1=\"192.2\" y1=\"223.1\" x2=\"190.0\" y2=\"219.3\"\n",
       "    stroke=\"#663399\" stroke-width=\"2\" />\n",
       "<line x1=\"190.0\" y1=\"219.3\" x2=\"185.6\" y2=\"219.3\"\n",
       "    stroke=\"#663399\" stroke-width=\"2\" />\n",
       "<line x1=\"185.6\" y1=\"219.3\" x2=\"183.3\" y2=\"223.1\"\n",
       "    stroke=\"#663399\" stroke-width=\"2\" />\n",
       "<line x1=\"183.3\" y1=\"223.1\" x2=\"181.1\" y2=\"219.3\"\n",
       "    stroke=\"#663399\" stroke-width=\"2\" />\n",
       "<line x1=\"181.1\" y1=\"219.3\" x2=\"176.7\" y2=\"219.3\"\n",
       "    stroke=\"#663399\" stroke-width=\"2\" />\n",
       "<line x1=\"176.7\" y1=\"219.3\" x2=\"174.4\" y2=\"223.1\"\n",
       "    stroke=\"#663399\" stroke-width=\"2\" />\n",
       "<line x1=\"174.4\" y1=\"223.1\" x2=\"176.7\" y2=\"227.0\"\n",
       "    stroke=\"#663399\" stroke-width=\"2\" />\n",
       "<line x1=\"176.7\" y1=\"227.0\" x2=\"172.2\" y2=\"227.0\"\n",
       "    stroke=\"#663399\" stroke-width=\"2\" />\n",
       "<line x1=\"172.2\" y1=\"227.0\" x2=\"170.0\" y2=\"230.8\"\n",
       "    stroke=\"#663399\" stroke-width=\"2\" />\n",
       "<line x1=\"170.0\" y1=\"230.8\" x2=\"167.8\" y2=\"227.0\"\n",
       "    stroke=\"#663399\" stroke-width=\"2\" />\n",
       "<line x1=\"167.8\" y1=\"227.0\" x2=\"163.3\" y2=\"227.0\"\n",
       "    stroke=\"#663399\" stroke-width=\"2\" />\n",
       "<line x1=\"163.3\" y1=\"227.0\" x2=\"165.6\" y2=\"223.1\"\n",
       "    stroke=\"#663399\" stroke-width=\"2\" />\n",
       "<line x1=\"165.6\" y1=\"223.1\" x2=\"163.3\" y2=\"219.3\"\n",
       "    stroke=\"#663399\" stroke-width=\"2\" />\n",
       "<line x1=\"163.3\" y1=\"219.3\" x2=\"158.9\" y2=\"219.3\"\n",
       "    stroke=\"#663399\" stroke-width=\"2\" />\n",
       "<line x1=\"158.9\" y1=\"219.3\" x2=\"156.7\" y2=\"223.1\"\n",
       "    stroke=\"#663399\" stroke-width=\"2\" />\n",
       "<line x1=\"156.7\" y1=\"223.1\" x2=\"154.4\" y2=\"219.3\"\n",
       "    stroke=\"#663399\" stroke-width=\"2\" />\n",
       "<line x1=\"154.4\" y1=\"219.3\" x2=\"150.0\" y2=\"219.3\"\n",
       "    stroke=\"#663399\" stroke-width=\"2\" />\n",
       "<line x1=\"150.0\" y1=\"219.3\" x2=\"152.2\" y2=\"215.4\"\n",
       "    stroke=\"#663399\" stroke-width=\"2\" />\n",
       "<line x1=\"152.2\" y1=\"215.4\" x2=\"150.0\" y2=\"211.6\"\n",
       "    stroke=\"#663399\" stroke-width=\"2\" />\n",
       "<line x1=\"150.0\" y1=\"211.6\" x2=\"154.4\" y2=\"211.6\"\n",
       "    stroke=\"#663399\" stroke-width=\"2\" />\n",
       "<line x1=\"154.4\" y1=\"211.6\" x2=\"156.7\" y2=\"207.7\"\n",
       "    stroke=\"#663399\" stroke-width=\"2\" />\n",
       "<line x1=\"156.7\" y1=\"207.7\" x2=\"154.4\" y2=\"203.9\"\n",
       "    stroke=\"#663399\" stroke-width=\"2\" />\n",
       "<line x1=\"154.4\" y1=\"203.9\" x2=\"150.0\" y2=\"203.9\"\n",
       "    stroke=\"#663399\" stroke-width=\"2\" />\n",
       "<line x1=\"150.0\" y1=\"203.9\" x2=\"152.2\" y2=\"200.0\"\n",
       "    stroke=\"#663399\" stroke-width=\"2\" />\n",
       "<line x1=\"152.2\" y1=\"200.0\" x2=\"150.0\" y2=\"196.2\"\n",
       "    stroke=\"#663399\" stroke-width=\"2\" />\n",
       "<line x1=\"150.0\" y1=\"196.2\" x2=\"154.4\" y2=\"196.2\"\n",
       "    stroke=\"#663399\" stroke-width=\"2\" />\n",
       "<line x1=\"154.4\" y1=\"196.2\" x2=\"156.7\" y2=\"192.3\"\n",
       "    stroke=\"#663399\" stroke-width=\"2\" />\n",
       "<line x1=\"156.7\" y1=\"192.3\" x2=\"158.9\" y2=\"196.2\"\n",
       "    stroke=\"#663399\" stroke-width=\"2\" />\n",
       "<line x1=\"158.9\" y1=\"196.2\" x2=\"163.3\" y2=\"196.2\"\n",
       "    stroke=\"#663399\" stroke-width=\"2\" />\n",
       "<line x1=\"163.3\" y1=\"196.2\" x2=\"165.6\" y2=\"192.3\"\n",
       "    stroke=\"#663399\" stroke-width=\"2\" />\n",
       "<line x1=\"165.6\" y1=\"192.3\" x2=\"163.3\" y2=\"188.5\"\n",
       "    stroke=\"#663399\" stroke-width=\"2\" />\n",
       "<line x1=\"163.3\" y1=\"188.5\" x2=\"167.8\" y2=\"188.5\"\n",
       "    stroke=\"#663399\" stroke-width=\"2\" />\n",
       "<line x1=\"167.8\" y1=\"188.5\" x2=\"170.0\" y2=\"184.6\"\n",
       "    stroke=\"#663399\" stroke-width=\"2\" />\n",
       "<line x1=\"170.0\" y1=\"184.6\" x2=\"167.8\" y2=\"180.8\"\n",
       "    stroke=\"#663399\" stroke-width=\"2\" />\n",
       "<line x1=\"167.8\" y1=\"180.8\" x2=\"163.3\" y2=\"180.8\"\n",
       "    stroke=\"#663399\" stroke-width=\"2\" />\n",
       "<line x1=\"163.3\" y1=\"180.8\" x2=\"165.6\" y2=\"176.9\"\n",
       "    stroke=\"#663399\" stroke-width=\"2\" />\n",
       "<line x1=\"165.6\" y1=\"176.9\" x2=\"163.3\" y2=\"173.1\"\n",
       "    stroke=\"#663399\" stroke-width=\"2\" />\n",
       "<line x1=\"163.3\" y1=\"173.1\" x2=\"158.9\" y2=\"173.1\"\n",
       "    stroke=\"#663399\" stroke-width=\"2\" />\n",
       "<line x1=\"158.9\" y1=\"173.1\" x2=\"156.7\" y2=\"176.9\"\n",
       "    stroke=\"#663399\" stroke-width=\"2\" />\n",
       "<line x1=\"156.7\" y1=\"176.9\" x2=\"154.4\" y2=\"173.1\"\n",
       "    stroke=\"#663399\" stroke-width=\"2\" />\n",
       "<line x1=\"154.4\" y1=\"173.1\" x2=\"150.0\" y2=\"173.1\"\n",
       "    stroke=\"#663399\" stroke-width=\"2\" />\n",
       "<line x1=\"150.0\" y1=\"173.1\" x2=\"152.2\" y2=\"169.2\"\n",
       "    stroke=\"#663399\" stroke-width=\"2\" />\n",
       "<line x1=\"152.2\" y1=\"169.2\" x2=\"150.0\" y2=\"165.4\"\n",
       "    stroke=\"#663399\" stroke-width=\"2\" />\n",
       "<line x1=\"150.0\" y1=\"165.4\" x2=\"154.4\" y2=\"165.4\"\n",
       "    stroke=\"#663399\" stroke-width=\"2\" />\n",
       "<line x1=\"154.4\" y1=\"165.4\" x2=\"156.7\" y2=\"161.5\"\n",
       "    stroke=\"#663399\" stroke-width=\"2\" />\n",
       "<line x1=\"156.7\" y1=\"161.5\" x2=\"154.4\" y2=\"157.7\"\n",
       "    stroke=\"#663399\" stroke-width=\"2\" />\n",
       "<line x1=\"154.4\" y1=\"157.7\" x2=\"150.0\" y2=\"157.7\"\n",
       "    stroke=\"#663399\" stroke-width=\"2\" />\n",
       "<line x1=\"150.0\" y1=\"157.7\" x2=\"152.2\" y2=\"153.8\"\n",
       "    stroke=\"#663399\" stroke-width=\"2\" />\n",
       "<line x1=\"152.2\" y1=\"153.8\" x2=\"150.0\" y2=\"150.0\"\n",
       "    stroke=\"#663399\" stroke-width=\"2\" />\n",
       "\n",
       "<g transform=\"rotate(-90.0,150.0,150.0) translate(150.0, 150.0)\">\n",
       "    <circle stroke=\"#63A375\" stroke-width=\"2\" fill=\"transparent\" r=\"5.5\" cx=\"0\" cy=\"0\"/>\n",
       "    <polygon points=\"0,12 2,9 -2,9\" style=\"fill:#63A375;stroke:#63A375;stroke-width:2\"/>\n",
       "</g>\n",
       "\n",
       "</svg>"
      ],
      "text/plain": [
       "<IPython.core.display.HTML object>"
      ]
     },
     "metadata": {},
     "output_type": "display_data"
    }
   ],
   "source": [
    "make_turtle(delay=0, height=300)\n",
    "for i in range(3):\n",
    "    koch(120)\n",
    "    right(120)"
   ]
  },
  {
   "cell_type": "markdown",
   "id": "4c964239",
   "metadata": {},
   "source": [
    "### Exercise\n",
    "\n",
    "Virtual assistants know about the functions in the `jupyturtle` module, but there are many versions of these functions, with different names, so a VA might not know which one you are talking about.\n",
    "\n",
    "To solve this problem, you can provide additional information before you ask a question.\n",
    "For example, you could start a prompt with \"Here's a program that uses the `jupyturtle` module,\" and then paste in one of the examples from this chapter.\n",
    "After that, the VA should be able to generate code that uses this module.\n",
    "\n",
    "As an example, ask a VA for a program that draws a Sierpiński triangle.\n",
    "The code you get should be a good starting place, but you might have to do some debugging.\n",
    "If the first attempt doesn't work, you can tell the VA what happened and ask for help -- or you can debug it yourself."
   ]
  },
  {
   "cell_type": "code",
   "execution_count": 77,
   "id": "68439acf",
   "metadata": {},
   "outputs": [],
   "source": []
  },
  {
   "cell_type": "markdown",
   "id": "6a95097a",
   "metadata": {},
   "source": [
    "Here's what the result might look like, although the version you get might be different."
   ]
  },
  {
   "cell_type": "code",
   "execution_count": 78,
   "id": "43470b3d",
   "metadata": {},
   "outputs": [
    {
     "data": {
      "text/html": [
       "<svg width=\"300\" height=\"200\">\n",
       "    <rect width=\"100%\" height=\"100%\" fill=\"#F3F3F7\" />\n",
       "\n",
       "<line x1=\"150\" y1=\"100\" x2=\"162.5\" y2=\"100.0\"\n",
       "    stroke=\"#663399\" stroke-width=\"2\" />\n",
       "<line x1=\"162.5\" y1=\"100.0\" x2=\"156.2\" y2=\"89.2\"\n",
       "    stroke=\"#663399\" stroke-width=\"2\" />\n",
       "<line x1=\"156.2\" y1=\"89.2\" x2=\"150.0\" y2=\"100.0\"\n",
       "    stroke=\"#663399\" stroke-width=\"2\" />\n",
       "<line x1=\"150.0\" y1=\"100.0\" x2=\"162.5\" y2=\"100.0\"\n",
       "    stroke=\"#663399\" stroke-width=\"2\" />\n",
       "<line x1=\"162.5\" y1=\"100.0\" x2=\"175.0\" y2=\"100.0\"\n",
       "    stroke=\"#663399\" stroke-width=\"2\" />\n",
       "<line x1=\"175.0\" y1=\"100.0\" x2=\"168.8\" y2=\"89.2\"\n",
       "    stroke=\"#663399\" stroke-width=\"2\" />\n",
       "<line x1=\"168.8\" y1=\"89.2\" x2=\"162.5\" y2=\"100.0\"\n",
       "    stroke=\"#663399\" stroke-width=\"2\" />\n",
       "<line x1=\"162.5\" y1=\"100.0\" x2=\"150.0\" y2=\"100.0\"\n",
       "    stroke=\"#663399\" stroke-width=\"2\" />\n",
       "<line x1=\"150.0\" y1=\"100.0\" x2=\"156.2\" y2=\"89.2\"\n",
       "    stroke=\"#663399\" stroke-width=\"2\" />\n",
       "<line x1=\"156.2\" y1=\"89.2\" x2=\"168.8\" y2=\"89.2\"\n",
       "    stroke=\"#663399\" stroke-width=\"2\" />\n",
       "<line x1=\"168.8\" y1=\"89.2\" x2=\"162.5\" y2=\"78.3\"\n",
       "    stroke=\"#663399\" stroke-width=\"2\" />\n",
       "<line x1=\"162.5\" y1=\"78.3\" x2=\"156.2\" y2=\"89.2\"\n",
       "    stroke=\"#663399\" stroke-width=\"2\" />\n",
       "<line x1=\"156.2\" y1=\"89.2\" x2=\"150.0\" y2=\"100.0\"\n",
       "    stroke=\"#663399\" stroke-width=\"2\" />\n",
       "<line x1=\"150.0\" y1=\"100.0\" x2=\"175.0\" y2=\"100.0\"\n",
       "    stroke=\"#663399\" stroke-width=\"2\" />\n",
       "<line x1=\"175.0\" y1=\"100.0\" x2=\"187.5\" y2=\"100.0\"\n",
       "    stroke=\"#663399\" stroke-width=\"2\" />\n",
       "<line x1=\"187.5\" y1=\"100.0\" x2=\"181.2\" y2=\"89.2\"\n",
       "    stroke=\"#663399\" stroke-width=\"2\" />\n",
       "<line x1=\"181.2\" y1=\"89.2\" x2=\"175.0\" y2=\"100.0\"\n",
       "    stroke=\"#663399\" stroke-width=\"2\" />\n",
       "<line x1=\"175.0\" y1=\"100.0\" x2=\"187.5\" y2=\"100.0\"\n",
       "    stroke=\"#663399\" stroke-width=\"2\" />\n",
       "<line x1=\"187.5\" y1=\"100.0\" x2=\"200.0\" y2=\"100.0\"\n",
       "    stroke=\"#663399\" stroke-width=\"2\" />\n",
       "<line x1=\"200.0\" y1=\"100.0\" x2=\"193.8\" y2=\"89.2\"\n",
       "    stroke=\"#663399\" stroke-width=\"2\" />\n",
       "<line x1=\"193.8\" y1=\"89.2\" x2=\"187.5\" y2=\"100.0\"\n",
       "    stroke=\"#663399\" stroke-width=\"2\" />\n",
       "<line x1=\"187.5\" y1=\"100.0\" x2=\"175.0\" y2=\"100.0\"\n",
       "    stroke=\"#663399\" stroke-width=\"2\" />\n",
       "<line x1=\"175.0\" y1=\"100.0\" x2=\"181.2\" y2=\"89.2\"\n",
       "    stroke=\"#663399\" stroke-width=\"2\" />\n",
       "<line x1=\"181.2\" y1=\"89.2\" x2=\"193.8\" y2=\"89.2\"\n",
       "    stroke=\"#663399\" stroke-width=\"2\" />\n",
       "<line x1=\"193.8\" y1=\"89.2\" x2=\"187.5\" y2=\"78.3\"\n",
       "    stroke=\"#663399\" stroke-width=\"2\" />\n",
       "<line x1=\"187.5\" y1=\"78.3\" x2=\"181.2\" y2=\"89.2\"\n",
       "    stroke=\"#663399\" stroke-width=\"2\" />\n",
       "<line x1=\"181.2\" y1=\"89.2\" x2=\"175.0\" y2=\"100.0\"\n",
       "    stroke=\"#663399\" stroke-width=\"2\" />\n",
       "<line x1=\"175.0\" y1=\"100.0\" x2=\"150.0\" y2=\"100.0\"\n",
       "    stroke=\"#663399\" stroke-width=\"2\" />\n",
       "<line x1=\"150.0\" y1=\"100.0\" x2=\"162.5\" y2=\"78.3\"\n",
       "    stroke=\"#663399\" stroke-width=\"2\" />\n",
       "<line x1=\"162.5\" y1=\"78.3\" x2=\"175.0\" y2=\"78.3\"\n",
       "    stroke=\"#663399\" stroke-width=\"2\" />\n",
       "<line x1=\"175.0\" y1=\"78.3\" x2=\"168.8\" y2=\"67.5\"\n",
       "    stroke=\"#663399\" stroke-width=\"2\" />\n",
       "<line x1=\"168.8\" y1=\"67.5\" x2=\"162.5\" y2=\"78.3\"\n",
       "    stroke=\"#663399\" stroke-width=\"2\" />\n",
       "<line x1=\"162.5\" y1=\"78.3\" x2=\"175.0\" y2=\"78.3\"\n",
       "    stroke=\"#663399\" stroke-width=\"2\" />\n",
       "<line x1=\"175.0\" y1=\"78.3\" x2=\"187.5\" y2=\"78.3\"\n",
       "    stroke=\"#663399\" stroke-width=\"2\" />\n",
       "<line x1=\"187.5\" y1=\"78.3\" x2=\"181.2\" y2=\"67.5\"\n",
       "    stroke=\"#663399\" stroke-width=\"2\" />\n",
       "<line x1=\"181.2\" y1=\"67.5\" x2=\"175.0\" y2=\"78.3\"\n",
       "    stroke=\"#663399\" stroke-width=\"2\" />\n",
       "<line x1=\"175.0\" y1=\"78.3\" x2=\"162.5\" y2=\"78.3\"\n",
       "    stroke=\"#663399\" stroke-width=\"2\" />\n",
       "<line x1=\"162.5\" y1=\"78.3\" x2=\"168.8\" y2=\"67.5\"\n",
       "    stroke=\"#663399\" stroke-width=\"2\" />\n",
       "<line x1=\"168.8\" y1=\"67.5\" x2=\"181.2\" y2=\"67.5\"\n",
       "    stroke=\"#663399\" stroke-width=\"2\" />\n",
       "<line x1=\"181.2\" y1=\"67.5\" x2=\"175.0\" y2=\"56.7\"\n",
       "    stroke=\"#663399\" stroke-width=\"2\" />\n",
       "<line x1=\"175.0\" y1=\"56.7\" x2=\"168.8\" y2=\"67.5\"\n",
       "    stroke=\"#663399\" stroke-width=\"2\" />\n",
       "<line x1=\"168.8\" y1=\"67.5\" x2=\"162.5\" y2=\"78.3\"\n",
       "    stroke=\"#663399\" stroke-width=\"2\" />\n",
       "<line x1=\"162.5\" y1=\"78.3\" x2=\"150.0\" y2=\"100.0\"\n",
       "    stroke=\"#663399\" stroke-width=\"2\" />\n",
       "<line x1=\"150.0\" y1=\"100.0\" x2=\"200.0\" y2=\"100.0\"\n",
       "    stroke=\"#663399\" stroke-width=\"2\" />\n",
       "<line x1=\"200.0\" y1=\"100.0\" x2=\"212.5\" y2=\"100.0\"\n",
       "    stroke=\"#663399\" stroke-width=\"2\" />\n",
       "<line x1=\"212.5\" y1=\"100.0\" x2=\"206.2\" y2=\"89.2\"\n",
       "    stroke=\"#663399\" stroke-width=\"2\" />\n",
       "<line x1=\"206.2\" y1=\"89.2\" x2=\"200.0\" y2=\"100.0\"\n",
       "    stroke=\"#663399\" stroke-width=\"2\" />\n",
       "<line x1=\"200.0\" y1=\"100.0\" x2=\"212.5\" y2=\"100.0\"\n",
       "    stroke=\"#663399\" stroke-width=\"2\" />\n",
       "<line x1=\"212.5\" y1=\"100.0\" x2=\"225.0\" y2=\"100.0\"\n",
       "    stroke=\"#663399\" stroke-width=\"2\" />\n",
       "<line x1=\"225.0\" y1=\"100.0\" x2=\"218.8\" y2=\"89.2\"\n",
       "    stroke=\"#663399\" stroke-width=\"2\" />\n",
       "<line x1=\"218.8\" y1=\"89.2\" x2=\"212.5\" y2=\"100.0\"\n",
       "    stroke=\"#663399\" stroke-width=\"2\" />\n",
       "<line x1=\"212.5\" y1=\"100.0\" x2=\"200.0\" y2=\"100.0\"\n",
       "    stroke=\"#663399\" stroke-width=\"2\" />\n",
       "<line x1=\"200.0\" y1=\"100.0\" x2=\"206.2\" y2=\"89.2\"\n",
       "    stroke=\"#663399\" stroke-width=\"2\" />\n",
       "<line x1=\"206.2\" y1=\"89.2\" x2=\"218.8\" y2=\"89.2\"\n",
       "    stroke=\"#663399\" stroke-width=\"2\" />\n",
       "<line x1=\"218.8\" y1=\"89.2\" x2=\"212.5\" y2=\"78.3\"\n",
       "    stroke=\"#663399\" stroke-width=\"2\" />\n",
       "<line x1=\"212.5\" y1=\"78.3\" x2=\"206.2\" y2=\"89.2\"\n",
       "    stroke=\"#663399\" stroke-width=\"2\" />\n",
       "<line x1=\"206.2\" y1=\"89.2\" x2=\"200.0\" y2=\"100.0\"\n",
       "    stroke=\"#663399\" stroke-width=\"2\" />\n",
       "<line x1=\"200.0\" y1=\"100.0\" x2=\"225.0\" y2=\"100.0\"\n",
       "    stroke=\"#663399\" stroke-width=\"2\" />\n",
       "<line x1=\"225.0\" y1=\"100.0\" x2=\"237.5\" y2=\"100.0\"\n",
       "    stroke=\"#663399\" stroke-width=\"2\" />\n",
       "<line x1=\"237.5\" y1=\"100.0\" x2=\"231.2\" y2=\"89.2\"\n",
       "    stroke=\"#663399\" stroke-width=\"2\" />\n",
       "<line x1=\"231.2\" y1=\"89.2\" x2=\"225.0\" y2=\"100.0\"\n",
       "    stroke=\"#663399\" stroke-width=\"2\" />\n",
       "<line x1=\"225.0\" y1=\"100.0\" x2=\"237.5\" y2=\"100.0\"\n",
       "    stroke=\"#663399\" stroke-width=\"2\" />\n",
       "<line x1=\"237.5\" y1=\"100.0\" x2=\"250.0\" y2=\"100.0\"\n",
       "    stroke=\"#663399\" stroke-width=\"2\" />\n",
       "<line x1=\"250.0\" y1=\"100.0\" x2=\"243.8\" y2=\"89.2\"\n",
       "    stroke=\"#663399\" stroke-width=\"2\" />\n",
       "<line x1=\"243.8\" y1=\"89.2\" x2=\"237.5\" y2=\"100.0\"\n",
       "    stroke=\"#663399\" stroke-width=\"2\" />\n",
       "<line x1=\"237.5\" y1=\"100.0\" x2=\"225.0\" y2=\"100.0\"\n",
       "    stroke=\"#663399\" stroke-width=\"2\" />\n",
       "<line x1=\"225.0\" y1=\"100.0\" x2=\"231.2\" y2=\"89.2\"\n",
       "    stroke=\"#663399\" stroke-width=\"2\" />\n",
       "<line x1=\"231.2\" y1=\"89.2\" x2=\"243.8\" y2=\"89.2\"\n",
       "    stroke=\"#663399\" stroke-width=\"2\" />\n",
       "<line x1=\"243.8\" y1=\"89.2\" x2=\"237.5\" y2=\"78.3\"\n",
       "    stroke=\"#663399\" stroke-width=\"2\" />\n",
       "<line x1=\"237.5\" y1=\"78.3\" x2=\"231.2\" y2=\"89.2\"\n",
       "    stroke=\"#663399\" stroke-width=\"2\" />\n",
       "<line x1=\"231.2\" y1=\"89.2\" x2=\"225.0\" y2=\"100.0\"\n",
       "    stroke=\"#663399\" stroke-width=\"2\" />\n",
       "<line x1=\"225.0\" y1=\"100.0\" x2=\"200.0\" y2=\"100.0\"\n",
       "    stroke=\"#663399\" stroke-width=\"2\" />\n",
       "<line x1=\"200.0\" y1=\"100.0\" x2=\"212.5\" y2=\"78.3\"\n",
       "    stroke=\"#663399\" stroke-width=\"2\" />\n",
       "<line x1=\"212.5\" y1=\"78.3\" x2=\"225.0\" y2=\"78.3\"\n",
       "    stroke=\"#663399\" stroke-width=\"2\" />\n",
       "<line x1=\"225.0\" y1=\"78.3\" x2=\"218.8\" y2=\"67.5\"\n",
       "    stroke=\"#663399\" stroke-width=\"2\" />\n",
       "<line x1=\"218.8\" y1=\"67.5\" x2=\"212.5\" y2=\"78.3\"\n",
       "    stroke=\"#663399\" stroke-width=\"2\" />\n",
       "<line x1=\"212.5\" y1=\"78.3\" x2=\"225.0\" y2=\"78.3\"\n",
       "    stroke=\"#663399\" stroke-width=\"2\" />\n",
       "<line x1=\"225.0\" y1=\"78.3\" x2=\"237.5\" y2=\"78.3\"\n",
       "    stroke=\"#663399\" stroke-width=\"2\" />\n",
       "<line x1=\"237.5\" y1=\"78.3\" x2=\"231.2\" y2=\"67.5\"\n",
       "    stroke=\"#663399\" stroke-width=\"2\" />\n",
       "<line x1=\"231.2\" y1=\"67.5\" x2=\"225.0\" y2=\"78.3\"\n",
       "    stroke=\"#663399\" stroke-width=\"2\" />\n",
       "<line x1=\"225.0\" y1=\"78.3\" x2=\"212.5\" y2=\"78.3\"\n",
       "    stroke=\"#663399\" stroke-width=\"2\" />\n",
       "<line x1=\"212.5\" y1=\"78.3\" x2=\"218.8\" y2=\"67.5\"\n",
       "    stroke=\"#663399\" stroke-width=\"2\" />\n",
       "<line x1=\"218.8\" y1=\"67.5\" x2=\"231.2\" y2=\"67.5\"\n",
       "    stroke=\"#663399\" stroke-width=\"2\" />\n",
       "<line x1=\"231.2\" y1=\"67.5\" x2=\"225.0\" y2=\"56.7\"\n",
       "    stroke=\"#663399\" stroke-width=\"2\" />\n",
       "<line x1=\"225.0\" y1=\"56.7\" x2=\"218.8\" y2=\"67.5\"\n",
       "    stroke=\"#663399\" stroke-width=\"2\" />\n",
       "<line x1=\"218.8\" y1=\"67.5\" x2=\"212.5\" y2=\"78.3\"\n",
       "    stroke=\"#663399\" stroke-width=\"2\" />\n",
       "<line x1=\"212.5\" y1=\"78.3\" x2=\"200.0\" y2=\"100.0\"\n",
       "    stroke=\"#663399\" stroke-width=\"2\" />\n",
       "<line x1=\"200.0\" y1=\"100.0\" x2=\"150.0\" y2=\"100.0\"\n",
       "    stroke=\"#663399\" stroke-width=\"2\" />\n",
       "<line x1=\"150.0\" y1=\"100.0\" x2=\"175.0\" y2=\"56.7\"\n",
       "    stroke=\"#663399\" stroke-width=\"2\" />\n",
       "<line x1=\"175.0\" y1=\"56.7\" x2=\"187.5\" y2=\"56.7\"\n",
       "    stroke=\"#663399\" stroke-width=\"2\" />\n",
       "<line x1=\"187.5\" y1=\"56.7\" x2=\"181.2\" y2=\"45.9\"\n",
       "    stroke=\"#663399\" stroke-width=\"2\" />\n",
       "<line x1=\"181.2\" y1=\"45.9\" x2=\"175.0\" y2=\"56.7\"\n",
       "    stroke=\"#663399\" stroke-width=\"2\" />\n",
       "<line x1=\"175.0\" y1=\"56.7\" x2=\"187.5\" y2=\"56.7\"\n",
       "    stroke=\"#663399\" stroke-width=\"2\" />\n",
       "<line x1=\"187.5\" y1=\"56.7\" x2=\"200.0\" y2=\"56.7\"\n",
       "    stroke=\"#663399\" stroke-width=\"2\" />\n",
       "<line x1=\"200.0\" y1=\"56.7\" x2=\"193.8\" y2=\"45.9\"\n",
       "    stroke=\"#663399\" stroke-width=\"2\" />\n",
       "<line x1=\"193.8\" y1=\"45.9\" x2=\"187.5\" y2=\"56.7\"\n",
       "    stroke=\"#663399\" stroke-width=\"2\" />\n",
       "<line x1=\"187.5\" y1=\"56.7\" x2=\"175.0\" y2=\"56.7\"\n",
       "    stroke=\"#663399\" stroke-width=\"2\" />\n",
       "<line x1=\"175.0\" y1=\"56.7\" x2=\"181.2\" y2=\"45.9\"\n",
       "    stroke=\"#663399\" stroke-width=\"2\" />\n",
       "<line x1=\"181.2\" y1=\"45.9\" x2=\"193.8\" y2=\"45.9\"\n",
       "    stroke=\"#663399\" stroke-width=\"2\" />\n",
       "<line x1=\"193.8\" y1=\"45.9\" x2=\"187.5\" y2=\"35.0\"\n",
       "    stroke=\"#663399\" stroke-width=\"2\" />\n",
       "<line x1=\"187.5\" y1=\"35.0\" x2=\"181.2\" y2=\"45.9\"\n",
       "    stroke=\"#663399\" stroke-width=\"2\" />\n",
       "<line x1=\"181.2\" y1=\"45.9\" x2=\"175.0\" y2=\"56.7\"\n",
       "    stroke=\"#663399\" stroke-width=\"2\" />\n",
       "<line x1=\"175.0\" y1=\"56.7\" x2=\"200.0\" y2=\"56.7\"\n",
       "    stroke=\"#663399\" stroke-width=\"2\" />\n",
       "<line x1=\"200.0\" y1=\"56.7\" x2=\"212.5\" y2=\"56.7\"\n",
       "    stroke=\"#663399\" stroke-width=\"2\" />\n",
       "<line x1=\"212.5\" y1=\"56.7\" x2=\"206.2\" y2=\"45.9\"\n",
       "    stroke=\"#663399\" stroke-width=\"2\" />\n",
       "<line x1=\"206.2\" y1=\"45.9\" x2=\"200.0\" y2=\"56.7\"\n",
       "    stroke=\"#663399\" stroke-width=\"2\" />\n",
       "<line x1=\"200.0\" y1=\"56.7\" x2=\"212.5\" y2=\"56.7\"\n",
       "    stroke=\"#663399\" stroke-width=\"2\" />\n",
       "<line x1=\"212.5\" y1=\"56.7\" x2=\"225.0\" y2=\"56.7\"\n",
       "    stroke=\"#663399\" stroke-width=\"2\" />\n",
       "<line x1=\"225.0\" y1=\"56.7\" x2=\"218.8\" y2=\"45.9\"\n",
       "    stroke=\"#663399\" stroke-width=\"2\" />\n",
       "<line x1=\"218.8\" y1=\"45.9\" x2=\"212.5\" y2=\"56.7\"\n",
       "    stroke=\"#663399\" stroke-width=\"2\" />\n",
       "<line x1=\"212.5\" y1=\"56.7\" x2=\"200.0\" y2=\"56.7\"\n",
       "    stroke=\"#663399\" stroke-width=\"2\" />\n",
       "<line x1=\"200.0\" y1=\"56.7\" x2=\"206.2\" y2=\"45.9\"\n",
       "    stroke=\"#663399\" stroke-width=\"2\" />\n",
       "<line x1=\"206.2\" y1=\"45.9\" x2=\"218.8\" y2=\"45.9\"\n",
       "    stroke=\"#663399\" stroke-width=\"2\" />\n",
       "<line x1=\"218.8\" y1=\"45.9\" x2=\"212.5\" y2=\"35.0\"\n",
       "    stroke=\"#663399\" stroke-width=\"2\" />\n",
       "<line x1=\"212.5\" y1=\"35.0\" x2=\"206.2\" y2=\"45.9\"\n",
       "    stroke=\"#663399\" stroke-width=\"2\" />\n",
       "<line x1=\"206.2\" y1=\"45.9\" x2=\"200.0\" y2=\"56.7\"\n",
       "    stroke=\"#663399\" stroke-width=\"2\" />\n",
       "<line x1=\"200.0\" y1=\"56.7\" x2=\"175.0\" y2=\"56.7\"\n",
       "    stroke=\"#663399\" stroke-width=\"2\" />\n",
       "<line x1=\"175.0\" y1=\"56.7\" x2=\"187.5\" y2=\"35.0\"\n",
       "    stroke=\"#663399\" stroke-width=\"2\" />\n",
       "<line x1=\"187.5\" y1=\"35.0\" x2=\"200.0\" y2=\"35.0\"\n",
       "    stroke=\"#663399\" stroke-width=\"2\" />\n",
       "<line x1=\"200.0\" y1=\"35.0\" x2=\"193.8\" y2=\"24.2\"\n",
       "    stroke=\"#663399\" stroke-width=\"2\" />\n",
       "<line x1=\"193.8\" y1=\"24.2\" x2=\"187.5\" y2=\"35.0\"\n",
       "    stroke=\"#663399\" stroke-width=\"2\" />\n",
       "<line x1=\"187.5\" y1=\"35.0\" x2=\"200.0\" y2=\"35.0\"\n",
       "    stroke=\"#663399\" stroke-width=\"2\" />\n",
       "<line x1=\"200.0\" y1=\"35.0\" x2=\"212.5\" y2=\"35.0\"\n",
       "    stroke=\"#663399\" stroke-width=\"2\" />\n",
       "<line x1=\"212.5\" y1=\"35.0\" x2=\"206.2\" y2=\"24.2\"\n",
       "    stroke=\"#663399\" stroke-width=\"2\" />\n",
       "<line x1=\"206.2\" y1=\"24.2\" x2=\"200.0\" y2=\"35.0\"\n",
       "    stroke=\"#663399\" stroke-width=\"2\" />\n",
       "<line x1=\"200.0\" y1=\"35.0\" x2=\"187.5\" y2=\"35.0\"\n",
       "    stroke=\"#663399\" stroke-width=\"2\" />\n",
       "<line x1=\"187.5\" y1=\"35.0\" x2=\"193.8\" y2=\"24.2\"\n",
       "    stroke=\"#663399\" stroke-width=\"2\" />\n",
       "<line x1=\"193.8\" y1=\"24.2\" x2=\"206.2\" y2=\"24.2\"\n",
       "    stroke=\"#663399\" stroke-width=\"2\" />\n",
       "<line x1=\"206.2\" y1=\"24.2\" x2=\"200.0\" y2=\"13.4\"\n",
       "    stroke=\"#663399\" stroke-width=\"2\" />\n",
       "<line x1=\"200.0\" y1=\"13.4\" x2=\"193.8\" y2=\"24.2\"\n",
       "    stroke=\"#663399\" stroke-width=\"2\" />\n",
       "<line x1=\"193.8\" y1=\"24.2\" x2=\"187.5\" y2=\"35.0\"\n",
       "    stroke=\"#663399\" stroke-width=\"2\" />\n",
       "<line x1=\"187.5\" y1=\"35.0\" x2=\"175.0\" y2=\"56.7\"\n",
       "    stroke=\"#663399\" stroke-width=\"2\" />\n",
       "<line x1=\"175.0\" y1=\"56.7\" x2=\"150.0\" y2=\"100.0\"\n",
       "    stroke=\"#663399\" stroke-width=\"2\" />\n",
       "\n",
       "<g transform=\"rotate(-90.0,150.0,100.0) translate(150.0, 100.0)\">\n",
       "    <circle stroke=\"#63A375\" stroke-width=\"2\" fill=\"transparent\" r=\"5.5\" cx=\"0\" cy=\"0\"/>\n",
       "    <polygon points=\"0,12 2,9 -2,9\" style=\"fill:#63A375;stroke:#63A375;stroke-width:2\"/>\n",
       "</g>\n",
       "\n",
       "</svg>"
      ],
      "text/plain": [
       "<IPython.core.display.HTML object>"
      ]
     },
     "metadata": {},
     "output_type": "display_data"
    }
   ],
   "source": [
    "make_turtle(delay=0, height=200)\n",
    "\n",
    "draw_sierpinski(100, 3)"
   ]
  },
  {
   "cell_type": "code",
   "execution_count": null,
   "id": "9d6969d4",
   "metadata": {},
   "outputs": [],
   "source": []
  }
 ],
 "metadata": {
  "celltoolbar": "Tags",
  "kernelspec": {
   "display_name": "Python 3 (ipykernel)",
   "language": "python",
   "name": "python3"
  },
  "language_info": {
   "codemirror_mode": {
    "name": "ipython",
    "version": 3
   },
   "file_extension": ".py",
   "mimetype": "text/x-python",
   "name": "python",
   "nbconvert_exporter": "python",
   "pygments_lexer": "ipython3",
   "version": "3.10.14"
  }
 },
 "nbformat": 4,
 "nbformat_minor": 5
}
