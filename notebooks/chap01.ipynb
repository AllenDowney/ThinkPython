{
 "cells": [
  {
   "cell_type": "code",
   "execution_count": 48,
   "id": "213f9d96",
   "metadata": {
    "tags": [
     "remove-cell"
    ]
   },
   "outputs": [
    {
     "name": "stdout",
     "output_type": "stream",
     "text": [
      "Exception reporting mode: Minimal\n"
     ]
    }
   ],
   "source": [
    "from os.path import basename, exists\n",
    "\n",
    "def download(url):\n",
    "    filename = basename(url)\n",
    "    if not exists(filename):\n",
    "        from urllib.request import urlretrieve\n",
    "\n",
    "        local, _ = urlretrieve(url, filename)\n",
    "        print(\"Downloaded \" + str(local))\n",
    "    return filename\n",
    "\n",
    "download('https://raw.githubusercontent.com/AllenDowney/ThinkPython/v3/thinkpython.py')\n",
    "download('https://raw.githubusercontent.com/AllenDowney/ThinkPython/v3/diagram.py');"
   ]
  },
  {
   "cell_type": "code",
   "execution_count": null,
   "id": "8762cb4f",
   "metadata": {
    "tags": [
     "remove-cell"
    ]
   },
   "outputs": [],
   "source": [
    "import thinkpython\n",
    "\n",
    "%load_ext autoreload\n",
    "%autoreload 2"
   ]
  },
  {
   "cell_type": "markdown",
   "id": "333a6fc9",
   "metadata": {},
   "source": [
    "# Programming as a way of thinking\n",
    "\n",
    "The first goal of this book is to teach you how to program in Python.\n",
    "But learning to program means learning a new way to think, so the second goal of this book is to help you think like a computer scientist.\n",
    "This way of thinking combines some of the best features of mathematics, engineering, and natural science. Like mathematicians, computer scientists use formal languages to denote ideas -- specifically computations.\n",
    "Like engineers, they design things, assembling components into systems and evaluating trade-offs among alternatives.\n",
    "Like scientists, they observe the behavior of complex systems, form hypotheses, and test predictions.\n",
    "\n",
    "We will start with the most basic elements of programming and work our way up.\n",
    "In this chapter, you learn how Python represents numbers, letters, and words.\n",
    "And you'll learn to perform arithmetic operations.\n",
    "\n",
    "You will also start to learn the vocabulary of programming, including terms like operator, expression, value, and type.\n",
    "This vocabulary is important -- you will need it to understand the rest of the book, to communicate with other programmers, and to use and understand virtual assistants."
   ]
  },
  {
   "cell_type": "code",
   "execution_count": 49,
   "id": "0402982d",
   "metadata": {
    "tags": [
     "remove-cell"
    ]
   },
   "outputs": [],
   "source": [
    "## TODO Jupyter introduction for the online version only"
   ]
  },
  {
   "cell_type": "markdown",
   "id": "a371aea3",
   "metadata": {},
   "source": [
    "## Arithmetic operators\n",
    "\n",
    "An **arithmetic operator** is a symbol that represents an arithmetic computation. For example, the plus sign, `+`, performs addition."
   ]
  },
  {
   "cell_type": "code",
   "execution_count": 50,
   "id": "2568ec84",
   "metadata": {},
   "outputs": [
    {
     "data": {
      "text/plain": [
       "42"
      ]
     },
     "execution_count": 50,
     "metadata": {},
     "output_type": "execute_result"
    }
   ],
   "source": [
    "30 + 12"
   ]
  },
  {
   "cell_type": "markdown",
   "id": "fc0e7ce8",
   "metadata": {},
   "source": [
    "The minus sign, `-`, is the operator that performs subtraction."
   ]
  },
  {
   "cell_type": "code",
   "execution_count": 51,
   "id": "c4e75456",
   "metadata": {},
   "outputs": [
    {
     "data": {
      "text/plain": [
       "42"
      ]
     },
     "execution_count": 51,
     "metadata": {},
     "output_type": "execute_result"
    }
   ],
   "source": [
    "43 - 1"
   ]
  },
  {
   "cell_type": "markdown",
   "id": "63e4e780",
   "metadata": {},
   "source": [
    "The asterisk, `*`,  performs multiplication."
   ]
  },
  {
   "cell_type": "code",
   "execution_count": 52,
   "id": "022a7b16",
   "metadata": {},
   "outputs": [
    {
     "data": {
      "text/plain": [
       "42"
      ]
     },
     "execution_count": 52,
     "metadata": {},
     "output_type": "execute_result"
    }
   ],
   "source": [
    "6 * 7"
   ]
  },
  {
   "cell_type": "markdown",
   "id": "a6192d13",
   "metadata": {},
   "source": [
    "And the forward slash, `/`, performs division:"
   ]
  },
  {
   "cell_type": "code",
   "execution_count": 53,
   "id": "05ae1098",
   "metadata": {},
   "outputs": [
    {
     "data": {
      "text/plain": [
       "42.0"
      ]
     },
     "execution_count": 53,
     "metadata": {},
     "output_type": "execute_result"
    }
   ],
   "source": [
    "84 / 2"
   ]
  },
  {
   "cell_type": "markdown",
   "id": "641ad233",
   "metadata": {},
   "source": [
    "Notice that the result of the division is `42.0` rather than `42`. That's because there are two types of numbers in Python: \n",
    "\n",
    "* **integers**, which represent whole numbers, and \n",
    "\n",
    "* **floating-point numbers**, which represent numbers with a decimal point.\n",
    "\n",
    "If you add, subtract, or multiply two integers, the result is an integer.\n",
    "But if you divide two integers, the result is a floating-point number.\n",
    "Python provides another operator, `//`, that performs **integer division**.\n",
    "The result of integer division is always an integer."
   ]
  },
  {
   "cell_type": "code",
   "execution_count": 54,
   "id": "4df5bcaa",
   "metadata": {},
   "outputs": [
    {
     "data": {
      "text/plain": [
       "42"
      ]
     },
     "execution_count": 54,
     "metadata": {},
     "output_type": "execute_result"
    }
   ],
   "source": [
    "84 // 2"
   ]
  },
  {
   "cell_type": "markdown",
   "id": "b2a620ab",
   "metadata": {},
   "source": [
    "Integer division is also called \"floor division\" because it always rounds down (toward the \"floor\"). "
   ]
  },
  {
   "cell_type": "code",
   "execution_count": 55,
   "id": "ef08d549",
   "metadata": {},
   "outputs": [
    {
     "data": {
      "text/plain": [
       "42"
      ]
     },
     "execution_count": 55,
     "metadata": {},
     "output_type": "execute_result"
    }
   ],
   "source": [
    "85 // 2"
   ]
  },
  {
   "cell_type": "markdown",
   "id": "41e2886a",
   "metadata": {},
   "source": [
    "Finally, the operator `**` performs exponentiation; that is, it raises a\n",
    "number to a power:"
   ]
  },
  {
   "cell_type": "code",
   "execution_count": 56,
   "id": "df933e80",
   "metadata": {},
   "outputs": [
    {
     "data": {
      "text/plain": [
       "49"
      ]
     },
     "execution_count": 56,
     "metadata": {},
     "output_type": "execute_result"
    }
   ],
   "source": [
    "7 ** 2"
   ]
  },
  {
   "cell_type": "markdown",
   "id": "b2502fb6",
   "metadata": {},
   "source": [
    "In some other languages, the caret, `^`, is used for exponentiation, but in Python\n",
    "it is a bitwise operator called XOR.\n",
    "If you are not familiar with bitwise operators, the result might be unexpected:"
   ]
  },
  {
   "cell_type": "code",
   "execution_count": 57,
   "id": "306b6b88",
   "metadata": {},
   "outputs": [
    {
     "data": {
      "text/plain": [
       "5"
      ]
     },
     "execution_count": 57,
     "metadata": {},
     "output_type": "execute_result"
    }
   ],
   "source": [
    "7 ^ 2"
   ]
  },
  {
   "cell_type": "markdown",
   "id": "30078370",
   "metadata": {},
   "source": [
    "I won't cover bitwise operators in this book, but you can read about\n",
    "them at <http://wiki.python.org/moin/BitwiseOperators>."
   ]
  },
  {
   "cell_type": "markdown",
   "id": "0f5b7e97",
   "metadata": {},
   "source": [
    "## Expressions\n",
    "\n",
    "A collection of operators and numbers is called an **expression**.\n",
    "An expression can contain any number of operators and numbers.\n",
    "For example, here's an expression that contains two operators."
   ]
  },
  {
   "cell_type": "code",
   "execution_count": 58,
   "id": "6e68101d",
   "metadata": {},
   "outputs": [
    {
     "data": {
      "text/plain": [
       "42"
      ]
     },
     "execution_count": 58,
     "metadata": {},
     "output_type": "execute_result"
    }
   ],
   "source": [
    "7 ** 2 - 7"
   ]
  },
  {
   "cell_type": "markdown",
   "id": "8e95039c",
   "metadata": {},
   "source": [
    "Notice that exponentiation happens before subtraction.\n",
    "Python follows the order of operations you might have learned in a math class: exponentiation happens before multiplication and division, which happen before addition and subtraction.\n",
    "\n",
    "In the following example, multiplication happens before addition."
   ]
  },
  {
   "cell_type": "code",
   "execution_count": 59,
   "id": "ffc25598",
   "metadata": {},
   "outputs": [
    {
     "data": {
      "text/plain": [
       "42"
      ]
     },
     "execution_count": 59,
     "metadata": {},
     "output_type": "execute_result"
    }
   ],
   "source": [
    "5 * 6 + 12"
   ]
  },
  {
   "cell_type": "markdown",
   "id": "914a60d8",
   "metadata": {},
   "source": [
    "If you want the addition to happen first, you can use parentheses."
   ]
  },
  {
   "cell_type": "code",
   "execution_count": 60,
   "id": "8dd1bd9a",
   "metadata": {},
   "outputs": [
    {
     "data": {
      "text/plain": [
       "90"
      ]
     },
     "execution_count": 60,
     "metadata": {},
     "output_type": "execute_result"
    }
   ],
   "source": [
    "5 * (6 + 12)"
   ]
  },
  {
   "cell_type": "markdown",
   "id": "67ae0ae9",
   "metadata": {},
   "source": [
    "Every expression has a **value**.\n",
    "For example, the expression `6 * 7` has the value `42`."
   ]
  },
  {
   "cell_type": "markdown",
   "id": "caebaa51",
   "metadata": {},
   "source": [
    "## Arithmetic functions\n",
    "\n",
    "In addition to the arithmetic operators, Python provides a few **functions** that work with numbers.\n",
    "For example, the `round` function takes a floating-point number and rounds it off to the nearest whole number."
   ]
  },
  {
   "cell_type": "code",
   "execution_count": 61,
   "id": "1e3d5e01",
   "metadata": {},
   "outputs": [
    {
     "data": {
      "text/plain": [
       "42"
      ]
     },
     "execution_count": 61,
     "metadata": {},
     "output_type": "execute_result"
    }
   ],
   "source": [
    "round(42.4)"
   ]
  },
  {
   "cell_type": "code",
   "execution_count": 62,
   "id": "d1b220b9",
   "metadata": {},
   "outputs": [
    {
     "data": {
      "text/plain": [
       "43"
      ]
     },
     "execution_count": 62,
     "metadata": {},
     "output_type": "execute_result"
    }
   ],
   "source": [
    "round(42.6)"
   ]
  },
  {
   "cell_type": "markdown",
   "id": "f5738b4b",
   "metadata": {},
   "source": [
    "Python provides a function called `abs` that computes the absolute value of a number.\n",
    "For a positive number, the absolute value is the number itself."
   ]
  },
  {
   "cell_type": "code",
   "execution_count": 63,
   "id": "ff742476",
   "metadata": {},
   "outputs": [
    {
     "data": {
      "text/plain": [
       "42"
      ]
     },
     "execution_count": 63,
     "metadata": {},
     "output_type": "execute_result"
    }
   ],
   "source": [
    "abs(42)"
   ]
  },
  {
   "cell_type": "markdown",
   "id": "e518494a",
   "metadata": {},
   "source": [
    "For a negative number, the absolute value is positive."
   ]
  },
  {
   "cell_type": "code",
   "execution_count": 64,
   "id": "9247c1a3",
   "metadata": {},
   "outputs": [
    {
     "data": {
      "text/plain": [
       "42"
      ]
     },
     "execution_count": 64,
     "metadata": {},
     "output_type": "execute_result"
    }
   ],
   "source": [
    "abs(-42)"
   ]
  },
  {
   "cell_type": "markdown",
   "id": "6969ce45",
   "metadata": {},
   "source": [
    "When we use a function like this, we say we're **calling** the function -- so\n",
    "an expression that calls a function is a **function call**.\n",
    "\n",
    "When you call a function, the parentheses are required.\n",
    "If you leave them out, you get an error message.\n",
    "\n",
    "NOTE TO EDITOR: Lines that begin with `%%expect` will be removed automatically."
   ]
  },
  {
   "cell_type": "code",
   "execution_count": 65,
   "id": "4674b7ca",
   "metadata": {
    "tags": [
     "raises-exception"
    ]
   },
   "outputs": [
    {
     "ename": "SyntaxError",
     "evalue": "invalid syntax (<string>, line 2)",
     "output_type": "error",
     "traceback": [
      "\u001b[0;36m  File \u001b[0;32m<string>:2\u001b[0;36m\u001b[0m\n\u001b[0;31m    abs 42\u001b[0m\n\u001b[0m        ^\u001b[0m\n\u001b[0;31mSyntaxError\u001b[0m\u001b[0;31m:\u001b[0m invalid syntax\n"
     ]
    }
   ],
   "source": [
    "%%expect SyntaxError\n",
    "\n",
    "abs 42"
   ]
  },
  {
   "cell_type": "markdown",
   "id": "7d356f1b",
   "metadata": {},
   "source": [
    "You can ignore the first line of this message; it doesn't contain any information we need to understand right now.\n",
    "The second line is the line of code that contains the error, with a caret (`^`) beneath it to indicate where the error was discovered.\n",
    "\n",
    "The last line indicates that this is a **syntax error**, which means that there is something wrong with the structure of the expression.\n",
    "In this example, the problem is that a function call requires parentheses.\n",
    "\n",
    "Let's see what happens if you leave out the parentheses *and* the value."
   ]
  },
  {
   "cell_type": "code",
   "execution_count": 66,
   "id": "7d3e8127",
   "metadata": {},
   "outputs": [
    {
     "data": {
      "text/plain": [
       "<function abs(x, /)>"
      ]
     },
     "execution_count": 66,
     "metadata": {},
     "output_type": "execute_result"
    }
   ],
   "source": [
    "abs"
   ]
  },
  {
   "cell_type": "markdown",
   "id": "94478885",
   "metadata": {},
   "source": [
    "A function name all by itself is a legal expression that has a value.\n",
    "When it's displayed, the value indicates that `abs` is a function, and it includes some additional information I'll explain later."
   ]
  },
  {
   "cell_type": "markdown",
   "id": "31a85d17",
   "metadata": {},
   "source": [
    "## Strings\n",
    "\n",
    "In addition to numbers, Python can also represent sequences of letters, which are called **strings** because the letters are strung together like beads on a necklace.\n",
    "To write a string, we can put a sequence of letters inside straight quotation marks."
   ]
  },
  {
   "cell_type": "code",
   "execution_count": 67,
   "id": "bd8ae45f",
   "metadata": {},
   "outputs": [
    {
     "data": {
      "text/plain": [
       "'Hello'"
      ]
     },
     "execution_count": 67,
     "metadata": {},
     "output_type": "execute_result"
    }
   ],
   "source": [
    "'Hello'"
   ]
  },
  {
   "cell_type": "markdown",
   "id": "d20050d8",
   "metadata": {},
   "source": [
    "It is also legal to use double quotation marks."
   ]
  },
  {
   "cell_type": "code",
   "execution_count": 68,
   "id": "01d0055e",
   "metadata": {},
   "outputs": [
    {
     "data": {
      "text/plain": [
       "'world'"
      ]
     },
     "execution_count": 68,
     "metadata": {},
     "output_type": "execute_result"
    }
   ],
   "source": [
    "\"world\""
   ]
  },
  {
   "cell_type": "markdown",
   "id": "76f5edb7",
   "metadata": {},
   "source": [
    "Double quotes make it easy to write a string that contains an apostrophe, which is the same symbol as a straight quote."
   ]
  },
  {
   "cell_type": "code",
   "execution_count": 69,
   "id": "0295acab",
   "metadata": {},
   "outputs": [
    {
     "data": {
      "text/plain": [
       "\"it's a small \""
      ]
     },
     "execution_count": 69,
     "metadata": {},
     "output_type": "execute_result"
    }
   ],
   "source": [
    "\"it's a small \""
   ]
  },
  {
   "cell_type": "markdown",
   "id": "d62d4b1c",
   "metadata": {},
   "source": [
    "Strings can also contain spaces, punctuation, and digits."
   ]
  },
  {
   "cell_type": "code",
   "execution_count": 70,
   "id": "cf918917",
   "metadata": {},
   "outputs": [
    {
     "data": {
      "text/plain": [
       "'Well, '"
      ]
     },
     "execution_count": 70,
     "metadata": {},
     "output_type": "execute_result"
    }
   ],
   "source": [
    "'Well, '"
   ]
  },
  {
   "cell_type": "markdown",
   "id": "9ad47f7a",
   "metadata": {},
   "source": [
    "The `+` operator works with strings; it joins two strings into a single string, which is called **concatenation**"
   ]
  },
  {
   "cell_type": "code",
   "execution_count": 71,
   "id": "aefe6af1",
   "metadata": {},
   "outputs": [
    {
     "data": {
      "text/plain": [
       "\"Well, it's a small world.\""
      ]
     },
     "execution_count": 71,
     "metadata": {},
     "output_type": "execute_result"
    }
   ],
   "source": [
    "'Well, ' + \"it's a small \" + 'world.'"
   ]
  },
  {
   "cell_type": "markdown",
   "id": "0ad969a3",
   "metadata": {},
   "source": [
    "The `*` operator also works with strings; it makes multiple copies of a string and concatenates them."
   ]
  },
  {
   "cell_type": "code",
   "execution_count": 72,
   "id": "42e9e4e2",
   "metadata": {},
   "outputs": [
    {
     "data": {
      "text/plain": [
       "'Spam, Spam, Spam, Spam, '"
      ]
     },
     "execution_count": 72,
     "metadata": {},
     "output_type": "execute_result"
    }
   ],
   "source": [
    "'Spam, ' * 4"
   ]
  },
  {
   "cell_type": "markdown",
   "id": "dfba16a5",
   "metadata": {},
   "source": [
    "The other arithmetic operators don't work with strings.\n",
    "\n",
    "Python provides a function called `len` that computes the length of a string.`"
   ]
  },
  {
   "cell_type": "code",
   "execution_count": 73,
   "id": "a5e837db",
   "metadata": {},
   "outputs": [
    {
     "data": {
      "text/plain": [
       "4"
      ]
     },
     "execution_count": 73,
     "metadata": {},
     "output_type": "execute_result"
    }
   ],
   "source": [
    "len('Spam')"
   ]
  },
  {
   "cell_type": "markdown",
   "id": "d91e00b3",
   "metadata": {},
   "source": [
    "Notice that `len` counts the letters between the quotes, but not the quotes.\n",
    "\n",
    "When you create a string, be sure to use straight quotes.\n",
    "The back quote, also known as a backtick, is not a legal character in Python."
   ]
  },
  {
   "cell_type": "code",
   "execution_count": 74,
   "id": "e3f65f19",
   "metadata": {
    "tags": [
     "raises-exception"
    ]
   },
   "outputs": [
    {
     "ename": "SyntaxError",
     "evalue": "invalid syntax (<string>, line 2)",
     "output_type": "error",
     "traceback": [
      "\u001b[0;36m  File \u001b[0;32m<string>:2\u001b[0;36m\u001b[0m\n\u001b[0;31m    `Hello`\u001b[0m\n\u001b[0m    ^\u001b[0m\n\u001b[0;31mSyntaxError\u001b[0m\u001b[0;31m:\u001b[0m invalid syntax\n"
     ]
    }
   ],
   "source": [
    "%%expect SyntaxError\n",
    "\n",
    "`Hello`"
   ]
  },
  {
   "cell_type": "markdown",
   "id": "40d893d1",
   "metadata": {},
   "source": [
    "Smart quotes, also known as curly quotes, are also illegal."
   ]
  },
  {
   "cell_type": "markdown",
   "id": "5471d4f8",
   "metadata": {},
   "source": [
    "## Values and types\n",
    "\n",
    "So far we've seen three kinds of values:\n",
    "\n",
    "* `2` is an integer,\n",
    "\n",
    "* `42.0` is a floating-point number, and \n",
    "\n",
    "* `'Hello'` is a string.\n",
    "\n",
    "A kind of value is called a **type**.\n",
    "Every value has a type -- or we sometimes say it \"belongs to\" a type.\n",
    "\n",
    "Python provides a function called `type` that tells you the type of any value.\n",
    "The type of an integer is `int`."
   ]
  },
  {
   "cell_type": "code",
   "execution_count": 75,
   "id": "3df8e2c5",
   "metadata": {},
   "outputs": [
    {
     "data": {
      "text/plain": [
       "int"
      ]
     },
     "execution_count": 75,
     "metadata": {},
     "output_type": "execute_result"
    }
   ],
   "source": [
    "type(2)"
   ]
  },
  {
   "cell_type": "markdown",
   "id": "b137814c",
   "metadata": {},
   "source": [
    "The type of a floating-point number is `float`."
   ]
  },
  {
   "cell_type": "code",
   "execution_count": 76,
   "id": "c4732c8d",
   "metadata": {},
   "outputs": [
    {
     "data": {
      "text/plain": [
       "float"
      ]
     },
     "execution_count": 76,
     "metadata": {},
     "output_type": "execute_result"
    }
   ],
   "source": [
    "type(42.0)"
   ]
  },
  {
   "cell_type": "markdown",
   "id": "266dea4e",
   "metadata": {},
   "source": [
    "And the type of a string is `str`."
   ]
  },
  {
   "cell_type": "code",
   "execution_count": 77,
   "id": "8f65ac45",
   "metadata": {},
   "outputs": [
    {
     "data": {
      "text/plain": [
       "str"
      ]
     },
     "execution_count": 77,
     "metadata": {},
     "output_type": "execute_result"
    }
   ],
   "source": [
    "type('Hello, World!')"
   ]
  },
  {
   "cell_type": "markdown",
   "id": "76d216ed",
   "metadata": {},
   "source": [
    "The types `int`, `float`, and `str` can be used as functions.\n",
    "For example, `int` can take a floating-point number and convert it to an integer (always rounding down)."
   ]
  },
  {
   "cell_type": "code",
   "execution_count": 78,
   "id": "84b22f2f",
   "metadata": {},
   "outputs": [
    {
     "data": {
      "text/plain": [
       "42"
      ]
     },
     "execution_count": 78,
     "metadata": {},
     "output_type": "execute_result"
    }
   ],
   "source": [
    "int(42.9)"
   ]
  },
  {
   "cell_type": "markdown",
   "id": "dcd8d114",
   "metadata": {},
   "source": [
    "And `float` can convert an integer to a floating-point value."
   ]
  },
  {
   "cell_type": "code",
   "execution_count": 79,
   "id": "9b66ee21",
   "metadata": {},
   "outputs": [
    {
     "data": {
      "text/plain": [
       "42.0"
      ]
     },
     "execution_count": 79,
     "metadata": {},
     "output_type": "execute_result"
    }
   ],
   "source": [
    "float(42)"
   ]
  },
  {
   "cell_type": "markdown",
   "id": "eda70b61",
   "metadata": {},
   "source": [
    "Now, here's something that can be confusing.\n",
    "What do you get if you put a sequence of digits in quotes?"
   ]
  },
  {
   "cell_type": "code",
   "execution_count": 80,
   "id": "f64e107c",
   "metadata": {},
   "outputs": [
    {
     "data": {
      "text/plain": [
       "'126'"
      ]
     },
     "execution_count": 80,
     "metadata": {},
     "output_type": "execute_result"
    }
   ],
   "source": [
    "'126'"
   ]
  },
  {
   "cell_type": "markdown",
   "id": "fdded653",
   "metadata": {},
   "source": [
    "It looks like a number, but it is actually a string."
   ]
  },
  {
   "cell_type": "code",
   "execution_count": 81,
   "id": "609a8153",
   "metadata": {},
   "outputs": [
    {
     "data": {
      "text/plain": [
       "str"
      ]
     },
     "execution_count": 81,
     "metadata": {},
     "output_type": "execute_result"
    }
   ],
   "source": [
    "type('126')"
   ]
  },
  {
   "cell_type": "markdown",
   "id": "2683ac35",
   "metadata": {},
   "source": [
    "If you try to use it like a number, you might get an error."
   ]
  },
  {
   "cell_type": "code",
   "execution_count": 82,
   "id": "1cf21da4",
   "metadata": {
    "tags": [
     "raises-exception"
    ]
   },
   "outputs": [
    {
     "ename": "TypeError",
     "evalue": "unsupported operand type(s) for /: 'str' and 'int'",
     "output_type": "error",
     "traceback": [
      "\u001b[0;31mTypeError\u001b[0m\u001b[0;31m:\u001b[0m unsupported operand type(s) for /: 'str' and 'int'\n"
     ]
    }
   ],
   "source": [
    "%%expect TypeError\n",
    "\n",
    "'126' / 3"
   ]
  },
  {
   "cell_type": "markdown",
   "id": "32c11cc4",
   "metadata": {},
   "source": [
    "This example generates a `TypeError`, which means that the values in the expression, which are called **operands**, have the wrong type.\n",
    "The error message indicates that the `/` operator does not support the types of these values, which are `str` and `int`.\n",
    "\n",
    "If you have a string that contains digits, you can use `int` to convert it to an integer."
   ]
  },
  {
   "cell_type": "code",
   "execution_count": 83,
   "id": "d45e6a60",
   "metadata": {},
   "outputs": [
    {
     "data": {
      "text/plain": [
       "42.0"
      ]
     },
     "execution_count": 83,
     "metadata": {},
     "output_type": "execute_result"
    }
   ],
   "source": [
    "int('126') / 3"
   ]
  },
  {
   "cell_type": "markdown",
   "id": "86935d56",
   "metadata": {},
   "source": [
    "If you have a string that contains digits and a decimal point, you can use `float` to convert it to a floating-point number."
   ]
  },
  {
   "cell_type": "code",
   "execution_count": 84,
   "id": "db30b719",
   "metadata": {},
   "outputs": [
    {
     "data": {
      "text/plain": [
       "12.6"
      ]
     },
     "execution_count": 84,
     "metadata": {},
     "output_type": "execute_result"
    }
   ],
   "source": [
    "float('12.6')"
   ]
  },
  {
   "cell_type": "markdown",
   "id": "03103ef4",
   "metadata": {},
   "source": [
    "When you write a large integer, you might be tempted to use commas\n",
    "between groups of digits, as in `1,000,000`.\n",
    "This is a legal expression in Python, but the result is not an integer."
   ]
  },
  {
   "cell_type": "code",
   "execution_count": 85,
   "id": "d72b6af1",
   "metadata": {},
   "outputs": [
    {
     "data": {
      "text/plain": [
       "(1, 0, 0)"
      ]
     },
     "execution_count": 85,
     "metadata": {},
     "output_type": "execute_result"
    }
   ],
   "source": [
    "1,000,000"
   ]
  },
  {
   "cell_type": "markdown",
   "id": "3d24af71",
   "metadata": {},
   "source": [
    "Python interprets `1,000,000` as a comma-separated sequence of integers.\n",
    "We'll learn more about this kind of sequence later."
   ]
  },
  {
   "cell_type": "markdown",
   "id": "1761cbac",
   "metadata": {},
   "source": [
    "## Formal and natural languages\n",
    "\n",
    "**Natural languages** are the languages people speak, like English, Spanish, and French. They were not designed by people; they evolved naturally.\n",
    "\n",
    "**Formal languages** are languages that are designed by people for specific applications. \n",
    "For example, the notation that mathematicians use is a formal language that is particularly good at denoting relationships among numbers and symbols.\n",
    "Similarly, programming languages are formal languages that have been designed to express computations."
   ]
  },
  {
   "cell_type": "markdown",
   "id": "1bf3d2dc",
   "metadata": {},
   "source": [
    "Although formal and natural languages have some features in\n",
    "common there are important differences:\n",
    "\n",
    "* Ambiguity: Natural languages are full of ambiguity, which people deal with by\n",
    "    using contextual clues and other information. Formal languages are\n",
    "    designed to be nearly or completely unambiguous, which means that\n",
    "    any program has exactly one meaning, regardless of context.\n",
    "\n",
    "* Redundancy: In order to make up for ambiguity and reduce misunderstandings,\n",
    "    natural languages use redundancy. As a result, they are\n",
    "    often verbose. Formal languages are less redundant and more concise.\n",
    "\n",
    "* Literalness: Natural languages are full of idiom and metaphor. Formal languages mean exactly what they say."
   ]
  },
  {
   "cell_type": "markdown",
   "id": "78a1cec8",
   "metadata": {},
   "source": [
    "Because we all grow up speaking natural languages, it is sometimes hard to adjust to formal languages.\n",
    "Formal languages are more dense than natural languages, so it takes longer to read them.\n",
    "Also, the structure is important, so it is not always best to read from top to bottom, left to right.\n",
    "Finally, the details matter. Small errors in spelling and\n",
    "punctuation, which you can get away with in natural languages, can make\n",
    "a big difference in a formal language."
   ]
  },
  {
   "cell_type": "markdown",
   "id": "4358fa9a",
   "metadata": {},
   "source": [
    "## Debugging\n",
    "\n",
    "Programmers make mistakes. For whimsical reasons, programming errors are called **bugs** and the process of tracking them down is called **debugging**.\n",
    "\n",
    "Programming, and especially debugging, sometimes brings out strong emotions. If you are struggling with a difficult bug, you might feel angry, sad, or embarrassed.\n",
    "\n",
    "Preparing for these reactions might help you deal with them. One approach is to think of the computer as an employee with certain strengths, like speed and precision, and particular weaknesses, like lack of empathy and inability to grasp the big picture.\n",
    "\n",
    "Your job is to be a good manager: find ways to take advantage of the strengths and mitigate the weaknesses. And find ways to use your emotions to engage with the problem, without letting your reactions interfere with your ability to work effectively.\n",
    "\n",
    "Learning to debug can be frustrating, but it is a valuable skill that is useful for many activities beyond programming. At the end of each chapter there is a section, like this one, with my suggestions for debugging. I hope they help!"
   ]
  },
  {
   "cell_type": "markdown",
   "id": "33b8ad00",
   "metadata": {},
   "source": [
    "## Glossary\n",
    "\n",
    "**arithmetic operator:**\n",
    "A symbol, like `+` and `*`, that denotes an arithmetic operation like addition or multiplication.\n",
    "\n",
    "**integer:**\n",
    "A type that represents whole numbers.\n",
    "\n",
    "**floating-point:**\n",
    "A type that represents numbers with fractional parts.\n",
    "\n",
    "**integer division:**\n",
    "An operator, `//`, that divides two numbers and rounds down to an integer.\n",
    "\n",
    "**expression:**\n",
    "A combination of variables, values, and operators.\n",
    "\n",
    "**value:**\n",
    "An integer, floating-point number, or string -- or one of other kinds of values we will see later.\n",
    "\n",
    "**function:**\n",
    "A named sequence of statements that performs some useful operation.\n",
    "Functions may or may not take arguments and may or may not produce a result.\n",
    "\n",
    "**function call:**\n",
    "An expression -- or part of an expression -- that runs a function.\n",
    "It consists of the function name followed by an argument list in parentheses.\n",
    "\n",
    "**syntax error:**\n",
    "An error in a program that makes it impossible to parse -- and therefore impossible to run.\n",
    "\n",
    "**string:**\n",
    " A type that represents sequences of characters.\n",
    "\n",
    "**concatenation:**\n",
    "Joining two strings end-to-end.\n",
    "\n",
    "**type:**\n",
    "A category of values.\n",
    "The types we have seen so far are integers (type `int`), floating-point numbers (type ` float`), and strings (type `str`).\n",
    "\n",
    "**operand:**\n",
    "One of the values on which an operator operates.\n",
    "\n",
    "**natural language:**\n",
    "Any of the languages that people speak that evolved naturally.\n",
    "\n",
    "**formal language:**\n",
    "Any of the languages that people have designed for specific purposes, such as representing mathematical ideas or computer programs.\n",
    "All programming languages are formal languages.\n",
    "\n",
    "**bug:**\n",
    "An error in a program.\n",
    "\n",
    "**debugging:**\n",
    "The process of finding and correcting errors."
   ]
  },
  {
   "cell_type": "markdown",
   "id": "ed4ec01b",
   "metadata": {},
   "source": [
    "## Exercises"
   ]
  },
  {
   "cell_type": "markdown",
   "id": "23adf208",
   "metadata": {},
   "source": [
    "### Ask a virtual assistant\n",
    "\n",
    "As you work through this book, there are several ways you can use a chatbot or virtual assistant to help you learn.\n",
    "\n",
    "* If you would like to learn more about any of the topics in the chapter, or anything is unclear, you can ask for an explanation.\n",
    "\n",
    "* If you are having a hard time with any of the exercises, you can ask for help.\n",
    "\n",
    "In each chapter, I'll suggest exercises you can do with a virtual assistant, but I encourage you to try things on your own and see what works for you."
   ]
  },
  {
   "cell_type": "markdown",
   "id": "ebf1a451",
   "metadata": {},
   "source": [
    "* Earlier I mentioned bitwise operators but I didn't explain why the value of `7 ^ 2` is 5. Try asking \"What are the bitwise operators in Python?\" or \"What is the value of `7 XOR 2`?\"\n",
    "\n",
    "* I also mentioned the order of operations. For more details, ask \"What is the order of operations in Python?\"\n",
    "\n",
    "* The `round` function, which we used to round a floating-point number to the nearest whole number, can take a second argument. Try asking \"What are the arguments of the round function?\" or \"How do I round pi off to three decimal places?\"\n",
    "\n",
    "* There's one more arithmetic operator I didn't mention: try asking \"What is the modulus operator in Python?\""
   ]
  },
  {
   "cell_type": "markdown",
   "id": "9be3e1c7",
   "metadata": {},
   "source": [
    "Most virtual assistants know about Python, so they answer questions like this pretty reliably.\n",
    "But remember that chatbots make mistakes.\n",
    "If you get code from a chatbot, test it!"
   ]
  },
  {
   "cell_type": "markdown",
   "id": "03c1ef93",
   "metadata": {},
   "source": [
    "### Exercise\n",
    "\n",
    "You might wonder what `round` does if a number ends in `0.5`.\n",
    "The answer is that it sometimes rounds up and sometimes rounds down.\n",
    "Try these examples and see if you can figure out what rule it follows."
   ]
  },
  {
   "cell_type": "code",
   "execution_count": 86,
   "id": "5d358f37",
   "metadata": {},
   "outputs": [
    {
     "data": {
      "text/plain": [
       "42"
      ]
     },
     "execution_count": 86,
     "metadata": {},
     "output_type": "execute_result"
    }
   ],
   "source": [
    "round(42.5)"
   ]
  },
  {
   "cell_type": "code",
   "execution_count": 87,
   "id": "12aa59a3",
   "metadata": {},
   "outputs": [
    {
     "data": {
      "text/plain": [
       "44"
      ]
     },
     "execution_count": 87,
     "metadata": {},
     "output_type": "execute_result"
    }
   ],
   "source": [
    "round(43.5)"
   ]
  },
  {
   "cell_type": "markdown",
   "id": "dd2f890e",
   "metadata": {},
   "source": [
    "If you are curious, ask a virtual assistant, \"If a number ends in 0.5, does Python round up or down?\""
   ]
  },
  {
   "cell_type": "markdown",
   "id": "2cd03bcb",
   "metadata": {},
   "source": [
    "### Exercise\n",
    "\n",
    "When you learn about a new feature, you should try it out and make mistakes on purpose.\n",
    "That way, you get to learn the error messages, and when you see them again, you will know what they mean.\n",
    "It is better to make mistakes now and deliberately than later and accidentally.\n",
    "\n",
    "1.  You can use a minus sign to make a negative number like `-2`. What happens if you put a plus sign before a number? What about `2++2`?\n",
    "\n",
    "2.  What happens if you have two values with no operator between them, like `4 2`?\n",
    "\n",
    "3.  If you call a function like `round(42.5)`, what happens if you leave out one or both parentheses?"
   ]
  },
  {
   "cell_type": "markdown",
   "id": "1fb0adfe",
   "metadata": {},
   "source": [
    "### Exercise\n",
    "\n",
    "In this chapter, I said that every expression has a value, every value has a type, and we can use the `type` function to find the type of any value.\n",
    "\n",
    "What is the type of the value of the following expressions? Make your best guess for each one, and then use `type` to find out.\n",
    "\n",
    "* `765`\n",
    "\n",
    "* `2.718`\n",
    "\n",
    "* `'2 pi'`\n",
    "\n",
    "* `abs(-7)`\n",
    "\n",
    "* `abs(-7.0)`\n",
    "\n",
    "* `abs`\n",
    "\n",
    "* `int`\n",
    "\n",
    "* `type`"
   ]
  },
  {
   "cell_type": "markdown",
   "id": "23762eec",
   "metadata": {},
   "source": [
    "### Exercise\n",
    "\n",
    "The following questions give you a chance to practice arithmetic expressions.\n",
    "\n",
    "1.  How many seconds are there in 42 minutes 42 seconds?\n",
    "\n",
    "2.  How many miles are there in 10 kilometers? Hint: there are 1.61\n",
    "    kilometers in a mile.\n",
    "\n",
    "3.  If you run a 10 kilometer race in 42 minutes 42 seconds, what is your average pace in seconds per mile? \n",
    "    \n",
    "4.  What is your average pace in minutes and seconds per mile?\n",
    "\n",
    "5.  What is your average speed in miles per hour?\n",
    "\n",
    "If you already know about variables, you can use them for this exercise.\n",
    "If you don't, you can do the exercise without them -- and then we'll see them in the next chapter."
   ]
  },
  {
   "cell_type": "code",
   "execution_count": 88,
   "id": "8fb50f30",
   "metadata": {},
   "outputs": [
    {
     "data": {
      "text/plain": [
       "2562"
      ]
     },
     "execution_count": 88,
     "metadata": {},
     "output_type": "execute_result"
    }
   ],
   "source": [
    "# Solution\n",
    "# total seconds\n",
    "42 * 60 + 42"
   ]
  },
  {
   "cell_type": "code",
   "execution_count": 89,
   "id": "5eceb4fb",
   "metadata": {},
   "outputs": [
    {
     "data": {
      "text/plain": [
       "6.211180124223602"
      ]
     },
     "execution_count": 89,
     "metadata": {},
     "output_type": "execute_result"
    }
   ],
   "source": [
    "# Solution\n",
    "# number of miles\n",
    "10 / 1.61"
   ]
  },
  {
   "cell_type": "code",
   "execution_count": 90,
   "id": "fee97d8d",
   "metadata": {},
   "outputs": [
    {
     "data": {
      "text/plain": [
       "412.48200824964016"
      ]
     },
     "execution_count": 90,
     "metadata": {},
     "output_type": "execute_result"
    }
   ],
   "source": [
    "# Solution\n",
    "# seconds per mile\n",
    "2562 / 6.21118"
   ]
  },
  {
   "cell_type": "code",
   "execution_count": 91,
   "id": "a998258c",
   "metadata": {},
   "outputs": [
    {
     "data": {
      "text/plain": [
       "6.0"
      ]
     },
     "execution_count": 91,
     "metadata": {},
     "output_type": "execute_result"
    }
   ],
   "source": [
    "# Solution\n",
    "# minute part of pace\n",
    "412.48 // 60"
   ]
  },
  {
   "cell_type": "code",
   "execution_count": 92,
   "id": "2e0fc7a9",
   "metadata": {},
   "outputs": [
    {
     "data": {
      "text/plain": [
       "52.48000000000002"
      ]
     },
     "execution_count": 92,
     "metadata": {},
     "output_type": "execute_result"
    }
   ],
   "source": [
    "# Solution\n",
    "# seconds part of pace\n",
    "412.48 % 60"
   ]
  },
  {
   "cell_type": "code",
   "execution_count": 93,
   "id": "d25268d8",
   "metadata": {},
   "outputs": [
    {
     "data": {
      "text/plain": [
       "0.7116666666666667"
      ]
     },
     "execution_count": 93,
     "metadata": {},
     "output_type": "execute_result"
    }
   ],
   "source": [
    "# Solution\n",
    "# hours\n",
    "2562 / 60 / 60"
   ]
  },
  {
   "cell_type": "code",
   "execution_count": 94,
   "id": "523d9b0f",
   "metadata": {},
   "outputs": [
    {
     "data": {
      "text/plain": [
       "8.588017412662682"
      ]
     },
     "execution_count": 94,
     "metadata": {},
     "output_type": "execute_result"
    }
   ],
   "source": [
    "# Solution\n",
    "# miles per hour\n",
    "6.1118 / 0.711666"
   ]
  },
  {
   "cell_type": "code",
   "execution_count": null,
   "id": "ca083ccf",
   "metadata": {},
   "outputs": [],
   "source": []
  }
 ],
 "metadata": {
  "celltoolbar": "Tags",
  "kernelspec": {
   "display_name": "Python 3 (ipykernel)",
   "language": "python",
   "name": "python3"
  },
  "language_info": {
   "codemirror_mode": {
    "name": "ipython",
    "version": 3
   },
   "file_extension": ".py",
   "mimetype": "text/x-python",
   "name": "python",
   "nbconvert_exporter": "python",
   "pygments_lexer": "ipython3",
   "version": "3.10.11"
  }
 },
 "nbformat": 4,
 "nbformat_minor": 5
}
