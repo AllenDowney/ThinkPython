{
 "cells": [
  {
   "cell_type": "markdown",
   "id": "1331faa1",
   "metadata": {},
   "source": [
    "You can order print and ebook versions of *Think Python 3e* from\n",
    "[Bookshop.org](https://bookshop.org/a/98697/9781098155438) and\n",
    "[Amazon](https://www.amazon.com/_/dp/1098155432?smid=ATVPDKIKX0DER&_encoding=UTF8&tag=oreilly20-20&_encoding=UTF8&tag=greenteapre01-20&linkCode=ur2&linkId=e2a529f94920295d27ec8a06e757dc7c&camp=1789&creative=9325)."
   ]
  },
  {
   "cell_type": "code",
   "execution_count": 1,
   "id": "ae5a86f8",
   "metadata": {
    "tags": []
   },
   "outputs": [],
   "source": []
  },
  {
   "cell_type": "markdown",
   "id": "e826e661",
   "metadata": {},
   "source": [
    "# Classes and Objects\n",
    "\n",
    "At this point we have defined classes and created objects that represent the time of day and the day of the year.\n",
    "And we've defined methods that create, modify, and perform computations with these objects.\n",
    "\n",
    "In this chapter we'll continue our tour of object-oriented programming (OOP) by defining classes that represent geometric objects, including points, lines, rectangles, and circles.\n",
    "We'll write methods that create and modify these objects, and we'll use the `jupyturtle` module to draw them.\n",
    "\n",
    "I'll use these classes to demonstrate OOP topics including object identity and equivalence, shallow and deep copying, and polymorphism."
   ]
  },
  {
   "cell_type": "markdown",
   "id": "6b414d4a",
   "metadata": {
    "tags": []
   },
   "source": [
    "## Creating a Point\n",
    "\n",
    "In computer graphics a location on the screen is often represented using a pair of coordinates in an `x`-`y` plane.\n",
    "By convention, the point `(0, 0)` usually represents the upper-left corner of the screen, and  `(x, y)` represents the point `x` units to the right and `y` units down from the origin.\n",
    "Compared to the Cartesian coordinate system you might have seen in a math class, the `y` axis is upside-down.\n",
    "\n",
    "There are several ways we might represent a point in Python:\n",
    "\n",
    "-   We can store the coordinates separately in two variables, `x` and `y`.\n",
    "\n",
    "-   We can store the coordinates as elements in a list or tuple.\n",
    "\n",
    "-   We can create a new type to represent points as objects.\n",
    "\n",
    "In object-oriented programming, it would be most idiomatic to create a new type.\n",
    "To do that, we'll start with a class definition for `Point`."
   ]
  },
  {
   "cell_type": "code",
   "execution_count": 2,
   "id": "c9c99d2c",
   "metadata": {},
   "outputs": [],
   "source": []
  },
  {
   "cell_type": "markdown",
   "id": "3d35a095",
   "metadata": {},
   "source": [
    "The `__init__` method takes the coordinates as parameters and assigns them to attributes `x` and `y`.\n",
    "The `__str__` method returns a string representation of the `Point`.\n",
    "\n",
    "Now we can instantiate and display a `Point` object like this."
   ]
  },
  {
   "cell_type": "code",
   "execution_count": 3,
   "id": "d318001a",
   "metadata": {},
   "outputs": [],
   "source": []
  },
  {
   "cell_type": "markdown",
   "id": "b3fd8858",
   "metadata": {},
   "source": [
    "The following diagram shows the state of the new object. "
   ]
  },
  {
   "cell_type": "code",
   "execution_count": 4,
   "id": "3eb47826",
   "metadata": {
    "tags": []
   },
   "outputs": [],
   "source": []
  },
  {
   "cell_type": "code",
   "execution_count": 5,
   "id": "6702a353",
   "metadata": {
    "tags": []
   },
   "outputs": [],
   "source": []
  },
  {
   "cell_type": "markdown",
   "id": "713b7410",
   "metadata": {},
   "source": [
    "As usual, a programmer-defined type is represented by a box with the name of the type outside and the attributes inside.\n",
    "\n",
    "In general, programmer-defined types are mutable, so we can write a method like `translate` that takes two numbers, `dx` and `dy`, and adds them to the attributes `x` and `y`."
   ]
  },
  {
   "cell_type": "code",
   "execution_count": 6,
   "id": "0f710c4f",
   "metadata": {},
   "outputs": [],
   "source": []
  },
  {
   "cell_type": "markdown",
   "id": "4d183292",
   "metadata": {},
   "source": [
    "This function translates the `Point` from one location in the plane to another.\n",
    "If we don't want to modify an existing `Point`, we can use `copy` to copy the original object and then modify the copy."
   ]
  },
  {
   "cell_type": "code",
   "execution_count": 7,
   "id": "6e37126b",
   "metadata": {},
   "outputs": [],
   "source": []
  },
  {
   "cell_type": "markdown",
   "id": "562567c2",
   "metadata": {},
   "source": [
    "We can encapsulate those steps in another method called `translated`."
   ]
  },
  {
   "cell_type": "code",
   "execution_count": 8,
   "id": "f38bfaaa",
   "metadata": {},
   "outputs": [],
   "source": []
  },
  {
   "cell_type": "markdown",
   "id": "a7a635ee",
   "metadata": {},
   "source": [
    "In the same way that the built in function `sort` modifies a list, and the `sorted` function creates a new list, now we have a `translate` method that modifies a `Point` and a `translated` method that creates a new one.\n",
    "\n",
    "Here's an example:"
   ]
  },
  {
   "cell_type": "code",
   "execution_count": 9,
   "id": "cef864a6",
   "metadata": {},
   "outputs": [],
   "source": []
  },
  {
   "cell_type": "markdown",
   "id": "923362d2",
   "metadata": {},
   "source": [
    "In the next section, we'll use these points to define and draw a line."
   ]
  },
  {
   "cell_type": "markdown",
   "id": "837f98fd",
   "metadata": {},
   "source": [
    "## Creating a Line\n",
    "\n",
    "Now let's define a class that represents the line segment between two points.\n",
    "As usual, we'll start with an `__init__` method and a `__str__` method."
   ]
  },
  {
   "cell_type": "code",
   "execution_count": 10,
   "id": "6ae012a1",
   "metadata": {},
   "outputs": [],
   "source": []
  },
  {
   "cell_type": "markdown",
   "id": "d7dad30e",
   "metadata": {},
   "source": [
    "With those two methods, we can instantiate and display a `Line` object we'll use to represent the `x` axis."
   ]
  },
  {
   "cell_type": "code",
   "execution_count": 11,
   "id": "39b2ae2a",
   "metadata": {},
   "outputs": [],
   "source": []
  },
  {
   "cell_type": "markdown",
   "id": "e7b5fd9a",
   "metadata": {},
   "source": [
    "When we call `print` and pass `line` as a parameter, `print` invokes `__str__` on `line`.\n",
    "The `__str__` method uses an f-string to create a string representation of the `line`. \n",
    "\n",
    "The f-string contains two expressions in curly braces, `self.p1` and `self.p2`.\n",
    "When those expressions are evaluated, the results are `Point` objects.\n",
    "Then, when they are converted to strings, the `__str__` method from the `Point` class gets invoked.\n",
    "\n",
    "That's why, when we display a `Line`, the result contains the string representations of the `Point` objects.\n",
    "\n",
    "The following object diagram shows the state of this `Line` object."
   ]
  },
  {
   "cell_type": "code",
   "execution_count": 12,
   "id": "dee93202",
   "metadata": {
    "tags": []
   },
   "outputs": [],
   "source": []
  },
  {
   "cell_type": "code",
   "execution_count": 13,
   "id": "43682c57",
   "metadata": {
    "tags": []
   },
   "outputs": [],
   "source": []
  },
  {
   "cell_type": "markdown",
   "id": "079859b5",
   "metadata": {},
   "source": [
    "String representations and object diagrams are useful for debugging, but the point of this example is to generate graphics, not text!\n",
    "So we'll use the `jupyturtle` module to draw lines on the screen.\n",
    "\n",
    "As we did in [Chapter 4](section_turtle_module), we'll use `make_turtle` to create a `Turtle` object and a small canvas where it can draw.\n",
    "To draw lines, we'll use two new functions from the `jupyturtle` module:\n",
    "\n",
    "* `jumpto`, which takes two coordinates and moves the `Turtle` to the given location without drawing a line, and \n",
    "\n",
    "* `moveto`, which moves the `Turtle` from its current location to the given location, and draws a line segment between them.\n",
    "\n",
    "Here's how we import them."
   ]
  },
  {
   "cell_type": "code",
   "execution_count": 14,
   "id": "5225d870",
   "metadata": {},
   "outputs": [],
   "source": []
  },
  {
   "cell_type": "markdown",
   "id": "9d2dd88f",
   "metadata": {},
   "source": [
    "And here's a method that draws a `Line`."
   ]
  },
  {
   "cell_type": "code",
   "execution_count": 15,
   "id": "999843cb",
   "metadata": {},
   "outputs": [],
   "source": []
  },
  {
   "cell_type": "markdown",
   "id": "2341f0e0",
   "metadata": {},
   "source": [
    "To show how it's used, I'll create a second line that represents the `y` axis."
   ]
  },
  {
   "cell_type": "code",
   "execution_count": 16,
   "id": "6ac10ec7",
   "metadata": {},
   "outputs": [],
   "source": []
  },
  {
   "cell_type": "markdown",
   "id": "d7450736",
   "metadata": {},
   "source": [
    "And then draw the axes."
   ]
  },
  {
   "cell_type": "code",
   "execution_count": 17,
   "id": "b15b70dd",
   "metadata": {},
   "outputs": [],
   "source": []
  },
  {
   "cell_type": "markdown",
   "id": "473c156f",
   "metadata": {},
   "source": [
    "As we define and draw more objects, we'll use these lines again.\n",
    "But first let's talk about object equivalence and identity."
   ]
  },
  {
   "cell_type": "markdown",
   "id": "950da673",
   "metadata": {},
   "source": [
    "## Equivalence and identity\n",
    "\n",
    "Suppose we create two points with the same coordinates."
   ]
  },
  {
   "cell_type": "code",
   "execution_count": 18,
   "id": "62414805",
   "metadata": {},
   "outputs": [],
   "source": []
  },
  {
   "cell_type": "markdown",
   "id": "82b14526",
   "metadata": {},
   "source": [
    "If we use the `==` operator to compare them, we get the default behavior for programmer-defined types -- the result is `True` only if they are the same object, which they are not."
   ]
  },
  {
   "cell_type": "code",
   "execution_count": 19,
   "id": "7c611eb2",
   "metadata": {},
   "outputs": [],
   "source": []
  },
  {
   "cell_type": "markdown",
   "id": "96be0ff8",
   "metadata": {},
   "source": [
    "If we want to change that behavior, we can provide a special method called `__eq__` that defines what it means for two `Point` objects to be equal."
   ]
  },
  {
   "cell_type": "code",
   "execution_count": 20,
   "id": "3a976072",
   "metadata": {},
   "outputs": [],
   "source": []
  },
  {
   "cell_type": "markdown",
   "id": "7f4409de",
   "metadata": {},
   "source": [
    "This definition considers two `Points` to be equal if their attributes are equal.\n",
    "Now when we use the `==` operator, it invokes the `__eq__` method, which indicates that `p1` and `p2` are considered equal."
   ]
  },
  {
   "cell_type": "code",
   "execution_count": 21,
   "id": "7660d756",
   "metadata": {},
   "outputs": [],
   "source": []
  },
  {
   "cell_type": "markdown",
   "id": "52662e6a",
   "metadata": {},
   "source": [
    "But the `is` operator still indicates that they are different objects."
   ]
  },
  {
   "cell_type": "code",
   "execution_count": 22,
   "id": "e76ff9ef",
   "metadata": {},
   "outputs": [],
   "source": []
  },
  {
   "cell_type": "markdown",
   "id": "c008d3dd",
   "metadata": {},
   "source": [
    "It's not possible to override the `is` operator -- it always checks whether the objects are **identical**.\n",
    "But for programmer-defined types, you can override the `==` operator so it checks whether the objects are **equivalent**.\n",
    "And you can define what equivalent means."
   ]
  },
  {
   "cell_type": "markdown",
   "id": "893a8cab",
   "metadata": {},
   "source": [
    "## Creating a Rectangle\n",
    "\n",
    "Now let's define a class that represents and draws rectangles.\n",
    "To keep things simple, we'll assume that the rectangles are either vertical or horizontal, not at an angle.\n",
    "What attributes do you think we should use to specify the location and size of a rectangle?\n",
    "\n",
    "There are at least two possibilities:\n",
    "\n",
    "-   You could specify the width and height of the rectangle and the location of one corner.\n",
    "\n",
    "-   You could specify two opposing corners.\n",
    "\n",
    "At this point it's hard to say whether either is better than the other, so let's implement the first one.\n",
    "Here is the class definition."
   ]
  },
  {
   "cell_type": "code",
   "execution_count": 23,
   "id": "c2a2aa29",
   "metadata": {},
   "outputs": [],
   "source": []
  },
  {
   "cell_type": "markdown",
   "id": "df2852f3",
   "metadata": {},
   "source": [
    "As usual, the `__init__` method assigns the parameters to attributes and the `__str__` returns a string representation of the object.\n",
    "Now we can instantiate a `Rectangle` object, using a `Point` as the location of the upper-left corner."
   ]
  },
  {
   "cell_type": "code",
   "execution_count": 24,
   "id": "5d36d561",
   "metadata": {},
   "outputs": [],
   "source": []
  },
  {
   "cell_type": "markdown",
   "id": "a9e0b5ec",
   "metadata": {},
   "source": [
    "The following diagram shows the state of this object."
   ]
  },
  {
   "cell_type": "code",
   "execution_count": 25,
   "id": "6e47d99a",
   "metadata": {
    "tags": []
   },
   "outputs": [],
   "source": []
  },
  {
   "cell_type": "code",
   "execution_count": 26,
   "id": "1e7e4a72",
   "metadata": {
    "tags": []
   },
   "outputs": [],
   "source": []
  },
  {
   "cell_type": "markdown",
   "id": "bb54e6b5",
   "metadata": {},
   "source": [
    "To draw a rectangle, we'll use the following method to make four `Point` objects to represent the corners."
   ]
  },
  {
   "cell_type": "code",
   "execution_count": 27,
   "id": "8fb74cd8",
   "metadata": {},
   "outputs": [],
   "source": []
  },
  {
   "cell_type": "markdown",
   "id": "20dbe0cb",
   "metadata": {},
   "source": [
    "Then we'll make four `Line` objects to represent the sides."
   ]
  },
  {
   "cell_type": "code",
   "execution_count": 28,
   "id": "1c419c73",
   "metadata": {},
   "outputs": [],
   "source": []
  },
  {
   "cell_type": "markdown",
   "id": "30fe41cc",
   "metadata": {},
   "source": [
    "Then we'll draw the sides."
   ]
  },
  {
   "cell_type": "code",
   "execution_count": 29,
   "id": "5ceccb7d",
   "metadata": {},
   "outputs": [],
   "source": []
  },
  {
   "cell_type": "markdown",
   "id": "390ba3e7",
   "metadata": {},
   "source": [
    "Here's an example."
   ]
  },
  {
   "cell_type": "code",
   "execution_count": 30,
   "id": "2870c782",
   "metadata": {},
   "outputs": [],
   "source": []
  },
  {
   "cell_type": "markdown",
   "id": "532a4f69",
   "metadata": {},
   "source": [
    "The figure includes two lines to represent the axes."
   ]
  },
  {
   "cell_type": "markdown",
   "id": "0e713a90",
   "metadata": {},
   "source": [
    "## Changing rectangles\n",
    "\n",
    "Now let's consider two methods that modify rectangles, `grow` and `translate`.\n",
    "We'll see that `grow` works as expected, but `translate` has a subtle bug.\n",
    "See if you can figure it out before I explain.\n",
    "\n",
    "`grow` takes two numbers, `dwidth` and `dheight`, and adds them to the `width` and `height` attributes of the rectangle."
   ]
  },
  {
   "cell_type": "code",
   "execution_count": 31,
   "id": "21537ed7",
   "metadata": {},
   "outputs": [],
   "source": []
  },
  {
   "cell_type": "markdown",
   "id": "a51913e2",
   "metadata": {},
   "source": [
    "Here's an example that demonstrates the effect by making a copy of `box1` and invoking `grow` on the copy."
   ]
  },
  {
   "cell_type": "code",
   "execution_count": 32,
   "id": "243ca804",
   "metadata": {},
   "outputs": [],
   "source": []
  },
  {
   "cell_type": "markdown",
   "id": "6d74da62",
   "metadata": {},
   "source": [
    "If we draw `box1` and `box2`, we can confirm that `grow` works as expected."
   ]
  },
  {
   "cell_type": "code",
   "execution_count": 33,
   "id": "110f995f",
   "metadata": {},
   "outputs": [],
   "source": []
  },
  {
   "cell_type": "markdown",
   "id": "0c940008",
   "metadata": {},
   "source": [
    "Now let's see about `translate`.\n",
    "It takes two numbers, `dx` and `dy`, and moves the rectangle the given distances in the `x` and `y` directions. "
   ]
  },
  {
   "cell_type": "code",
   "execution_count": 34,
   "id": "8a5e7e73",
   "metadata": {},
   "outputs": [],
   "source": []
  },
  {
   "cell_type": "markdown",
   "id": "c27fe91d",
   "metadata": {},
   "source": [
    "To demonstrate the effect, we'll translate `box2` to the right and down."
   ]
  },
  {
   "cell_type": "code",
   "execution_count": 35,
   "id": "78b9e344",
   "metadata": {},
   "outputs": [],
   "source": []
  },
  {
   "cell_type": "markdown",
   "id": "e01badbc",
   "metadata": {},
   "source": [
    "Now let's see what happens if we draw `box1` and `box2` again."
   ]
  },
  {
   "cell_type": "code",
   "execution_count": 36,
   "id": "b70bcad9",
   "metadata": {},
   "outputs": [],
   "source": []
  },
  {
   "cell_type": "markdown",
   "id": "5310bdd7",
   "metadata": {},
   "source": [
    "It looks like both rectangles moved, which is not what we intended!\n",
    "The next section explains what went wrong."
   ]
  },
  {
   "cell_type": "markdown",
   "id": "940adbeb",
   "metadata": {},
   "source": [
    "## Deep copy\n",
    "\n",
    "When we use `copy` to duplicate `box1`, it copies the `Rectangle` object but not the `Point` object it contains.\n",
    "So `box1` and `box2` are different objects, as intended."
   ]
  },
  {
   "cell_type": "code",
   "execution_count": 37,
   "id": "b67ce168",
   "metadata": {},
   "outputs": [],
   "source": []
  },
  {
   "cell_type": "markdown",
   "id": "eac5309b",
   "metadata": {},
   "source": [
    "But their `corner` attributes refer to the same object."
   ]
  },
  {
   "cell_type": "code",
   "execution_count": 38,
   "id": "1d9cf4da",
   "metadata": {},
   "outputs": [],
   "source": []
  },
  {
   "cell_type": "markdown",
   "id": "f0cc51b5",
   "metadata": {},
   "source": [
    "The following diagram shows the state of these objects."
   ]
  },
  {
   "cell_type": "code",
   "execution_count": 39,
   "id": "6d883459",
   "metadata": {
    "tags": []
   },
   "outputs": [],
   "source": []
  },
  {
   "cell_type": "code",
   "execution_count": 40,
   "id": "637042fb",
   "metadata": {
    "tags": []
   },
   "outputs": [],
   "source": []
  },
  {
   "cell_type": "markdown",
   "id": "35f3e7e1",
   "metadata": {},
   "source": [
    "What `copy` does is called a **shallow copy** because it copies the object but not the objects it contains.\n",
    "As a result, changing the `width` or `height` of one `Rectangle` does not affect the other, but changing the attributes of the shared `Point` affects both!\n",
    "This behavior is confusing and error-prone.\n",
    "\n",
    "Fortunately, the `copy` module provides another function, called `deepcopy`, that copies not only the object but also the objects it refers to, and the objects *they* refer to, and so on. \n",
    "This operation is called a **deep copy**.\n",
    "\n",
    "To demonstrate, let's start with a new `Rectangle` that contains a new `Point`."
   ]
  },
  {
   "cell_type": "code",
   "execution_count": 41,
   "id": "168277a9",
   "metadata": {},
   "outputs": [],
   "source": []
  },
  {
   "cell_type": "markdown",
   "id": "ff9ee872",
   "metadata": {},
   "source": [
    "And we'll make a deep copy."
   ]
  },
  {
   "cell_type": "code",
   "execution_count": 42,
   "id": "75219ef6",
   "metadata": {},
   "outputs": [],
   "source": []
  },
  {
   "cell_type": "markdown",
   "id": "7efd0e6a",
   "metadata": {},
   "source": [
    "We can confirm that the two `Rectangle` objects refer to different `Point` objects."
   ]
  },
  {
   "cell_type": "code",
   "execution_count": 43,
   "id": "fde2486c",
   "metadata": {},
   "outputs": [],
   "source": []
  },
  {
   "cell_type": "markdown",
   "id": "ca925206",
   "metadata": {},
   "source": [
    "Because `box3` and `box4` are completely separate objects, we can modify one without affecting the other.\n",
    "To demonstrate, we'll move `box3` and grow `box4`."
   ]
  },
  {
   "cell_type": "code",
   "execution_count": 44,
   "id": "3f6d1d6b",
   "metadata": {},
   "outputs": [],
   "source": []
  },
  {
   "cell_type": "markdown",
   "id": "3ff31c7c",
   "metadata": {},
   "source": [
    "And we can confirm that the effect is as expected."
   ]
  },
  {
   "cell_type": "code",
   "execution_count": 45,
   "id": "092ded2c",
   "metadata": {},
   "outputs": [],
   "source": []
  },
  {
   "cell_type": "markdown",
   "id": "67051d62",
   "metadata": {},
   "source": [
    "## Polymorphism\n",
    "\n",
    "In the previous example, we invoked the `draw` method on two `Line` objects and two `Rectangle` objects.\n",
    "We can do the same thing more concisely by making a list of objects."
   ]
  },
  {
   "cell_type": "code",
   "execution_count": 46,
   "id": "c846343c",
   "metadata": {},
   "outputs": [],
   "source": []
  },
  {
   "cell_type": "markdown",
   "id": "773955dd",
   "metadata": {},
   "source": [
    "The elements of this list are different types, but they all provide a `draw` method, so we can loop through the list and invoke `draw` on each one."
   ]
  },
  {
   "cell_type": "code",
   "execution_count": 47,
   "id": "10912b62",
   "metadata": {},
   "outputs": [],
   "source": []
  },
  {
   "cell_type": "markdown",
   "id": "a1ae190c",
   "metadata": {},
   "source": [
    "The first and second time through the loop, `shape` refers to a `Line` object, so when `draw` is invoked, the method that runs is the one defined in the `Line` class.\n",
    "\n",
    "The third and fourth time through the loop, `shape` refers to a `Rectangle` object, so when `draw` is invoked, the method that runs is the one defined in the `Rectangle` class.\n",
    "\n",
    "In a sense, each object knows how to draw itself.\n",
    "This feature is called **polymorphism**.\n",
    "The word comes from Greek roots that mean \"many shaped\".\n",
    "In object-oriented programming, polymorphism is the ability of different types to provide the same methods, which makes it possible to perform many computations -- like drawing shapes -- by invoking the same method on different types of objects.\n",
    "\n",
    "As an exercise at the end of this chapter, you'll define a new class that represents a circle and provides a `draw` method.\n",
    "Then you can use polymorphism to draw lines, rectangles, and circles."
   ]
  },
  {
   "cell_type": "markdown",
   "id": "74d1b48f",
   "metadata": {},
   "source": [
    "## Debugging\n",
    "\n",
    "In this chapter, we ran into a subtle bug that happened because we created a `Point` that was shared by two `Rectangle` objects, and then we modified the `Point`.\n",
    "In general, there are two ways to avoid problems like this: you can avoid sharing objects or you can avoid modifying them.\n",
    "\n",
    "To avoid sharing objects, you can use deep copy, as we did in this chapter.\n",
    "\n",
    "To avoid modifying objects, consider replacing modifiers like `translate` with pure functions like `translated`.\n",
    "For example, here's a version of `translated` that creates a new `Point` and never modifies its attributes."
   ]
  },
  {
   "cell_type": "code",
   "execution_count": 48,
   "id": "c803c91a",
   "metadata": {},
   "outputs": [],
   "source": []
  },
  {
   "cell_type": "markdown",
   "id": "76972167",
   "metadata": {},
   "source": [
    "Python provides features that make it easier to avoid modifying objects.\n",
    "They are beyond the scope of this book, but if you are curious, ask a virtual assistant, \"How do I make a Python object immutable?\"\n",
    "\n",
    "Creating a new object takes more time than modifying an existing one, but the difference seldom matters in practice.\n",
    "Programs that avoid shared objects and modifiers are often easier to develop, test, and debug -- and the best kind of debugging is the kind you don't have to do."
   ]
  },
  {
   "cell_type": "markdown",
   "id": "02106995",
   "metadata": {},
   "source": [
    "## Glossary\n",
    "\n",
    "**identical:**\n",
    "Being the same object (which implies equivalence).\n",
    "\n",
    "**equivalent:**\n",
    "Having the same value.\n",
    "\n",
    "**shallow copy:**\n",
    "A copy operation that does not copy nested objects.\n",
    "\n",
    "**deep copy:**\n",
    "A copy operation that also copies nested objects.\n",
    "\n",
    "**polymorphism:**\n",
    "The ability of a method or operator to work with multiple types of objects."
   ]
  },
  {
   "cell_type": "markdown",
   "id": "09dd41c1",
   "metadata": {},
   "source": [
    "## Exercises"
   ]
  },
  {
   "cell_type": "code",
   "execution_count": null,
   "id": "32b151a5",
   "metadata": {
    "tags": []
   },
   "outputs": [],
   "source": []
  },
  {
   "cell_type": "markdown",
   "id": "da0aea86",
   "metadata": {},
   "source": [
    "### Ask a virtual assistant\n",
    "\n",
    "For all of the following exercises, consider asking a virtual assistant for help.\n",
    "If you do, you'll want include as part of the prompt the class definitions for `Point`, `Line`, and `Rectangle` -- otherwise the VA will make a guess about their attributes and functions, and the code it generates won't work."
   ]
  },
  {
   "cell_type": "markdown",
   "id": "7721e47b",
   "metadata": {},
   "source": [
    "### Exercise\n",
    "\n",
    "Write an `__eq__` method for the `Line` class that returns `True` if the `Line` objects refer to `Point` objects that are equivalent, in either order."
   ]
  },
  {
   "cell_type": "markdown",
   "id": "2e488e0f",
   "metadata": {
    "tags": []
   },
   "source": [
    "You can use the following outline to get started."
   ]
  },
  {
   "cell_type": "code",
   "execution_count": 49,
   "id": "92c07380",
   "metadata": {
    "tags": []
   },
   "outputs": [],
   "source": []
  },
  {
   "cell_type": "code",
   "execution_count": 50,
   "id": "a99446c4",
   "metadata": {
    "tags": []
   },
   "outputs": [],
   "source": []
  },
  {
   "cell_type": "markdown",
   "id": "3a44e45a",
   "metadata": {
    "tags": []
   },
   "source": [
    "You can use these examples to test your code."
   ]
  },
  {
   "cell_type": "code",
   "execution_count": 51,
   "id": "aa086dd1",
   "metadata": {
    "tags": []
   },
   "outputs": [],
   "source": []
  },
  {
   "cell_type": "markdown",
   "id": "e825f049",
   "metadata": {
    "tags": []
   },
   "source": [
    "This example should be `True` because the `Line` objects refer to `Point` objects that are equivalent, in the same order."
   ]
  },
  {
   "cell_type": "code",
   "execution_count": 52,
   "id": "857cba26",
   "metadata": {
    "tags": []
   },
   "outputs": [],
   "source": []
  },
  {
   "cell_type": "markdown",
   "id": "c3d8fb2b",
   "metadata": {
    "tags": []
   },
   "source": [
    "This example should be `True` because the `Line` objects refer to `Point` objects that are equivalent, in reverse order."
   ]
  },
  {
   "cell_type": "code",
   "execution_count": 53,
   "id": "b45def0a",
   "metadata": {
    "tags": []
   },
   "outputs": [],
   "source": []
  },
  {
   "cell_type": "markdown",
   "id": "8c9c787b",
   "metadata": {
    "tags": []
   },
   "source": [
    "Equivalence should always be transitive -- that is, if `line_a` and `line_b` are equivalent, and `line_a` and `line_c` are equivalent, then `line_b` and `line_c` should also be equivalent."
   ]
  },
  {
   "cell_type": "code",
   "execution_count": 54,
   "id": "9784300c",
   "metadata": {
    "tags": []
   },
   "outputs": [],
   "source": []
  },
  {
   "cell_type": "markdown",
   "id": "d4f385fa",
   "metadata": {
    "tags": []
   },
   "source": [
    "This example should be `False` because the `Line` objects refer to `Point` objects that are not equivalent."
   ]
  },
  {
   "cell_type": "code",
   "execution_count": 55,
   "id": "5435c8e4",
   "metadata": {
    "tags": []
   },
   "outputs": [],
   "source": []
  },
  {
   "cell_type": "markdown",
   "id": "0e629491",
   "metadata": {},
   "source": [
    "### Exercise\n",
    "\n",
    "Write a `Line` method called `midpoint` that computes the midpoint of a line segment and returns the result as a `Point` object."
   ]
  },
  {
   "cell_type": "markdown",
   "id": "b8c52d19",
   "metadata": {
    "tags": []
   },
   "source": [
    "You can use the following outline to get started."
   ]
  },
  {
   "cell_type": "code",
   "execution_count": 56,
   "id": "f377afbb",
   "metadata": {
    "tags": []
   },
   "outputs": [],
   "source": []
  },
  {
   "cell_type": "code",
   "execution_count": 57,
   "id": "96d81b90",
   "metadata": {
    "tags": []
   },
   "outputs": [],
   "source": []
  },
  {
   "cell_type": "markdown",
   "id": "4df69a9f",
   "metadata": {
    "tags": []
   },
   "source": [
    "You can use the following examples to test your code and draw the result."
   ]
  },
  {
   "cell_type": "code",
   "execution_count": 58,
   "id": "0d603aa3",
   "metadata": {
    "tags": []
   },
   "outputs": [],
   "source": []
  },
  {
   "cell_type": "code",
   "execution_count": 59,
   "id": "647d0982",
   "metadata": {
    "tags": []
   },
   "outputs": [],
   "source": []
  },
  {
   "cell_type": "code",
   "execution_count": 60,
   "id": "e351bea3",
   "metadata": {
    "tags": []
   },
   "outputs": [],
   "source": []
  },
  {
   "cell_type": "code",
   "execution_count": 61,
   "id": "5ad5a076",
   "metadata": {
    "tags": []
   },
   "outputs": [],
   "source": []
  },
  {
   "cell_type": "code",
   "execution_count": 62,
   "id": "8effaff0",
   "metadata": {
    "tags": []
   },
   "outputs": [],
   "source": []
  },
  {
   "cell_type": "markdown",
   "id": "0518c200",
   "metadata": {},
   "source": [
    "### Exercise\n",
    "\n",
    "Write a `Rectangle` method called `midpoint` that find the point in the center of a rectangle and returns the result as a `Point` object."
   ]
  },
  {
   "cell_type": "markdown",
   "id": "c586a3ed",
   "metadata": {
    "tags": []
   },
   "source": [
    "You can use the following outline to get started."
   ]
  },
  {
   "cell_type": "code",
   "execution_count": 63,
   "id": "d94a6350",
   "metadata": {
    "tags": []
   },
   "outputs": [],
   "source": []
  },
  {
   "cell_type": "code",
   "execution_count": 64,
   "id": "de6756da",
   "metadata": {
    "tags": []
   },
   "outputs": [],
   "source": []
  },
  {
   "cell_type": "markdown",
   "id": "d186c84b",
   "metadata": {
    "tags": []
   },
   "source": [
    "You can use the following example to test your code."
   ]
  },
  {
   "cell_type": "code",
   "execution_count": 65,
   "id": "4aec759c",
   "metadata": {
    "tags": []
   },
   "outputs": [],
   "source": []
  },
  {
   "cell_type": "code",
   "execution_count": 66,
   "id": "7ec3339d",
   "metadata": {
    "tags": []
   },
   "outputs": [],
   "source": []
  },
  {
   "cell_type": "code",
   "execution_count": 67,
   "id": "326dbf24",
   "metadata": {
    "tags": []
   },
   "outputs": [],
   "source": []
  },
  {
   "cell_type": "code",
   "execution_count": 68,
   "id": "4da710d4",
   "metadata": {
    "tags": []
   },
   "outputs": [],
   "source": []
  },
  {
   "cell_type": "markdown",
   "id": "00cbc4d9",
   "metadata": {},
   "source": [
    "### Exercise\n",
    "\n",
    "Write a `Rectangle` method called `make_cross` that:\n",
    "\n",
    "1. Uses `make_lines` to get a list of `Line` objects that represent the four sides of the rectangle.\n",
    "\n",
    "2. Computes the midpoints of the four lines.\n",
    "\n",
    "3. Makes and returns a list of two `Line` objects that represent lines connecting opposite midpoints, forming a cross through the middle of the rectangle."
   ]
  },
  {
   "cell_type": "markdown",
   "id": "29e994c6",
   "metadata": {
    "tags": []
   },
   "source": [
    "You can use this outline to get started."
   ]
  },
  {
   "cell_type": "code",
   "execution_count": 69,
   "id": "30cc0726",
   "metadata": {
    "tags": []
   },
   "outputs": [],
   "source": []
  },
  {
   "cell_type": "code",
   "execution_count": 70,
   "id": "6cdde16e",
   "metadata": {
    "tags": []
   },
   "outputs": [],
   "source": []
  },
  {
   "cell_type": "markdown",
   "id": "970fcbca",
   "metadata": {
    "tags": []
   },
   "source": [
    "You can use the following example to test your code."
   ]
  },
  {
   "cell_type": "code",
   "execution_count": 71,
   "id": "2afd718c",
   "metadata": {
    "tags": []
   },
   "outputs": [],
   "source": []
  },
  {
   "cell_type": "code",
   "execution_count": 72,
   "id": "b7bdb467",
   "metadata": {
    "tags": []
   },
   "outputs": [],
   "source": []
  },
  {
   "cell_type": "code",
   "execution_count": 73,
   "id": "9d09b2c3",
   "metadata": {
    "tags": []
   },
   "outputs": [],
   "source": []
  },
  {
   "cell_type": "markdown",
   "id": "0f707fe3",
   "metadata": {},
   "source": [
    "### Exercise\n",
    "\n",
    "Write a definition for a class named `Circle` with attributes `center` and `radius`, where `center` is a Point object and `radius` is a number.\n",
    "Include special methods `__init__` and a `__str__`, and a method called `draw` that uses `jupyturtle` functions to draw the circle."
   ]
  },
  {
   "cell_type": "markdown",
   "id": "cb1b24a3",
   "metadata": {
    "tags": []
   },
   "source": [
    "You can use the following function, which is a version of the `circle` function we wrote in Chapter 4."
   ]
  },
  {
   "cell_type": "code",
   "execution_count": 74,
   "id": "b3d2328f",
   "metadata": {
    "tags": []
   },
   "outputs": [],
   "source": []
  },
  {
   "cell_type": "code",
   "execution_count": 75,
   "id": "189c30d4",
   "metadata": {},
   "outputs": [],
   "source": []
  },
  {
   "cell_type": "markdown",
   "id": "b4325143",
   "metadata": {
    "tags": []
   },
   "source": [
    "You can use the following example to test your code.\n",
    "We'll start with a square `Rectangle` with width and height `100`."
   ]
  },
  {
   "cell_type": "code",
   "execution_count": 76,
   "id": "49074ed5",
   "metadata": {
    "tags": []
   },
   "outputs": [],
   "source": []
  },
  {
   "cell_type": "markdown",
   "id": "2cdecfa9",
   "metadata": {
    "tags": []
   },
   "source": [
    "The following code should create a `Circle` that fits inside the square."
   ]
  },
  {
   "cell_type": "code",
   "execution_count": 77,
   "id": "d65a9163",
   "metadata": {
    "tags": []
   },
   "outputs": [],
   "source": []
  },
  {
   "cell_type": "markdown",
   "id": "37e94d98",
   "metadata": {
    "tags": []
   },
   "source": [
    "If everything worked correctly, the following code should draw the circle inside the square (touching on all four sides)."
   ]
  },
  {
   "cell_type": "code",
   "execution_count": 78,
   "id": "e3b23b4d",
   "metadata": {
    "tags": []
   },
   "outputs": [],
   "source": []
  },
  {
   "cell_type": "code",
   "execution_count": null,
   "id": "48abaaae",
   "metadata": {},
   "outputs": [],
   "source": []
  }
 ],
 "metadata": {
  "celltoolbar": "Tags",
  "kernelspec": {
   "display_name": "Python 3 (ipykernel)",
   "language": "python",
   "name": "python3"
  },
  "language_info": {
   "codemirror_mode": {
    "name": "ipython",
    "version": 3
   },
   "file_extension": ".py",
   "mimetype": "text/x-python",
   "name": "python",
   "nbconvert_exporter": "python",
   "pygments_lexer": "ipython3",
   "version": "3.10.14"
  }
 },
 "nbformat": 4,
 "nbformat_minor": 5
}
