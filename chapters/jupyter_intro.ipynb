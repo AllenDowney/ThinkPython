{
 "cells": [
  {
   "cell_type": "markdown",
   "metadata": {
    "id": "WzCwnbY17x0O",
    "tags": []
   },
   "source": [
    "# *Think Python* on Jupyter\n",
    "\n",
    "This is an introduction to Jupyter notebooks for people reading the third edition of [*Think Python*](https://greenteapress.com/wp/think-python-3rd-edition) by Allen B. Downey.\n",
    "\n",
    "A Jupyter notebook is a document that contains text, code, and results from running the code.\n",
    "You can read a notebook like a book, but you can also run the code, modify it, and develop new programs.\n",
    "\n",
    "Jupyter notebooks run in a web browser, so you can run them without installing any new software.\n",
    "But they have to connect to a Jupyter server.\n",
    "\n",
    "You can install and run a server yourself, but to get started it is easier to use a service like [Colab](https://colab.research.google.com/), which is operated by Google.\n",
    "\n",
    "[On the starting page for the book](https://allendowney.github.io/ThinkPython) you will find a link for each chapter.\n",
    "If you click on one of these links, it opens a notebook on Colab."
   ]
  },
  {
   "cell_type": "markdown",
   "metadata": {
    "id": "WzCwnbY17x0O",
    "tags": []
   },
   "source": [
    "If you are reading this notebook on Colab, you should see an orange logo in the upper left that looks like the letters `CO`.\n",
    "\n",
    "If you are not running this notebook on Colab, [you can click here to open it on Colab](https://colab.research.google.com/github/AllenDowney/ThinkPython/blob/v3/chapters/jupyter_intro.ipynb)."
   ]
  },
  {
   "cell_type": "markdown",
   "metadata": {
    "id": "WzCwnbY17x0O",
    "tags": []
   },
   "source": [
    "## What is a notebook?\n",
    "\n",
    "A Jupyter notebook is made up of cells, where each cell contains either text or code.\n",
    "This cell contains text. \n",
    "\n",
    "The following cell contains code."
   ]
  },
  {
   "cell_type": "code",
   "execution_count": 2,
   "metadata": {},
   "outputs": [
    {
     "name": "stdout",
     "output_type": "stream",
     "text": [
      "Hello\n"
     ]
    }
   ],
   "source": [
    "print('Hello')"
   ]
  },
  {
   "cell_type": "markdown",
   "metadata": {
    "id": "WzCwnbY17x0O",
    "tags": []
   },
   "source": [
    "Click on the previous cell to select it.\n",
    "You should see a button on the left with a triangle inside a circle, which is the icon for \"Play\".\n",
    "If you press this button, Jupyter runs the code in the cell and displays the result.\n",
    "\n",
    "When you run code in a notebook for the first time, it might take a few seconds to start.\n",
    "And if it's a notebook you didn't write, you might get a warning message.\n",
    "If you are running a notebook from a source you trust, which I hope includes me, you can press \"Run Anyway\"."
   ]
  },
  {
   "cell_type": "markdown",
   "metadata": {
    "id": "WzCwnbY17x0O",
    "tags": []
   },
   "source": [
    "Instead of clicking the \"Play\" button, you can also run the code in a cell by holding down `Shift` and pressing `Enter`.\n",
    "\n",
    "If you are running this notebook on Colab, you should see buttons in the top left that say \"+ Code\" and \"+ Text\".  The first one adds a code cell and the second adds a text cell.\n",
    "If you want to try them out, select this cell by clicking on it, then press the \"+ Text\" button.\n",
    "A new cell should appear below this one."
   ]
  },
  {
   "cell_type": "markdown",
   "metadata": {
    "id": "WzCwnbY17x0O",
    "tags": []
   },
   "source": [
    "Add some text to the cell.\n",
    "You can use the buttons to format it, or you can mark up the text using [Markdown](https://www.markdownguide.org/basic-syntax/).\n",
    "When you are done, hold down `Shift` and press `Enter`, which will format the text you just typed and then move to the next cell."
   ]
  },
  {
   "cell_type": "markdown",
   "metadata": {},
   "source": [
    "At any time Jupyter is in one of two modes:\n",
    "\n",
    "* In **command mode**, you can perform operations that affect cells, like adding and removing entire cells.\n",
    "\n",
    "* In **edit mode**, you can edit the contents of a cell.\n",
    "\n",
    "With text cells, it is obvious which mode you are in.\n",
    "In edit mode, the cell is split vertically, with the text you are editing on the left and the formatted text on the right.\n",
    "And you'll see text editing tools across the top.\n",
    "In command mode, you see only the formatted text.\n",
    "\n",
    "With code cells, the difference is more subtle, but if there's a cursor in the cell, you are in edit mode.\n",
    "\n",
    "To go from edit mode to command mode, press `ESC`.\n",
    "To go from command mode to edit mode, press `Enter`."
   ]
  },
  {
   "cell_type": "markdown",
   "metadata": {},
   "source": [
    "When you are done working on a notebook, you can close the window, but any changes you have made will disappear.\n",
    "If you make any changes you want to keep, open the File menu in the upper left.\n",
    "You'll see several ways you can save the notebook.\n",
    "\n",
    "* If you have a Google account, you can save the notebook in your Drive.\n",
    "\n",
    "* If you have a GitHub account, you can save it on GitHub.\n",
    "\n",
    "* Or if you want to save the notebook on your computer, select \"Download\" and then \"Download .ipynb\" The suffix \".ipynb\" indicates that it is a notebook file, as opposed to \".py\", which indicates a file that contains Python code only."
   ]
  },
  {
   "cell_type": "markdown",
   "metadata": {},
   "source": [
    "For more about running Jupyter notebooks on Colab, [click here](https://colab.research.google.com/notebooks/basic_features_overview.ipynb).\n",
    "\n",
    "Or, if you are ready to get started, [click here to read Chapter 1](https://colab.research.google.com/github/AllenDowney/ThinkPython/blob/v3/chapters/chap01.ipynb)."
   ]
  },
  {
   "cell_type": "markdown",
   "metadata": {
    "id": "M9yF11G47x0l",
    "tags": []
   },
   "source": [
    "*Think Python*, 3rd edition.\n",
    "\n",
    "Copyright 2023 [Allen B. Downey](https://allendowney.com)\n",
    "\n",
    "License: [Creative Commons Attribution-NonCommercial-ShareAlike 4.0 International](https://creativecommons.org/licenses/by-nc-sa/4.0/)"
   ]
  },
  {
   "cell_type": "code",
   "execution_count": null,
   "metadata": {
    "id": "Cq6EYo057x0l"
   },
   "outputs": [],
   "source": []
  }
 ],
 "metadata": {
  "celltoolbar": "Tags",
  "colab": {
   "provenance": []
  },
  "kernelspec": {
   "display_name": "Python 3 (ipykernel)",
   "language": "python",
   "name": "python3"
  },
  "language_info": {
   "codemirror_mode": {
    "name": "ipython",
    "version": 3
   },
   "file_extension": ".py",
   "mimetype": "text/x-python",
   "name": "python",
   "nbconvert_exporter": "python",
   "pygments_lexer": "ipython3",
   "version": "3.10.11"
  }
 },
 "nbformat": 4,
 "nbformat_minor": 1
}
