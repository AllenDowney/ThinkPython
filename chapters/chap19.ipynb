{
 "cells": [
  {
   "cell_type": "markdown",
   "id": "171aca73",
   "metadata": {},
   "source": [
    "# Final thoughts"
   ]
  },
  {
   "cell_type": "markdown",
   "id": "4d551c99",
   "metadata": {},
   "source": [
    "Learning to program is not easy, but if you made it this far, you are off to a good start.\n",
    "Now I have some suggestions for ways you can keep learning and apply what you have learned.\n",
    "\n",
    "This book is meant to be a general introduction to programming, so we have not focused on specific applications.\n",
    "Depending on your interests, there are any number of areas where you can apply your new skills.\n",
    "\n",
    "If you are interested in Data Science, there are three books of mine you might like:\n",
    "\n",
    "* *Think Stats: Exploratory Data Analysis*, O'Reilly Media, 2014.\n",
    "\n",
    "* *Think Bayes: Bayesian Statistics in Python*, O'Reilly Media, 2021.\n",
    "\n",
    "* *Think DSP: Digital Signal Processing in Python*, O'Reilly Media, 2016."
   ]
  },
  {
   "cell_type": "markdown",
   "id": "cceabe36",
   "metadata": {},
   "source": [
    "If you are interested in physical modeling and complex systems, you might like:\n",
    "\n",
    "* *Modeling and Simulation in Python: An Introduction for Scientists and Engineers*, No Starch Press, 2023.\n",
    "\n",
    "* *Think Complexity: Complexity Science and Computational Modeling*, O'Reilly Media, 2018.\n",
    "\n",
    "These use NumPy, SciPy, pandas, and other Python libraries for data science and scientific computing."
   ]
  },
  {
   "cell_type": "markdown",
   "id": "54a39121",
   "metadata": {},
   "source": [
    "This book tries to find a balance between general principles of programming and details of Python.\n",
    "As a result, it does not include every feature of the Python language.\n",
    "For more about Python, and good advice about how to use it, I recommend *Fluent Python: Clear, Concise, and Effective Programming*, second edition by Luciano Ramalho, O'Reilly Media, 2022.\n",
    "\n",
    "After an introduction to programming, a common next step is to learn about data structures and algorithms.\n",
    "I have a work in progress on this topic, called *Data Structures and Information Retrieval in Python*.\n",
    "A free electronic version is available from Green Tea Press at <https://greenteapress.com>."
   ]
  },
  {
   "cell_type": "markdown",
   "id": "a1598510",
   "metadata": {},
   "source": [
    "As you work on more complex programs, you will encounter new challenges.\n",
    "You might find it helpful to review the sections in this book about debugging.\n",
    "In particular, remember the Five R's of debugging from [Chapter 12](section_debugging_12): reading, running, ruminating, rubber-ducking, and retreating.\n",
    "\n",
    "This book suggests tools to help with debugging, including the `print` and `repr` functions, the `structshape` function in [Chapter 11](section_debugging_11) -- and the built-in functions `isinstance`, `hasattr`, and `vars` in [Chapter 14](section_debugging_14)."
   ]
  },
  {
   "cell_type": "markdown",
   "id": "fb4dd345",
   "metadata": {},
   "source": [
    "It also suggests tools for testing programs, including the `assert` statement, the `doctest` module, and the `unittest` module.\n",
    "Including tests in your programs is one of the best ways to prevent and detect errors, and save time debugging.\n",
    "\n",
    "But the best kind of debugging is the kind you don't have to do.\n",
    "If you use an incremental development process as described in [Chapter 6](section_incremental) -- and test as you go -- you will make fewer errors and find them more quickly when you do.\n",
    "Also, remember encapsulation and generalization from [Chapter 4](section_encapsulation), which is particularly useful when you are developing code in Jupyter notebooks."
   ]
  },
  {
   "cell_type": "markdown",
   "id": "0d29933e",
   "metadata": {},
   "source": [
    "Throughout this book, I've suggested ways to use virtual assistants to help you learn, program, and debug.\n",
    "I hope you are finding these tools useful.\n",
    "\n",
    "In additional to virtual assistants like ChatGPT, you might also want to use a tool like Copilot that autocompletes code as you type.\n",
    "I did not recommend using these tools, initially, because they can be overwhelming for beginners.\n",
    "But you might want to explore them now.\n",
    "\n",
    "Using AI tools effectively requires some experimentation and reflection to find a flow that works for you.\n",
    "If you think it's a nuisance to copy code from ChatGPT to Jupyter, you might prefer something like Copilot.\n",
    "But the cognitive work you do to compose a prompt and interpret the response can be as valuable as the code the tool generates, in the same vein as rubber duck debugging."
   ]
  },
  {
   "cell_type": "markdown",
   "id": "c28d6815",
   "metadata": {},
   "source": [
    "As you gain programming experience, you might want to explore other development environments.\n",
    "I think Jupyter notebooks are a good place to start, but they are relatively new and not as widely-used as conventional integrated development environments (IDE).\n",
    "For Python, the most popular IDEs include PyCharm and Spyder -- and Thonny, which is often recommended for beginners.\n",
    "Other IDEs, like Visual Studio Code and Eclipse, work with other programming languages as well.\n",
    "Or, as a simpler alternative, you can write Python programs using any text editor you like.\n",
    "\n",
    "As you continue your programming journey, you don't have to go alone!\n",
    "If you live in or near a city, there's a good chance there is a Python user group you can join.\n",
    "These groups are usually friendly to beginners, so don't be afraid.\n",
    "If there is no group near you, you might be able to join events remotely.\n",
    "Also, keep an eye out for regional Python conferences."
   ]
  },
  {
   "cell_type": "markdown",
   "id": "28cb22bf",
   "metadata": {},
   "source": [
    "One of the best ways to improve your programming skills is to learn another language.\n",
    "If you are interested in statistics and data science, you might want to learn R.\n",
    "But I particularly recommend learning a functional language like Racket or Elixir.\n",
    "Functional programming requires a different kind of thinking, which changes the way you think about programs.\n",
    "\n",
    "Good luck!"
   ]
  },
  {
   "cell_type": "code",
   "execution_count": null,
   "id": "e2783577",
   "metadata": {},
   "outputs": [],
   "source": []
  }
 ],
 "metadata": {
  "kernelspec": {
   "display_name": "Python 3 (ipykernel)",
   "language": "python",
   "name": "python3"
  },
  "language_info": {
   "codemirror_mode": {
    "name": "ipython",
    "version": 3
   },
   "file_extension": ".py",
   "mimetype": "text/x-python",
   "name": "python",
   "nbconvert_exporter": "python",
   "pygments_lexer": "ipython3",
   "version": "3.10.11"
  }
 },
 "nbformat": 4,
 "nbformat_minor": 5
}
